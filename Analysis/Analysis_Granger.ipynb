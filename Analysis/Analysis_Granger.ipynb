{
 "cells": [
  {
   "cell_type": "markdown",
   "source": [
    "# Analysis of Granger Dataframe"
   ],
   "metadata": {
    "collapsed": false,
    "pycharm": {
     "name": "#%% md\n"
    }
   }
  },
  {
   "cell_type": "markdown",
   "source": [
    "## Imports"
   ],
   "metadata": {
    "collapsed": false,
    "pycharm": {
     "name": "#%% md\n"
    }
   }
  },
  {
   "cell_type": "code",
   "execution_count": 4,
   "outputs": [],
   "source": [
    "# Pandas is an open source data analysis and manipulation tool\n",
    "import pandas as pd\n",
    "\n",
    "import numpy as np"
   ],
   "metadata": {
    "collapsed": false,
    "pycharm": {
     "name": "#%%\n"
    }
   }
  },
  {
   "cell_type": "markdown",
   "source": [
    "## Load Dataframe"
   ],
   "metadata": {
    "collapsed": false,
    "pycharm": {
     "name": "#%% md\n"
    }
   }
  },
  {
   "cell_type": "code",
   "execution_count": 32,
   "outputs": [],
   "source": [
    "Wiki_grangers_news_df = pd.read_csv(\"/Users/jan/Documents/Python_Projects/Bachelorthesis/Analysis/DataFrames/Wikipedia_grangerCauses_News___NOT_Stationary_DataFrame.csv\")"
   ],
   "metadata": {
    "collapsed": false,
    "pycharm": {
     "name": "#%%\n"
    }
   }
  },
  {
   "cell_type": "code",
   "execution_count": 33,
   "outputs": [
    {
     "data": {
      "text/plain": "    keyword_name  ADF_Statistics_wiki  ADF_p_value_wiki  \\\n0             2G            -6.152355      7.509110e-08   \n1       2G-Regel            -1.781506      3.896814e-01   \n2             3G            -5.992842      1.729179e-07   \n3              A           -11.208058      2.159864e-20   \n4             Ab           -12.506757      2.729811e-23   \n..           ...                  ...               ...   \n734        Ärger            -4.321307      4.079498e-04   \n735        Ärzte            -4.486036      2.083853e-04   \n736           Öl            -2.982027      3.660724e-02   \n737   Österreich            -3.359066      1.243600e-02   \n738     Überfall            -2.891698      4.632194e-02   \n\n                              ADF_critical_values_wiki  ADF_Statistics_news  \\\n0    {'1%': -3.4779446621720114, '5%': -2.882415612...            -2.929129   \n1    {'1%': -3.4744158894942156, '5%': -2.880878382...            -2.630608   \n2    {'1%': -3.4776006742422374, '5%': -2.882265832...           -11.614575   \n3    {'1%': -3.473829775724492, '5%': -2.8806228997...           -12.570639   \n4    {'1%': -3.473829775724492, '5%': -2.8806228997...           -10.305089   \n..                                                 ...                  ...   \n734  {'1%': -3.474714913481481, '5%': -2.8810087081...           -11.623479   \n735  {'1%': -3.474714913481481, '5%': -2.8810087081...            -4.323685   \n736  {'1%': -3.476273058920005, '5%': -2.8816876165...            -2.575347   \n737  {'1%': -3.4744158894942156, '5%': -2.880878382...           -12.410791   \n738  {'1%': -3.4750180242954167, '5%': -2.881140802...            -2.906673   \n\n     ADF_p_value_news                           ADF_critical_values_news  \\\n0        4.206405e-02  {'1%': -3.4753253063120644, '5%': -2.881274703...   \n1        8.683474e-02  {'1%': -3.4756368462466662, '5%': -2.881410446...   \n2        2.466558e-21  {'1%': -3.473829775724492, '5%': -2.8806228997...   \n3        2.007762e-23  {'1%': -3.473829775724492, '5%': -2.8806228997...   \n4        3.294816e-18  {'1%': -3.473829775724492, '5%': -2.8806228997...   \n..                ...                                                ...   \n734      2.353854e-21  {'1%': -3.473829775724492, '5%': -2.8806228997...   \n735      4.040804e-04  {'1%': -3.4753253063120644, '5%': -2.881274703...   \n736      9.820030e-02  {'1%': -3.4769274060112707, '5%': -2.881972632...   \n737      4.348386e-23  {'1%': -3.473829775724492, '5%': -2.8806228997...   \n738      4.457749e-02  {'1%': -3.4753253063120644, '5%': -2.881274703...   \n\n     ssr_ftest_pValue_lag1  ssr_ftest_pValue_lag2  ssr_ftest_pValue_lag3  \\\n0                   0.1585                 0.3600                 0.0048   \n1                   0.1055                 0.1347                 0.1522   \n2                   0.3769                 0.4962                 0.2652   \n3                   0.1438                 0.1789                 0.2687   \n4                   0.4711                 0.5616                 0.7634   \n..                     ...                    ...                    ...   \n734                 0.7700                 0.6545                 0.8532   \n735                 0.8806                 0.9645                 0.8392   \n736                 0.1020                 0.3113                 0.5008   \n737                 0.0563                 0.1162                 0.0380   \n738                 0.0657                 0.0216                 0.0109   \n\n     ssr_ftest_pValue_lag4  ssr_ftest_pValue_lag5  ssr_ftest_pValue_lag6  \\\n0                   0.0017                 0.0032                 0.0349   \n1                   0.2006                 0.2409                 0.6093   \n2                   0.2759                 0.2027                 0.4056   \n3                   0.2817                 0.3887                 0.5324   \n4                   0.8286                 0.5584                 0.6787   \n..                     ...                    ...                    ...   \n734                 0.9554                 0.5442                 0.6708   \n735                 0.8997                 0.9237                 0.9612   \n736                 0.6577                 0.6188                 0.5749   \n737                 0.0477                 0.0809                 0.2754   \n738                 0.0338                 0.0337                 0.2215   \n\n     ssr_ftest_pValue_lag7  \n0                   0.0113  \n1                   0.8189  \n2                   0.2055  \n3                   0.5295  \n4                   0.6212  \n..                     ...  \n734                 0.7404  \n735                 0.9705  \n736                 0.6563  \n737                 0.4474  \n738                 0.3361  \n\n[739 rows x 14 columns]",
      "text/html": "<div>\n<style scoped>\n    .dataframe tbody tr th:only-of-type {\n        vertical-align: middle;\n    }\n\n    .dataframe tbody tr th {\n        vertical-align: top;\n    }\n\n    .dataframe thead th {\n        text-align: right;\n    }\n</style>\n<table border=\"1\" class=\"dataframe\">\n  <thead>\n    <tr style=\"text-align: right;\">\n      <th></th>\n      <th>keyword_name</th>\n      <th>ADF_Statistics_wiki</th>\n      <th>ADF_p_value_wiki</th>\n      <th>ADF_critical_values_wiki</th>\n      <th>ADF_Statistics_news</th>\n      <th>ADF_p_value_news</th>\n      <th>ADF_critical_values_news</th>\n      <th>ssr_ftest_pValue_lag1</th>\n      <th>ssr_ftest_pValue_lag2</th>\n      <th>ssr_ftest_pValue_lag3</th>\n      <th>ssr_ftest_pValue_lag4</th>\n      <th>ssr_ftest_pValue_lag5</th>\n      <th>ssr_ftest_pValue_lag6</th>\n      <th>ssr_ftest_pValue_lag7</th>\n    </tr>\n  </thead>\n  <tbody>\n    <tr>\n      <th>0</th>\n      <td>2G</td>\n      <td>-6.152355</td>\n      <td>7.509110e-08</td>\n      <td>{'1%': -3.4779446621720114, '5%': -2.882415612...</td>\n      <td>-2.929129</td>\n      <td>4.206405e-02</td>\n      <td>{'1%': -3.4753253063120644, '5%': -2.881274703...</td>\n      <td>0.1585</td>\n      <td>0.3600</td>\n      <td>0.0048</td>\n      <td>0.0017</td>\n      <td>0.0032</td>\n      <td>0.0349</td>\n      <td>0.0113</td>\n    </tr>\n    <tr>\n      <th>1</th>\n      <td>2G-Regel</td>\n      <td>-1.781506</td>\n      <td>3.896814e-01</td>\n      <td>{'1%': -3.4744158894942156, '5%': -2.880878382...</td>\n      <td>-2.630608</td>\n      <td>8.683474e-02</td>\n      <td>{'1%': -3.4756368462466662, '5%': -2.881410446...</td>\n      <td>0.1055</td>\n      <td>0.1347</td>\n      <td>0.1522</td>\n      <td>0.2006</td>\n      <td>0.2409</td>\n      <td>0.6093</td>\n      <td>0.8189</td>\n    </tr>\n    <tr>\n      <th>2</th>\n      <td>3G</td>\n      <td>-5.992842</td>\n      <td>1.729179e-07</td>\n      <td>{'1%': -3.4776006742422374, '5%': -2.882265832...</td>\n      <td>-11.614575</td>\n      <td>2.466558e-21</td>\n      <td>{'1%': -3.473829775724492, '5%': -2.8806228997...</td>\n      <td>0.3769</td>\n      <td>0.4962</td>\n      <td>0.2652</td>\n      <td>0.2759</td>\n      <td>0.2027</td>\n      <td>0.4056</td>\n      <td>0.2055</td>\n    </tr>\n    <tr>\n      <th>3</th>\n      <td>A</td>\n      <td>-11.208058</td>\n      <td>2.159864e-20</td>\n      <td>{'1%': -3.473829775724492, '5%': -2.8806228997...</td>\n      <td>-12.570639</td>\n      <td>2.007762e-23</td>\n      <td>{'1%': -3.473829775724492, '5%': -2.8806228997...</td>\n      <td>0.1438</td>\n      <td>0.1789</td>\n      <td>0.2687</td>\n      <td>0.2817</td>\n      <td>0.3887</td>\n      <td>0.5324</td>\n      <td>0.5295</td>\n    </tr>\n    <tr>\n      <th>4</th>\n      <td>Ab</td>\n      <td>-12.506757</td>\n      <td>2.729811e-23</td>\n      <td>{'1%': -3.473829775724492, '5%': -2.8806228997...</td>\n      <td>-10.305089</td>\n      <td>3.294816e-18</td>\n      <td>{'1%': -3.473829775724492, '5%': -2.8806228997...</td>\n      <td>0.4711</td>\n      <td>0.5616</td>\n      <td>0.7634</td>\n      <td>0.8286</td>\n      <td>0.5584</td>\n      <td>0.6787</td>\n      <td>0.6212</td>\n    </tr>\n    <tr>\n      <th>...</th>\n      <td>...</td>\n      <td>...</td>\n      <td>...</td>\n      <td>...</td>\n      <td>...</td>\n      <td>...</td>\n      <td>...</td>\n      <td>...</td>\n      <td>...</td>\n      <td>...</td>\n      <td>...</td>\n      <td>...</td>\n      <td>...</td>\n      <td>...</td>\n    </tr>\n    <tr>\n      <th>734</th>\n      <td>Ärger</td>\n      <td>-4.321307</td>\n      <td>4.079498e-04</td>\n      <td>{'1%': -3.474714913481481, '5%': -2.8810087081...</td>\n      <td>-11.623479</td>\n      <td>2.353854e-21</td>\n      <td>{'1%': -3.473829775724492, '5%': -2.8806228997...</td>\n      <td>0.7700</td>\n      <td>0.6545</td>\n      <td>0.8532</td>\n      <td>0.9554</td>\n      <td>0.5442</td>\n      <td>0.6708</td>\n      <td>0.7404</td>\n    </tr>\n    <tr>\n      <th>735</th>\n      <td>Ärzte</td>\n      <td>-4.486036</td>\n      <td>2.083853e-04</td>\n      <td>{'1%': -3.474714913481481, '5%': -2.8810087081...</td>\n      <td>-4.323685</td>\n      <td>4.040804e-04</td>\n      <td>{'1%': -3.4753253063120644, '5%': -2.881274703...</td>\n      <td>0.8806</td>\n      <td>0.9645</td>\n      <td>0.8392</td>\n      <td>0.8997</td>\n      <td>0.9237</td>\n      <td>0.9612</td>\n      <td>0.9705</td>\n    </tr>\n    <tr>\n      <th>736</th>\n      <td>Öl</td>\n      <td>-2.982027</td>\n      <td>3.660724e-02</td>\n      <td>{'1%': -3.476273058920005, '5%': -2.8816876165...</td>\n      <td>-2.575347</td>\n      <td>9.820030e-02</td>\n      <td>{'1%': -3.4769274060112707, '5%': -2.881972632...</td>\n      <td>0.1020</td>\n      <td>0.3113</td>\n      <td>0.5008</td>\n      <td>0.6577</td>\n      <td>0.6188</td>\n      <td>0.5749</td>\n      <td>0.6563</td>\n    </tr>\n    <tr>\n      <th>737</th>\n      <td>Österreich</td>\n      <td>-3.359066</td>\n      <td>1.243600e-02</td>\n      <td>{'1%': -3.4744158894942156, '5%': -2.880878382...</td>\n      <td>-12.410791</td>\n      <td>4.348386e-23</td>\n      <td>{'1%': -3.473829775724492, '5%': -2.8806228997...</td>\n      <td>0.0563</td>\n      <td>0.1162</td>\n      <td>0.0380</td>\n      <td>0.0477</td>\n      <td>0.0809</td>\n      <td>0.2754</td>\n      <td>0.4474</td>\n    </tr>\n    <tr>\n      <th>738</th>\n      <td>Überfall</td>\n      <td>-2.891698</td>\n      <td>4.632194e-02</td>\n      <td>{'1%': -3.4750180242954167, '5%': -2.881140802...</td>\n      <td>-2.906673</td>\n      <td>4.457749e-02</td>\n      <td>{'1%': -3.4753253063120644, '5%': -2.881274703...</td>\n      <td>0.0657</td>\n      <td>0.0216</td>\n      <td>0.0109</td>\n      <td>0.0338</td>\n      <td>0.0337</td>\n      <td>0.2215</td>\n      <td>0.3361</td>\n    </tr>\n  </tbody>\n</table>\n<p>739 rows × 14 columns</p>\n</div>"
     },
     "execution_count": 33,
     "metadata": {},
     "output_type": "execute_result"
    }
   ],
   "source": [
    "Wiki_grangers_news_df"
   ],
   "metadata": {
    "collapsed": false,
    "pycharm": {
     "name": "#%%\n"
    }
   }
  },
  {
   "cell_type": "code",
   "execution_count": 14,
   "outputs": [],
   "source": [
    "cols_to_check = ['ssr_ftest_pValue_lag1']\n",
    "\n",
    "Wiki_grangers_news_df['is_Below'] = np.where(Wiki_grangers_news_df[\"ssr_ftest_pValue_lag1\" or 'ssr_ftest_pValue_lag2' or \"ssr_ftest_pValue_lag3\" or \"ssr_ftest_pValue_lag4\" or \"ssr_ftest_pValue_lag5\" or \"ssr_ftest_pValue_lag6\" or \"ssr_ftest_pValue_lag7\"] <= 0.05, True, False)"
   ],
   "metadata": {
    "collapsed": false,
    "pycharm": {
     "name": "#%%\n"
    }
   }
  },
  {
   "cell_type": "code",
   "execution_count": 15,
   "outputs": [
    {
     "data": {
      "text/plain": "    keyword_name  ADF_Statistics_wiki  ADF_p_value_wiki  \\\n0             2G            -6.152355      7.509110e-08   \n1       2G-Regel            -1.781506      3.896814e-01   \n2             3G            -5.992842      1.729179e-07   \n3              A           -11.208058      2.159864e-20   \n4             Ab           -12.506757      2.729811e-23   \n..           ...                  ...               ...   \n171       Fehler            -3.477189      8.592616e-03   \n172    Festnahme            -8.895083      1.213052e-14   \n173        Feuer            -1.462228      5.521071e-01   \n174    Feuerwehr           -12.473580      3.204768e-23   \n175       Finale           -11.293978      1.357976e-20   \n\n                              ADF_critical_values_wiki  ADF_Statistics_news  \\\n0    {'1%': -3.4779446621720114, '5%': -2.882415612...            -2.929129   \n1    {'1%': -3.4744158894942156, '5%': -2.880878382...            -2.630608   \n2    {'1%': -3.4776006742422374, '5%': -2.882265832...           -11.614575   \n3    {'1%': -3.473829775724492, '5%': -2.8806228997...           -12.570639   \n4    {'1%': -3.473829775724492, '5%': -2.8806228997...           -10.305089   \n..                                                 ...                  ...   \n171  {'1%': -3.476597917537401, '5%': -2.8818291230...            -1.722384   \n172  {'1%': -3.473829775724492, '5%': -2.8806228997...           -10.824323   \n173  {'1%': -3.4759527332353084, '5%': -2.881548071...            -3.292225   \n174  {'1%': -3.473829775724492, '5%': -2.8806228997...            -5.420711   \n175  {'1%': -3.473829775724492, '5%': -2.8806228997...            -2.573500   \n\n     ADF_p_value_news                           ADF_critical_values_news  \\\n0        4.206405e-02  {'1%': -3.4753253063120644, '5%': -2.881274703...   \n1        8.683474e-02  {'1%': -3.4756368462466662, '5%': -2.881410446...   \n2        2.466558e-21  {'1%': -3.473829775724492, '5%': -2.8806228997...   \n3        2.007762e-23  {'1%': -3.473829775724492, '5%': -2.8806228997...   \n4        3.294816e-18  {'1%': -3.473829775724492, '5%': -2.8806228997...   \n..                ...                                                ...   \n171      4.196179e-01  {'1%': -3.476597917537401, '5%': -2.8818291230...   \n172      1.772747e-19  {'1%': -3.473829775724492, '5%': -2.8806228997...   \n173      1.522961e-02  {'1%': -3.474714913481481, '5%': -2.8810087081...   \n174      3.063936e-06  {'1%': -3.474120870218417, '5%': -2.8807497914...   \n175      9.859887e-02  {'1%': -3.4756368462466662, '5%': -2.881410446...   \n\n     ssr_ftest_pValue_lag1  ssr_ftest_pValue_lag2  ssr_ftest_pValue_lag3  \\\n0                   0.1585                 0.3600                 0.0048   \n1                   0.1055                 0.1347                 0.1522   \n2                   0.3769                 0.4962                 0.2652   \n3                   0.1438                 0.1789                 0.2687   \n4                   0.4711                 0.5616                 0.7634   \n..                     ...                    ...                    ...   \n171                 0.2023                 0.4442                 0.4563   \n172                 0.6957                 0.8554                 0.9657   \n173                 0.1290                 0.2194                 0.4550   \n174                 0.7584                 0.5083                 0.5650   \n175                 0.4982                 0.7274                 0.3637   \n\n     ssr_ftest_pValue_lag4  ssr_ftest_pValue_lag5  ssr_ftest_pValue_lag6  \\\n0                   0.0017                 0.0032                 0.0349   \n1                   0.2006                 0.2409                 0.6093   \n2                   0.2759                 0.2027                 0.4056   \n3                   0.2817                 0.3887                 0.5324   \n4                   0.8286                 0.5584                 0.6787   \n..                     ...                    ...                    ...   \n171                 0.5885                 0.6055                 0.6772   \n172                 0.9384                 0.9431                 0.9701   \n173                 0.6792                 0.5203                 0.4068   \n174                 0.7062                 0.7610                 0.8710   \n175                 0.2330                 0.2864                 0.4080   \n\n     ssr_ftest_pValue_lag7  is_Below  \n0                   0.0113     False  \n1                   0.8189     False  \n2                   0.2055     False  \n3                   0.5295     False  \n4                   0.6212     False  \n..                     ...       ...  \n171                 0.8809     False  \n172                 0.9785     False  \n173                 0.5308     False  \n174                 0.8235     False  \n175                 0.4733     False  \n\n[176 rows x 15 columns]",
      "text/html": "<div>\n<style scoped>\n    .dataframe tbody tr th:only-of-type {\n        vertical-align: middle;\n    }\n\n    .dataframe tbody tr th {\n        vertical-align: top;\n    }\n\n    .dataframe thead th {\n        text-align: right;\n    }\n</style>\n<table border=\"1\" class=\"dataframe\">\n  <thead>\n    <tr style=\"text-align: right;\">\n      <th></th>\n      <th>keyword_name</th>\n      <th>ADF_Statistics_wiki</th>\n      <th>ADF_p_value_wiki</th>\n      <th>ADF_critical_values_wiki</th>\n      <th>ADF_Statistics_news</th>\n      <th>ADF_p_value_news</th>\n      <th>ADF_critical_values_news</th>\n      <th>ssr_ftest_pValue_lag1</th>\n      <th>ssr_ftest_pValue_lag2</th>\n      <th>ssr_ftest_pValue_lag3</th>\n      <th>ssr_ftest_pValue_lag4</th>\n      <th>ssr_ftest_pValue_lag5</th>\n      <th>ssr_ftest_pValue_lag6</th>\n      <th>ssr_ftest_pValue_lag7</th>\n      <th>is_Below</th>\n    </tr>\n  </thead>\n  <tbody>\n    <tr>\n      <th>0</th>\n      <td>2G</td>\n      <td>-6.152355</td>\n      <td>7.509110e-08</td>\n      <td>{'1%': -3.4779446621720114, '5%': -2.882415612...</td>\n      <td>-2.929129</td>\n      <td>4.206405e-02</td>\n      <td>{'1%': -3.4753253063120644, '5%': -2.881274703...</td>\n      <td>0.1585</td>\n      <td>0.3600</td>\n      <td>0.0048</td>\n      <td>0.0017</td>\n      <td>0.0032</td>\n      <td>0.0349</td>\n      <td>0.0113</td>\n      <td>False</td>\n    </tr>\n    <tr>\n      <th>1</th>\n      <td>2G-Regel</td>\n      <td>-1.781506</td>\n      <td>3.896814e-01</td>\n      <td>{'1%': -3.4744158894942156, '5%': -2.880878382...</td>\n      <td>-2.630608</td>\n      <td>8.683474e-02</td>\n      <td>{'1%': -3.4756368462466662, '5%': -2.881410446...</td>\n      <td>0.1055</td>\n      <td>0.1347</td>\n      <td>0.1522</td>\n      <td>0.2006</td>\n      <td>0.2409</td>\n      <td>0.6093</td>\n      <td>0.8189</td>\n      <td>False</td>\n    </tr>\n    <tr>\n      <th>2</th>\n      <td>3G</td>\n      <td>-5.992842</td>\n      <td>1.729179e-07</td>\n      <td>{'1%': -3.4776006742422374, '5%': -2.882265832...</td>\n      <td>-11.614575</td>\n      <td>2.466558e-21</td>\n      <td>{'1%': -3.473829775724492, '5%': -2.8806228997...</td>\n      <td>0.3769</td>\n      <td>0.4962</td>\n      <td>0.2652</td>\n      <td>0.2759</td>\n      <td>0.2027</td>\n      <td>0.4056</td>\n      <td>0.2055</td>\n      <td>False</td>\n    </tr>\n    <tr>\n      <th>3</th>\n      <td>A</td>\n      <td>-11.208058</td>\n      <td>2.159864e-20</td>\n      <td>{'1%': -3.473829775724492, '5%': -2.8806228997...</td>\n      <td>-12.570639</td>\n      <td>2.007762e-23</td>\n      <td>{'1%': -3.473829775724492, '5%': -2.8806228997...</td>\n      <td>0.1438</td>\n      <td>0.1789</td>\n      <td>0.2687</td>\n      <td>0.2817</td>\n      <td>0.3887</td>\n      <td>0.5324</td>\n      <td>0.5295</td>\n      <td>False</td>\n    </tr>\n    <tr>\n      <th>4</th>\n      <td>Ab</td>\n      <td>-12.506757</td>\n      <td>2.729811e-23</td>\n      <td>{'1%': -3.473829775724492, '5%': -2.8806228997...</td>\n      <td>-10.305089</td>\n      <td>3.294816e-18</td>\n      <td>{'1%': -3.473829775724492, '5%': -2.8806228997...</td>\n      <td>0.4711</td>\n      <td>0.5616</td>\n      <td>0.7634</td>\n      <td>0.8286</td>\n      <td>0.5584</td>\n      <td>0.6787</td>\n      <td>0.6212</td>\n      <td>False</td>\n    </tr>\n    <tr>\n      <th>...</th>\n      <td>...</td>\n      <td>...</td>\n      <td>...</td>\n      <td>...</td>\n      <td>...</td>\n      <td>...</td>\n      <td>...</td>\n      <td>...</td>\n      <td>...</td>\n      <td>...</td>\n      <td>...</td>\n      <td>...</td>\n      <td>...</td>\n      <td>...</td>\n      <td>...</td>\n    </tr>\n    <tr>\n      <th>171</th>\n      <td>Fehler</td>\n      <td>-3.477189</td>\n      <td>8.592616e-03</td>\n      <td>{'1%': -3.476597917537401, '5%': -2.8818291230...</td>\n      <td>-1.722384</td>\n      <td>4.196179e-01</td>\n      <td>{'1%': -3.476597917537401, '5%': -2.8818291230...</td>\n      <td>0.2023</td>\n      <td>0.4442</td>\n      <td>0.4563</td>\n      <td>0.5885</td>\n      <td>0.6055</td>\n      <td>0.6772</td>\n      <td>0.8809</td>\n      <td>False</td>\n    </tr>\n    <tr>\n      <th>172</th>\n      <td>Festnahme</td>\n      <td>-8.895083</td>\n      <td>1.213052e-14</td>\n      <td>{'1%': -3.473829775724492, '5%': -2.8806228997...</td>\n      <td>-10.824323</td>\n      <td>1.772747e-19</td>\n      <td>{'1%': -3.473829775724492, '5%': -2.8806228997...</td>\n      <td>0.6957</td>\n      <td>0.8554</td>\n      <td>0.9657</td>\n      <td>0.9384</td>\n      <td>0.9431</td>\n      <td>0.9701</td>\n      <td>0.9785</td>\n      <td>False</td>\n    </tr>\n    <tr>\n      <th>173</th>\n      <td>Feuer</td>\n      <td>-1.462228</td>\n      <td>5.521071e-01</td>\n      <td>{'1%': -3.4759527332353084, '5%': -2.881548071...</td>\n      <td>-3.292225</td>\n      <td>1.522961e-02</td>\n      <td>{'1%': -3.474714913481481, '5%': -2.8810087081...</td>\n      <td>0.1290</td>\n      <td>0.2194</td>\n      <td>0.4550</td>\n      <td>0.6792</td>\n      <td>0.5203</td>\n      <td>0.4068</td>\n      <td>0.5308</td>\n      <td>False</td>\n    </tr>\n    <tr>\n      <th>174</th>\n      <td>Feuerwehr</td>\n      <td>-12.473580</td>\n      <td>3.204768e-23</td>\n      <td>{'1%': -3.473829775724492, '5%': -2.8806228997...</td>\n      <td>-5.420711</td>\n      <td>3.063936e-06</td>\n      <td>{'1%': -3.474120870218417, '5%': -2.8807497914...</td>\n      <td>0.7584</td>\n      <td>0.5083</td>\n      <td>0.5650</td>\n      <td>0.7062</td>\n      <td>0.7610</td>\n      <td>0.8710</td>\n      <td>0.8235</td>\n      <td>False</td>\n    </tr>\n    <tr>\n      <th>175</th>\n      <td>Finale</td>\n      <td>-11.293978</td>\n      <td>1.357976e-20</td>\n      <td>{'1%': -3.473829775724492, '5%': -2.8806228997...</td>\n      <td>-2.573500</td>\n      <td>9.859887e-02</td>\n      <td>{'1%': -3.4756368462466662, '5%': -2.881410446...</td>\n      <td>0.4982</td>\n      <td>0.7274</td>\n      <td>0.3637</td>\n      <td>0.2330</td>\n      <td>0.2864</td>\n      <td>0.4080</td>\n      <td>0.4733</td>\n      <td>False</td>\n    </tr>\n  </tbody>\n</table>\n<p>176 rows × 15 columns</p>\n</div>"
     },
     "execution_count": 15,
     "metadata": {},
     "output_type": "execute_result"
    }
   ],
   "source": [
    "Wiki_grangers_news_df"
   ],
   "metadata": {
    "collapsed": false,
    "pycharm": {
     "name": "#%%\n"
    }
   }
  },
  {
   "cell_type": "code",
   "execution_count": 42,
   "outputs": [],
   "source": [
    "\n",
    "\n"
   ],
   "metadata": {
    "collapsed": false,
    "pycharm": {
     "name": "#%%\n"
    }
   }
  },
  {
   "cell_type": "code",
   "execution_count": 43,
   "outputs": [
    {
     "data": {
      "text/plain": "    keyword_name  ADF_Statistics_wiki  ADF_p_value_wiki  \\\n0             2G            -6.152355      7.509110e-08   \n1       2G-Regel            -1.781506      3.896814e-01   \n2             3G            -5.992842      1.729179e-07   \n3              A           -11.208058      2.159864e-20   \n4             Ab           -12.506757      2.729811e-23   \n..           ...                  ...               ...   \n734        Ärger            -4.321307      4.079498e-04   \n735        Ärzte            -4.486036      2.083853e-04   \n736           Öl            -2.982027      3.660724e-02   \n737   Österreich            -3.359066      1.243600e-02   \n738     Überfall            -2.891698      4.632194e-02   \n\n                              ADF_critical_values_wiki  ADF_Statistics_news  \\\n0    {'1%': -3.4779446621720114, '5%': -2.882415612...            -2.929129   \n1    {'1%': -3.4744158894942156, '5%': -2.880878382...            -2.630608   \n2    {'1%': -3.4776006742422374, '5%': -2.882265832...           -11.614575   \n3    {'1%': -3.473829775724492, '5%': -2.8806228997...           -12.570639   \n4    {'1%': -3.473829775724492, '5%': -2.8806228997...           -10.305089   \n..                                                 ...                  ...   \n734  {'1%': -3.474714913481481, '5%': -2.8810087081...           -11.623479   \n735  {'1%': -3.474714913481481, '5%': -2.8810087081...            -4.323685   \n736  {'1%': -3.476273058920005, '5%': -2.8816876165...            -2.575347   \n737  {'1%': -3.4744158894942156, '5%': -2.880878382...           -12.410791   \n738  {'1%': -3.4750180242954167, '5%': -2.881140802...            -2.906673   \n\n     ADF_p_value_news                           ADF_critical_values_news  \\\n0        4.206405e-02  {'1%': -3.4753253063120644, '5%': -2.881274703...   \n1        8.683474e-02  {'1%': -3.4756368462466662, '5%': -2.881410446...   \n2        2.466558e-21  {'1%': -3.473829775724492, '5%': -2.8806228997...   \n3        2.007762e-23  {'1%': -3.473829775724492, '5%': -2.8806228997...   \n4        3.294816e-18  {'1%': -3.473829775724492, '5%': -2.8806228997...   \n..                ...                                                ...   \n734      2.353854e-21  {'1%': -3.473829775724492, '5%': -2.8806228997...   \n735      4.040804e-04  {'1%': -3.4753253063120644, '5%': -2.881274703...   \n736      9.820030e-02  {'1%': -3.4769274060112707, '5%': -2.881972632...   \n737      4.348386e-23  {'1%': -3.473829775724492, '5%': -2.8806228997...   \n738      4.457749e-02  {'1%': -3.4753253063120644, '5%': -2.881274703...   \n\n     ssr_ftest_pValue_lag1  ssr_ftest_pValue_lag2  ssr_ftest_pValue_lag3  \\\n0                   0.1585                 0.3600                 0.0048   \n1                   0.1055                 0.1347                 0.1522   \n2                   0.3769                 0.4962                 0.2652   \n3                   0.1438                 0.1789                 0.2687   \n4                   0.4711                 0.5616                 0.7634   \n..                     ...                    ...                    ...   \n734                 0.7700                 0.6545                 0.8532   \n735                 0.8806                 0.9645                 0.8392   \n736                 0.1020                 0.3113                 0.5008   \n737                 0.0563                 0.1162                 0.0380   \n738                 0.0657                 0.0216                 0.0109   \n\n     ssr_ftest_pValue_lag4  ssr_ftest_pValue_lag5  ssr_ftest_pValue_lag6  \\\n0                   0.0017                 0.0032                 0.0349   \n1                   0.2006                 0.2409                 0.6093   \n2                   0.2759                 0.2027                 0.4056   \n3                   0.2817                 0.3887                 0.5324   \n4                   0.8286                 0.5584                 0.6787   \n..                     ...                    ...                    ...   \n734                 0.9554                 0.5442                 0.6708   \n735                 0.8997                 0.9237                 0.9612   \n736                 0.6577                 0.6188                 0.5749   \n737                 0.0477                 0.0809                 0.2754   \n738                 0.0338                 0.0337                 0.2215   \n\n     ssr_ftest_pValue_lag7  lowest_lag  \n0                   0.0113         4.0  \n1                   0.8189         NaN  \n2                   0.2055         NaN  \n3                   0.5295         NaN  \n4                   0.6212         NaN  \n..                     ...         ...  \n734                 0.7404         NaN  \n735                 0.9705         NaN  \n736                 0.6563         NaN  \n737                 0.4474         3.0  \n738                 0.3361         3.0  \n\n[739 rows x 15 columns]",
      "text/html": "<div>\n<style scoped>\n    .dataframe tbody tr th:only-of-type {\n        vertical-align: middle;\n    }\n\n    .dataframe tbody tr th {\n        vertical-align: top;\n    }\n\n    .dataframe thead th {\n        text-align: right;\n    }\n</style>\n<table border=\"1\" class=\"dataframe\">\n  <thead>\n    <tr style=\"text-align: right;\">\n      <th></th>\n      <th>keyword_name</th>\n      <th>ADF_Statistics_wiki</th>\n      <th>ADF_p_value_wiki</th>\n      <th>ADF_critical_values_wiki</th>\n      <th>ADF_Statistics_news</th>\n      <th>ADF_p_value_news</th>\n      <th>ADF_critical_values_news</th>\n      <th>ssr_ftest_pValue_lag1</th>\n      <th>ssr_ftest_pValue_lag2</th>\n      <th>ssr_ftest_pValue_lag3</th>\n      <th>ssr_ftest_pValue_lag4</th>\n      <th>ssr_ftest_pValue_lag5</th>\n      <th>ssr_ftest_pValue_lag6</th>\n      <th>ssr_ftest_pValue_lag7</th>\n      <th>lowest_lag</th>\n    </tr>\n  </thead>\n  <tbody>\n    <tr>\n      <th>0</th>\n      <td>2G</td>\n      <td>-6.152355</td>\n      <td>7.509110e-08</td>\n      <td>{'1%': -3.4779446621720114, '5%': -2.882415612...</td>\n      <td>-2.929129</td>\n      <td>4.206405e-02</td>\n      <td>{'1%': -3.4753253063120644, '5%': -2.881274703...</td>\n      <td>0.1585</td>\n      <td>0.3600</td>\n      <td>0.0048</td>\n      <td>0.0017</td>\n      <td>0.0032</td>\n      <td>0.0349</td>\n      <td>0.0113</td>\n      <td>4.0</td>\n    </tr>\n    <tr>\n      <th>1</th>\n      <td>2G-Regel</td>\n      <td>-1.781506</td>\n      <td>3.896814e-01</td>\n      <td>{'1%': -3.4744158894942156, '5%': -2.880878382...</td>\n      <td>-2.630608</td>\n      <td>8.683474e-02</td>\n      <td>{'1%': -3.4756368462466662, '5%': -2.881410446...</td>\n      <td>0.1055</td>\n      <td>0.1347</td>\n      <td>0.1522</td>\n      <td>0.2006</td>\n      <td>0.2409</td>\n      <td>0.6093</td>\n      <td>0.8189</td>\n      <td>NaN</td>\n    </tr>\n    <tr>\n      <th>2</th>\n      <td>3G</td>\n      <td>-5.992842</td>\n      <td>1.729179e-07</td>\n      <td>{'1%': -3.4776006742422374, '5%': -2.882265832...</td>\n      <td>-11.614575</td>\n      <td>2.466558e-21</td>\n      <td>{'1%': -3.473829775724492, '5%': -2.8806228997...</td>\n      <td>0.3769</td>\n      <td>0.4962</td>\n      <td>0.2652</td>\n      <td>0.2759</td>\n      <td>0.2027</td>\n      <td>0.4056</td>\n      <td>0.2055</td>\n      <td>NaN</td>\n    </tr>\n    <tr>\n      <th>3</th>\n      <td>A</td>\n      <td>-11.208058</td>\n      <td>2.159864e-20</td>\n      <td>{'1%': -3.473829775724492, '5%': -2.8806228997...</td>\n      <td>-12.570639</td>\n      <td>2.007762e-23</td>\n      <td>{'1%': -3.473829775724492, '5%': -2.8806228997...</td>\n      <td>0.1438</td>\n      <td>0.1789</td>\n      <td>0.2687</td>\n      <td>0.2817</td>\n      <td>0.3887</td>\n      <td>0.5324</td>\n      <td>0.5295</td>\n      <td>NaN</td>\n    </tr>\n    <tr>\n      <th>4</th>\n      <td>Ab</td>\n      <td>-12.506757</td>\n      <td>2.729811e-23</td>\n      <td>{'1%': -3.473829775724492, '5%': -2.8806228997...</td>\n      <td>-10.305089</td>\n      <td>3.294816e-18</td>\n      <td>{'1%': -3.473829775724492, '5%': -2.8806228997...</td>\n      <td>0.4711</td>\n      <td>0.5616</td>\n      <td>0.7634</td>\n      <td>0.8286</td>\n      <td>0.5584</td>\n      <td>0.6787</td>\n      <td>0.6212</td>\n      <td>NaN</td>\n    </tr>\n    <tr>\n      <th>...</th>\n      <td>...</td>\n      <td>...</td>\n      <td>...</td>\n      <td>...</td>\n      <td>...</td>\n      <td>...</td>\n      <td>...</td>\n      <td>...</td>\n      <td>...</td>\n      <td>...</td>\n      <td>...</td>\n      <td>...</td>\n      <td>...</td>\n      <td>...</td>\n      <td>...</td>\n    </tr>\n    <tr>\n      <th>734</th>\n      <td>Ärger</td>\n      <td>-4.321307</td>\n      <td>4.079498e-04</td>\n      <td>{'1%': -3.474714913481481, '5%': -2.8810087081...</td>\n      <td>-11.623479</td>\n      <td>2.353854e-21</td>\n      <td>{'1%': -3.473829775724492, '5%': -2.8806228997...</td>\n      <td>0.7700</td>\n      <td>0.6545</td>\n      <td>0.8532</td>\n      <td>0.9554</td>\n      <td>0.5442</td>\n      <td>0.6708</td>\n      <td>0.7404</td>\n      <td>NaN</td>\n    </tr>\n    <tr>\n      <th>735</th>\n      <td>Ärzte</td>\n      <td>-4.486036</td>\n      <td>2.083853e-04</td>\n      <td>{'1%': -3.474714913481481, '5%': -2.8810087081...</td>\n      <td>-4.323685</td>\n      <td>4.040804e-04</td>\n      <td>{'1%': -3.4753253063120644, '5%': -2.881274703...</td>\n      <td>0.8806</td>\n      <td>0.9645</td>\n      <td>0.8392</td>\n      <td>0.8997</td>\n      <td>0.9237</td>\n      <td>0.9612</td>\n      <td>0.9705</td>\n      <td>NaN</td>\n    </tr>\n    <tr>\n      <th>736</th>\n      <td>Öl</td>\n      <td>-2.982027</td>\n      <td>3.660724e-02</td>\n      <td>{'1%': -3.476273058920005, '5%': -2.8816876165...</td>\n      <td>-2.575347</td>\n      <td>9.820030e-02</td>\n      <td>{'1%': -3.4769274060112707, '5%': -2.881972632...</td>\n      <td>0.1020</td>\n      <td>0.3113</td>\n      <td>0.5008</td>\n      <td>0.6577</td>\n      <td>0.6188</td>\n      <td>0.5749</td>\n      <td>0.6563</td>\n      <td>NaN</td>\n    </tr>\n    <tr>\n      <th>737</th>\n      <td>Österreich</td>\n      <td>-3.359066</td>\n      <td>1.243600e-02</td>\n      <td>{'1%': -3.4744158894942156, '5%': -2.880878382...</td>\n      <td>-12.410791</td>\n      <td>4.348386e-23</td>\n      <td>{'1%': -3.473829775724492, '5%': -2.8806228997...</td>\n      <td>0.0563</td>\n      <td>0.1162</td>\n      <td>0.0380</td>\n      <td>0.0477</td>\n      <td>0.0809</td>\n      <td>0.2754</td>\n      <td>0.4474</td>\n      <td>3.0</td>\n    </tr>\n    <tr>\n      <th>738</th>\n      <td>Überfall</td>\n      <td>-2.891698</td>\n      <td>4.632194e-02</td>\n      <td>{'1%': -3.4750180242954167, '5%': -2.881140802...</td>\n      <td>-2.906673</td>\n      <td>4.457749e-02</td>\n      <td>{'1%': -3.4753253063120644, '5%': -2.881274703...</td>\n      <td>0.0657</td>\n      <td>0.0216</td>\n      <td>0.0109</td>\n      <td>0.0338</td>\n      <td>0.0337</td>\n      <td>0.2215</td>\n      <td>0.3361</td>\n      <td>3.0</td>\n    </tr>\n  </tbody>\n</table>\n<p>739 rows × 15 columns</p>\n</div>"
     },
     "execution_count": 43,
     "metadata": {},
     "output_type": "execute_result"
    }
   ],
   "source": [
    "Wiki_grangers_news_df"
   ],
   "metadata": {
    "collapsed": false,
    "pycharm": {
     "name": "#%%\n"
    }
   }
  },
  {
   "cell_type": "code",
   "execution_count": null,
   "outputs": [],
   "source": [],
   "metadata": {
    "collapsed": false,
    "pycharm": {
     "name": "#%%\n"
    }
   }
  }
 ],
 "metadata": {
  "kernelspec": {
   "display_name": "Python 3",
   "language": "python",
   "name": "python3"
  },
  "language_info": {
   "codemirror_mode": {
    "name": "ipython",
    "version": 2
   },
   "file_extension": ".py",
   "mimetype": "text/x-python",
   "name": "python",
   "nbconvert_exporter": "python",
   "pygments_lexer": "ipython2",
   "version": "2.7.6"
  }
 },
 "nbformat": 4,
 "nbformat_minor": 0
}