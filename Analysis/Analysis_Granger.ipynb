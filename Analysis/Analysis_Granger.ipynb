{
 "cells": [
  {
   "cell_type": "markdown",
   "source": [
    "# Analysis of Granger Dataframe"
   ],
   "metadata": {
    "collapsed": false,
    "pycharm": {
     "name": "#%% md\n"
    }
   }
  },
  {
   "cell_type": "markdown",
   "source": [
    "## Imports"
   ],
   "metadata": {
    "collapsed": false,
    "pycharm": {
     "name": "#%% md\n"
    }
   }
  },
  {
   "cell_type": "code",
   "execution_count": 4,
   "outputs": [],
   "source": [
    "# Pandas is an open source data analysis and manipulation tool\n",
    "import pandas as pd\n",
    "\n",
    "import numpy as np"
   ],
   "metadata": {
    "collapsed": false,
    "pycharm": {
     "name": "#%%\n"
    }
   }
  },
  {
   "cell_type": "markdown",
   "source": [
    "## Load Dataframe"
   ],
   "metadata": {
    "collapsed": false,
    "pycharm": {
     "name": "#%% md\n"
    }
   }
  },
  {
   "cell_type": "code",
   "execution_count": 51,
   "outputs": [],
   "source": [
    "News_grangers_Wiki_df = pd.read_csv(\"/Users/jan/Documents/Python_Projects/Bachelorthesis/Analysis/DataFrames/News_grangerCauses_Wikipedia___NOT_Stationary_DataFrame.csv\")"
   ],
   "metadata": {
    "collapsed": false,
    "pycharm": {
     "name": "#%%\n"
    }
   }
  },
  {
   "cell_type": "code",
   "execution_count": 52,
   "outputs": [
    {
     "data": {
      "text/plain": "    keyword_name  ADF_Statistics_wiki  ADF_p_value_wiki  \\\n0             2G            -6.152355      7.509110e-08   \n1       2G-Regel            -1.781506      3.896814e-01   \n2             3G            -5.992842      1.729179e-07   \n3              A           -11.208058      2.159864e-20   \n4             Ab           -12.506757      2.729811e-23   \n..           ...                  ...               ...   \n735        Ärger            -4.321307      4.079498e-04   \n736        Ärzte            -4.486036      2.083853e-04   \n737           Öl            -2.982027      3.660724e-02   \n738   Österreich            -3.359066      1.243600e-02   \n739     Überfall            -2.891698      4.632194e-02   \n\n                              ADF_critical_values_wiki  ADF_Statistics_news  \\\n0    {'1%': -3.4779446621720114, '5%': -2.882415612...            -2.929129   \n1    {'1%': -3.4744158894942156, '5%': -2.880878382...            -2.630608   \n2    {'1%': -3.4776006742422374, '5%': -2.882265832...           -11.614575   \n3    {'1%': -3.473829775724492, '5%': -2.8806228997...           -12.570639   \n4    {'1%': -3.473829775724492, '5%': -2.8806228997...           -10.305089   \n..                                                 ...                  ...   \n735  {'1%': -3.474714913481481, '5%': -2.8810087081...           -11.623479   \n736  {'1%': -3.474714913481481, '5%': -2.8810087081...            -4.323685   \n737  {'1%': -3.476273058920005, '5%': -2.8816876165...            -2.575347   \n738  {'1%': -3.4744158894942156, '5%': -2.880878382...           -12.410791   \n739  {'1%': -3.4750180242954167, '5%': -2.881140802...            -2.906673   \n\n     ADF_p_value_news                           ADF_critical_values_news  \\\n0        4.206405e-02  {'1%': -3.4753253063120644, '5%': -2.881274703...   \n1        8.683474e-02  {'1%': -3.4756368462466662, '5%': -2.881410446...   \n2        2.466558e-21  {'1%': -3.473829775724492, '5%': -2.8806228997...   \n3        2.007762e-23  {'1%': -3.473829775724492, '5%': -2.8806228997...   \n4        3.294816e-18  {'1%': -3.473829775724492, '5%': -2.8806228997...   \n..                ...                                                ...   \n735      2.353854e-21  {'1%': -3.473829775724492, '5%': -2.8806228997...   \n736      4.040804e-04  {'1%': -3.4753253063120644, '5%': -2.881274703...   \n737      9.820030e-02  {'1%': -3.4769274060112707, '5%': -2.881972632...   \n738      4.348386e-23  {'1%': -3.473829775724492, '5%': -2.8806228997...   \n739      4.457749e-02  {'1%': -3.4753253063120644, '5%': -2.881274703...   \n\n     ssr_ftest_pValue_lag1  ssr_ftest_pValue_lag2  ssr_ftest_pValue_lag3  \\\n0                   0.1628                 0.0447                 0.0000   \n1                   0.2824                 0.4765                 0.6366   \n2                   0.9263                 0.9745                 0.8604   \n3                   0.0076                 0.0377                 0.0476   \n4                   0.8998                 0.6889                 0.3913   \n..                     ...                    ...                    ...   \n735                 0.7315                 0.8551                 0.3871   \n736                 0.6931                 0.6019                 0.7662   \n737                 0.0017                 0.0129                 0.0360   \n738                 0.5494                 0.7045                 0.7955   \n739                 0.9148                 0.2206                 0.0008   \n\n     ssr_ftest_pValue_lag4  ssr_ftest_pValue_lag5  ssr_ftest_pValue_lag6  \\\n0                   0.0000                 0.0001                 0.0002   \n1                   0.5006                 0.5426                 0.4408   \n2                   0.0692                 0.1051                 0.0899   \n3                   0.0806                 0.1077                 0.1540   \n4                   0.4013                 0.4167                 0.5142   \n..                     ...                    ...                    ...   \n735                 0.4459                 0.4721                 0.5255   \n736                 0.5954                 0.4606                 0.4579   \n737                 0.0332                 0.0051                 0.0082   \n738                 0.8864                 0.8307                 0.7202   \n739                 0.0025                 0.0249                 0.0459   \n\n     ssr_ftest_pValue_lag7  lowest_lag  \n0                   0.0004         3.0  \n1                   0.3383         NaN  \n2                   0.1025         NaN  \n3                   0.1452         1.0  \n4                   0.6270         NaN  \n..                     ...         ...  \n735                 0.7085         NaN  \n736                 0.3696         NaN  \n737                 0.0124         1.0  \n738                 0.7702         NaN  \n739                 0.0432         3.0  \n\n[740 rows x 15 columns]",
      "text/html": "<div>\n<style scoped>\n    .dataframe tbody tr th:only-of-type {\n        vertical-align: middle;\n    }\n\n    .dataframe tbody tr th {\n        vertical-align: top;\n    }\n\n    .dataframe thead th {\n        text-align: right;\n    }\n</style>\n<table border=\"1\" class=\"dataframe\">\n  <thead>\n    <tr style=\"text-align: right;\">\n      <th></th>\n      <th>keyword_name</th>\n      <th>ADF_Statistics_wiki</th>\n      <th>ADF_p_value_wiki</th>\n      <th>ADF_critical_values_wiki</th>\n      <th>ADF_Statistics_news</th>\n      <th>ADF_p_value_news</th>\n      <th>ADF_critical_values_news</th>\n      <th>ssr_ftest_pValue_lag1</th>\n      <th>ssr_ftest_pValue_lag2</th>\n      <th>ssr_ftest_pValue_lag3</th>\n      <th>ssr_ftest_pValue_lag4</th>\n      <th>ssr_ftest_pValue_lag5</th>\n      <th>ssr_ftest_pValue_lag6</th>\n      <th>ssr_ftest_pValue_lag7</th>\n      <th>lowest_lag</th>\n    </tr>\n  </thead>\n  <tbody>\n    <tr>\n      <th>0</th>\n      <td>2G</td>\n      <td>-6.152355</td>\n      <td>7.509110e-08</td>\n      <td>{'1%': -3.4779446621720114, '5%': -2.882415612...</td>\n      <td>-2.929129</td>\n      <td>4.206405e-02</td>\n      <td>{'1%': -3.4753253063120644, '5%': -2.881274703...</td>\n      <td>0.1628</td>\n      <td>0.0447</td>\n      <td>0.0000</td>\n      <td>0.0000</td>\n      <td>0.0001</td>\n      <td>0.0002</td>\n      <td>0.0004</td>\n      <td>3.0</td>\n    </tr>\n    <tr>\n      <th>1</th>\n      <td>2G-Regel</td>\n      <td>-1.781506</td>\n      <td>3.896814e-01</td>\n      <td>{'1%': -3.4744158894942156, '5%': -2.880878382...</td>\n      <td>-2.630608</td>\n      <td>8.683474e-02</td>\n      <td>{'1%': -3.4756368462466662, '5%': -2.881410446...</td>\n      <td>0.2824</td>\n      <td>0.4765</td>\n      <td>0.6366</td>\n      <td>0.5006</td>\n      <td>0.5426</td>\n      <td>0.4408</td>\n      <td>0.3383</td>\n      <td>NaN</td>\n    </tr>\n    <tr>\n      <th>2</th>\n      <td>3G</td>\n      <td>-5.992842</td>\n      <td>1.729179e-07</td>\n      <td>{'1%': -3.4776006742422374, '5%': -2.882265832...</td>\n      <td>-11.614575</td>\n      <td>2.466558e-21</td>\n      <td>{'1%': -3.473829775724492, '5%': -2.8806228997...</td>\n      <td>0.9263</td>\n      <td>0.9745</td>\n      <td>0.8604</td>\n      <td>0.0692</td>\n      <td>0.1051</td>\n      <td>0.0899</td>\n      <td>0.1025</td>\n      <td>NaN</td>\n    </tr>\n    <tr>\n      <th>3</th>\n      <td>A</td>\n      <td>-11.208058</td>\n      <td>2.159864e-20</td>\n      <td>{'1%': -3.473829775724492, '5%': -2.8806228997...</td>\n      <td>-12.570639</td>\n      <td>2.007762e-23</td>\n      <td>{'1%': -3.473829775724492, '5%': -2.8806228997...</td>\n      <td>0.0076</td>\n      <td>0.0377</td>\n      <td>0.0476</td>\n      <td>0.0806</td>\n      <td>0.1077</td>\n      <td>0.1540</td>\n      <td>0.1452</td>\n      <td>1.0</td>\n    </tr>\n    <tr>\n      <th>4</th>\n      <td>Ab</td>\n      <td>-12.506757</td>\n      <td>2.729811e-23</td>\n      <td>{'1%': -3.473829775724492, '5%': -2.8806228997...</td>\n      <td>-10.305089</td>\n      <td>3.294816e-18</td>\n      <td>{'1%': -3.473829775724492, '5%': -2.8806228997...</td>\n      <td>0.8998</td>\n      <td>0.6889</td>\n      <td>0.3913</td>\n      <td>0.4013</td>\n      <td>0.4167</td>\n      <td>0.5142</td>\n      <td>0.6270</td>\n      <td>NaN</td>\n    </tr>\n    <tr>\n      <th>...</th>\n      <td>...</td>\n      <td>...</td>\n      <td>...</td>\n      <td>...</td>\n      <td>...</td>\n      <td>...</td>\n      <td>...</td>\n      <td>...</td>\n      <td>...</td>\n      <td>...</td>\n      <td>...</td>\n      <td>...</td>\n      <td>...</td>\n      <td>...</td>\n      <td>...</td>\n    </tr>\n    <tr>\n      <th>735</th>\n      <td>Ärger</td>\n      <td>-4.321307</td>\n      <td>4.079498e-04</td>\n      <td>{'1%': -3.474714913481481, '5%': -2.8810087081...</td>\n      <td>-11.623479</td>\n      <td>2.353854e-21</td>\n      <td>{'1%': -3.473829775724492, '5%': -2.8806228997...</td>\n      <td>0.7315</td>\n      <td>0.8551</td>\n      <td>0.3871</td>\n      <td>0.4459</td>\n      <td>0.4721</td>\n      <td>0.5255</td>\n      <td>0.7085</td>\n      <td>NaN</td>\n    </tr>\n    <tr>\n      <th>736</th>\n      <td>Ärzte</td>\n      <td>-4.486036</td>\n      <td>2.083853e-04</td>\n      <td>{'1%': -3.474714913481481, '5%': -2.8810087081...</td>\n      <td>-4.323685</td>\n      <td>4.040804e-04</td>\n      <td>{'1%': -3.4753253063120644, '5%': -2.881274703...</td>\n      <td>0.6931</td>\n      <td>0.6019</td>\n      <td>0.7662</td>\n      <td>0.5954</td>\n      <td>0.4606</td>\n      <td>0.4579</td>\n      <td>0.3696</td>\n      <td>NaN</td>\n    </tr>\n    <tr>\n      <th>737</th>\n      <td>Öl</td>\n      <td>-2.982027</td>\n      <td>3.660724e-02</td>\n      <td>{'1%': -3.476273058920005, '5%': -2.8816876165...</td>\n      <td>-2.575347</td>\n      <td>9.820030e-02</td>\n      <td>{'1%': -3.4769274060112707, '5%': -2.881972632...</td>\n      <td>0.0017</td>\n      <td>0.0129</td>\n      <td>0.0360</td>\n      <td>0.0332</td>\n      <td>0.0051</td>\n      <td>0.0082</td>\n      <td>0.0124</td>\n      <td>1.0</td>\n    </tr>\n    <tr>\n      <th>738</th>\n      <td>Österreich</td>\n      <td>-3.359066</td>\n      <td>1.243600e-02</td>\n      <td>{'1%': -3.4744158894942156, '5%': -2.880878382...</td>\n      <td>-12.410791</td>\n      <td>4.348386e-23</td>\n      <td>{'1%': -3.473829775724492, '5%': -2.8806228997...</td>\n      <td>0.5494</td>\n      <td>0.7045</td>\n      <td>0.7955</td>\n      <td>0.8864</td>\n      <td>0.8307</td>\n      <td>0.7202</td>\n      <td>0.7702</td>\n      <td>NaN</td>\n    </tr>\n    <tr>\n      <th>739</th>\n      <td>Überfall</td>\n      <td>-2.891698</td>\n      <td>4.632194e-02</td>\n      <td>{'1%': -3.4750180242954167, '5%': -2.881140802...</td>\n      <td>-2.906673</td>\n      <td>4.457749e-02</td>\n      <td>{'1%': -3.4753253063120644, '5%': -2.881274703...</td>\n      <td>0.9148</td>\n      <td>0.2206</td>\n      <td>0.0008</td>\n      <td>0.0025</td>\n      <td>0.0249</td>\n      <td>0.0459</td>\n      <td>0.0432</td>\n      <td>3.0</td>\n    </tr>\n  </tbody>\n</table>\n<p>740 rows × 15 columns</p>\n</div>"
     },
     "execution_count": 52,
     "metadata": {},
     "output_type": "execute_result"
    }
   ],
   "source": [
    "News_grangers_Wiki_df"
   ],
   "metadata": {
    "collapsed": false,
    "pycharm": {
     "name": "#%%\n"
    }
   }
  },
  {
   "cell_type": "markdown",
   "source": [
    "## Mean of lags"
   ],
   "metadata": {
    "collapsed": false,
    "pycharm": {
     "name": "#%% md\n"
    }
   }
  },
  {
   "cell_type": "code",
   "execution_count": 53,
   "outputs": [
    {
     "name": "stdout",
     "output_type": "stream",
     "text": [
      "The mean of lags is: 3.35\n"
     ]
    }
   ],
   "source": [
    "print( f\"The mean of lags is: {round(News_grangers_Wiki_df['lowest_lag'].mean(),2)}\")"
   ],
   "metadata": {
    "collapsed": false,
    "pycharm": {
     "name": "#%%\n"
    }
   }
  }
 ],
 "metadata": {
  "kernelspec": {
   "display_name": "Python 3",
   "language": "python",
   "name": "python3"
  },
  "language_info": {
   "codemirror_mode": {
    "name": "ipython",
    "version": 2
   },
   "file_extension": ".py",
   "mimetype": "text/x-python",
   "name": "python",
   "nbconvert_exporter": "python",
   "pygments_lexer": "ipython2",
   "version": "2.7.6"
  }
 },
 "nbformat": 4,
 "nbformat_minor": 0
}