{
 "cells": [
  {
   "cell_type": "markdown",
   "source": [
    "# Analysis of Granger Dataframe"
   ],
   "metadata": {
    "collapsed": false,
    "pycharm": {
     "name": "#%% md\n"
    }
   }
  },
  {
   "cell_type": "markdown",
   "source": [
    "## Imports"
   ],
   "metadata": {
    "collapsed": false,
    "pycharm": {
     "name": "#%% md\n"
    }
   }
  },
  {
   "cell_type": "code",
   "execution_count": 4,
   "outputs": [],
   "source": [
    "# Pandas is an open source data analysis and manipulation tool\n",
    "import pandas as pd\n",
    "\n",
    "import numpy as np"
   ],
   "metadata": {
    "collapsed": false,
    "pycharm": {
     "name": "#%%\n"
    }
   }
  },
  {
   "cell_type": "markdown",
   "source": [
    "## Load Dataframe"
   ],
   "metadata": {
    "collapsed": false,
    "pycharm": {
     "name": "#%% md\n"
    }
   }
  },
  {
   "cell_type": "code",
   "execution_count": 76,
   "outputs": [],
   "source": [
    "News_grangers_Wiki_df = pd.read_csv(\"/Users/jan/Documents/Python_Projects/Bachelorthesis/Analysis/DataFrames/News_grangerCauses_Wikipedia_DataFrame.csv\")"
   ],
   "metadata": {
    "collapsed": false,
    "pycharm": {
     "name": "#%%\n"
    }
   }
  },
  {
   "cell_type": "code",
   "execution_count": 77,
   "outputs": [
    {
     "data": {
      "text/plain": "    keyword_name  ADF_Statistics_wiki_before_diff  \\\n0             2G                        -6.152355   \n1       2G-Regel                        -1.781506   \n2             3G                        -5.992842   \n3              A                       -11.208058   \n4             Ab                       -12.506757   \n..           ...                              ...   \n735        Ärger                        -4.321307   \n736        Ärzte                        -4.486036   \n737           Öl                        -2.982027   \n738   Österreich                        -3.359066   \n739     Überfall                        -2.891698   \n\n     ADF_p_value_wiki_before_diff  \\\n0                    7.509110e-08   \n1                    3.896814e-01   \n2                    1.729179e-07   \n3                    2.159864e-20   \n4                    2.729811e-23   \n..                            ...   \n735                  4.079498e-04   \n736                  2.083853e-04   \n737                  3.660724e-02   \n738                  1.243600e-02   \n739                  4.632194e-02   \n\n                  ADF_critical_values_wiki_before_diff  \\\n0    {'1%': -3.4779446621720114, '5%': -2.882415612...   \n1    {'1%': -3.4744158894942156, '5%': -2.880878382...   \n2    {'1%': -3.4776006742422374, '5%': -2.882265832...   \n3    {'1%': -3.473829775724492, '5%': -2.8806228997...   \n4    {'1%': -3.473829775724492, '5%': -2.8806228997...   \n..                                                 ...   \n735  {'1%': -3.474714913481481, '5%': -2.8810087081...   \n736  {'1%': -3.474714913481481, '5%': -2.8810087081...   \n737  {'1%': -3.476273058920005, '5%': -2.8816876165...   \n738  {'1%': -3.4744158894942156, '5%': -2.880878382...   \n739  {'1%': -3.4750180242954167, '5%': -2.881140802...   \n\n     ADF_Statistics_news_before_diff  ADF_p_value_news_before_diff  \\\n0                          -6.152355                  7.509110e-08   \n1                          -1.781506                  3.896814e-01   \n2                          -5.992842                  1.729179e-07   \n3                         -11.208058                  2.159864e-20   \n4                         -12.506757                  2.729811e-23   \n..                               ...                           ...   \n735                        -4.321307                  4.079498e-04   \n736                        -4.486036                  2.083853e-04   \n737                        -2.982027                  3.660724e-02   \n738                        -3.359066                  1.243600e-02   \n739                        -2.891698                  4.632194e-02   \n\n                  ADF_critical_values_news_before_diff  \\\n0    {'1%': -3.4779446621720114, '5%': -2.882415612...   \n1    {'1%': -3.4744158894942156, '5%': -2.880878382...   \n2    {'1%': -3.4776006742422374, '5%': -2.882265832...   \n3    {'1%': -3.473829775724492, '5%': -2.8806228997...   \n4    {'1%': -3.473829775724492, '5%': -2.8806228997...   \n..                                                 ...   \n735  {'1%': -3.474714913481481, '5%': -2.8810087081...   \n736  {'1%': -3.474714913481481, '5%': -2.8810087081...   \n737  {'1%': -3.476273058920005, '5%': -2.8816876165...   \n738  {'1%': -3.4744158894942156, '5%': -2.880878382...   \n739  {'1%': -3.4750180242954167, '5%': -2.881140802...   \n\n     ADF_stationary_wiki_before_diff  ADF_stationary_news_before_diff  \\\n0                               True                             True   \n1                              False                            False   \n2                               True                             True   \n3                               True                             True   \n4                               True                             True   \n..                               ...                              ...   \n735                             True                             True   \n736                             True                             True   \n737                             True                             True   \n738                             True                             True   \n739                             True                             True   \n\n     KPSS_stationary_wiki_before_diff  ...  KPSS_stationary_news_after_diff  \\\n0                               False  ...                             True   \n1                                True  ...                             True   \n2                               False  ...                             True   \n3                                True  ...                             True   \n4                                True  ...                             True   \n..                                ...  ...                              ...   \n735                              True  ...                             True   \n736                              True  ...                             True   \n737                              True  ...                             True   \n738                              True  ...                             True   \n739                              True  ...                             True   \n\n     ssr_ftest_pValue_lag1_after_diff  ssr_ftest_pValue_lag2_after_diff  \\\n0                              0.7102                            0.0000   \n1                              0.2514                            0.4399   \n2                              0.8338                            0.9082   \n3                              0.0110                            0.1248   \n4                              0.3886                            0.3131   \n..                                ...                               ...   \n735                            0.8877                            0.2547   \n736                            0.3688                            0.6435   \n737                            0.0543                            0.0589   \n738                            0.3780                            0.7398   \n739                            0.1229                            0.0079   \n\n     ssr_ftest_pValue_lag3_after_diff  ssr_ftest_pValue_lag4_after_diff  \\\n0                              0.0000                            0.0000   \n1                              0.4738                            0.6500   \n2                              0.0530                            0.0636   \n3                              0.0798                            0.1774   \n4                              0.5028                            0.2270   \n..                                ...                               ...   \n735                            0.5586                            0.3484   \n736                            0.7511                            0.8302   \n737                            0.0635                            0.0440   \n738                            0.7967                            0.9185   \n739                            0.0040                            0.0210   \n\n     ssr_ftest_pValue_lag5_after_diff  ssr_ftest_pValue_lag6_after_diff  \\\n0                              0.0001                            0.0003   \n1                              0.7239                            0.3874   \n2                              0.0462                            0.0593   \n3                              0.1491                            0.2239   \n4                              0.3611                            0.4573   \n..                                ...                               ...   \n735                            0.4828                            0.6879   \n736                            0.8614                            0.3243   \n737                            0.1004                            0.0676   \n738                            0.6653                            0.6693   \n739                            0.0590                            0.0385   \n\n     ssr_ftest_pValue_lag7_after_diff  lowest_lag_before_diff  \\\n0                              0.0006                     3.0   \n1                              0.1816                     NaN   \n2                              0.1076                     NaN   \n3                              0.3045                     1.0   \n4                              0.6517                     NaN   \n..                                ...                     ...   \n735                            0.7844                     NaN   \n736                            0.2993                     NaN   \n737                            0.0994                     1.0   \n738                            0.4903                     NaN   \n739                            0.0530                     3.0   \n\n     lowest_lag_after_diff  \n0                      2.0  \n1                      NaN  \n2                      5.0  \n3                      1.0  \n4                      NaN  \n..                     ...  \n735                    NaN  \n736                    NaN  \n737                    4.0  \n738                    NaN  \n739                    3.0  \n\n[740 rows x 37 columns]",
      "text/html": "<div>\n<style scoped>\n    .dataframe tbody tr th:only-of-type {\n        vertical-align: middle;\n    }\n\n    .dataframe tbody tr th {\n        vertical-align: top;\n    }\n\n    .dataframe thead th {\n        text-align: right;\n    }\n</style>\n<table border=\"1\" class=\"dataframe\">\n  <thead>\n    <tr style=\"text-align: right;\">\n      <th></th>\n      <th>keyword_name</th>\n      <th>ADF_Statistics_wiki_before_diff</th>\n      <th>ADF_p_value_wiki_before_diff</th>\n      <th>ADF_critical_values_wiki_before_diff</th>\n      <th>ADF_Statistics_news_before_diff</th>\n      <th>ADF_p_value_news_before_diff</th>\n      <th>ADF_critical_values_news_before_diff</th>\n      <th>ADF_stationary_wiki_before_diff</th>\n      <th>ADF_stationary_news_before_diff</th>\n      <th>KPSS_stationary_wiki_before_diff</th>\n      <th>...</th>\n      <th>KPSS_stationary_news_after_diff</th>\n      <th>ssr_ftest_pValue_lag1_after_diff</th>\n      <th>ssr_ftest_pValue_lag2_after_diff</th>\n      <th>ssr_ftest_pValue_lag3_after_diff</th>\n      <th>ssr_ftest_pValue_lag4_after_diff</th>\n      <th>ssr_ftest_pValue_lag5_after_diff</th>\n      <th>ssr_ftest_pValue_lag6_after_diff</th>\n      <th>ssr_ftest_pValue_lag7_after_diff</th>\n      <th>lowest_lag_before_diff</th>\n      <th>lowest_lag_after_diff</th>\n    </tr>\n  </thead>\n  <tbody>\n    <tr>\n      <th>0</th>\n      <td>2G</td>\n      <td>-6.152355</td>\n      <td>7.509110e-08</td>\n      <td>{'1%': -3.4779446621720114, '5%': -2.882415612...</td>\n      <td>-6.152355</td>\n      <td>7.509110e-08</td>\n      <td>{'1%': -3.4779446621720114, '5%': -2.882415612...</td>\n      <td>True</td>\n      <td>True</td>\n      <td>False</td>\n      <td>...</td>\n      <td>True</td>\n      <td>0.7102</td>\n      <td>0.0000</td>\n      <td>0.0000</td>\n      <td>0.0000</td>\n      <td>0.0001</td>\n      <td>0.0003</td>\n      <td>0.0006</td>\n      <td>3.0</td>\n      <td>2.0</td>\n    </tr>\n    <tr>\n      <th>1</th>\n      <td>2G-Regel</td>\n      <td>-1.781506</td>\n      <td>3.896814e-01</td>\n      <td>{'1%': -3.4744158894942156, '5%': -2.880878382...</td>\n      <td>-1.781506</td>\n      <td>3.896814e-01</td>\n      <td>{'1%': -3.4744158894942156, '5%': -2.880878382...</td>\n      <td>False</td>\n      <td>False</td>\n      <td>True</td>\n      <td>...</td>\n      <td>True</td>\n      <td>0.2514</td>\n      <td>0.4399</td>\n      <td>0.4738</td>\n      <td>0.6500</td>\n      <td>0.7239</td>\n      <td>0.3874</td>\n      <td>0.1816</td>\n      <td>NaN</td>\n      <td>NaN</td>\n    </tr>\n    <tr>\n      <th>2</th>\n      <td>3G</td>\n      <td>-5.992842</td>\n      <td>1.729179e-07</td>\n      <td>{'1%': -3.4776006742422374, '5%': -2.882265832...</td>\n      <td>-5.992842</td>\n      <td>1.729179e-07</td>\n      <td>{'1%': -3.4776006742422374, '5%': -2.882265832...</td>\n      <td>True</td>\n      <td>True</td>\n      <td>False</td>\n      <td>...</td>\n      <td>True</td>\n      <td>0.8338</td>\n      <td>0.9082</td>\n      <td>0.0530</td>\n      <td>0.0636</td>\n      <td>0.0462</td>\n      <td>0.0593</td>\n      <td>0.1076</td>\n      <td>NaN</td>\n      <td>5.0</td>\n    </tr>\n    <tr>\n      <th>3</th>\n      <td>A</td>\n      <td>-11.208058</td>\n      <td>2.159864e-20</td>\n      <td>{'1%': -3.473829775724492, '5%': -2.8806228997...</td>\n      <td>-11.208058</td>\n      <td>2.159864e-20</td>\n      <td>{'1%': -3.473829775724492, '5%': -2.8806228997...</td>\n      <td>True</td>\n      <td>True</td>\n      <td>True</td>\n      <td>...</td>\n      <td>True</td>\n      <td>0.0110</td>\n      <td>0.1248</td>\n      <td>0.0798</td>\n      <td>0.1774</td>\n      <td>0.1491</td>\n      <td>0.2239</td>\n      <td>0.3045</td>\n      <td>1.0</td>\n      <td>1.0</td>\n    </tr>\n    <tr>\n      <th>4</th>\n      <td>Ab</td>\n      <td>-12.506757</td>\n      <td>2.729811e-23</td>\n      <td>{'1%': -3.473829775724492, '5%': -2.8806228997...</td>\n      <td>-12.506757</td>\n      <td>2.729811e-23</td>\n      <td>{'1%': -3.473829775724492, '5%': -2.8806228997...</td>\n      <td>True</td>\n      <td>True</td>\n      <td>True</td>\n      <td>...</td>\n      <td>True</td>\n      <td>0.3886</td>\n      <td>0.3131</td>\n      <td>0.5028</td>\n      <td>0.2270</td>\n      <td>0.3611</td>\n      <td>0.4573</td>\n      <td>0.6517</td>\n      <td>NaN</td>\n      <td>NaN</td>\n    </tr>\n    <tr>\n      <th>...</th>\n      <td>...</td>\n      <td>...</td>\n      <td>...</td>\n      <td>...</td>\n      <td>...</td>\n      <td>...</td>\n      <td>...</td>\n      <td>...</td>\n      <td>...</td>\n      <td>...</td>\n      <td>...</td>\n      <td>...</td>\n      <td>...</td>\n      <td>...</td>\n      <td>...</td>\n      <td>...</td>\n      <td>...</td>\n      <td>...</td>\n      <td>...</td>\n      <td>...</td>\n      <td>...</td>\n    </tr>\n    <tr>\n      <th>735</th>\n      <td>Ärger</td>\n      <td>-4.321307</td>\n      <td>4.079498e-04</td>\n      <td>{'1%': -3.474714913481481, '5%': -2.8810087081...</td>\n      <td>-4.321307</td>\n      <td>4.079498e-04</td>\n      <td>{'1%': -3.474714913481481, '5%': -2.8810087081...</td>\n      <td>True</td>\n      <td>True</td>\n      <td>True</td>\n      <td>...</td>\n      <td>True</td>\n      <td>0.8877</td>\n      <td>0.2547</td>\n      <td>0.5586</td>\n      <td>0.3484</td>\n      <td>0.4828</td>\n      <td>0.6879</td>\n      <td>0.7844</td>\n      <td>NaN</td>\n      <td>NaN</td>\n    </tr>\n    <tr>\n      <th>736</th>\n      <td>Ärzte</td>\n      <td>-4.486036</td>\n      <td>2.083853e-04</td>\n      <td>{'1%': -3.474714913481481, '5%': -2.8810087081...</td>\n      <td>-4.486036</td>\n      <td>2.083853e-04</td>\n      <td>{'1%': -3.474714913481481, '5%': -2.8810087081...</td>\n      <td>True</td>\n      <td>True</td>\n      <td>True</td>\n      <td>...</td>\n      <td>True</td>\n      <td>0.3688</td>\n      <td>0.6435</td>\n      <td>0.7511</td>\n      <td>0.8302</td>\n      <td>0.8614</td>\n      <td>0.3243</td>\n      <td>0.2993</td>\n      <td>NaN</td>\n      <td>NaN</td>\n    </tr>\n    <tr>\n      <th>737</th>\n      <td>Öl</td>\n      <td>-2.982027</td>\n      <td>3.660724e-02</td>\n      <td>{'1%': -3.476273058920005, '5%': -2.8816876165...</td>\n      <td>-2.982027</td>\n      <td>3.660724e-02</td>\n      <td>{'1%': -3.476273058920005, '5%': -2.8816876165...</td>\n      <td>True</td>\n      <td>True</td>\n      <td>True</td>\n      <td>...</td>\n      <td>True</td>\n      <td>0.0543</td>\n      <td>0.0589</td>\n      <td>0.0635</td>\n      <td>0.0440</td>\n      <td>0.1004</td>\n      <td>0.0676</td>\n      <td>0.0994</td>\n      <td>1.0</td>\n      <td>4.0</td>\n    </tr>\n    <tr>\n      <th>738</th>\n      <td>Österreich</td>\n      <td>-3.359066</td>\n      <td>1.243600e-02</td>\n      <td>{'1%': -3.4744158894942156, '5%': -2.880878382...</td>\n      <td>-3.359066</td>\n      <td>1.243600e-02</td>\n      <td>{'1%': -3.4744158894942156, '5%': -2.880878382...</td>\n      <td>True</td>\n      <td>True</td>\n      <td>True</td>\n      <td>...</td>\n      <td>True</td>\n      <td>0.3780</td>\n      <td>0.7398</td>\n      <td>0.7967</td>\n      <td>0.9185</td>\n      <td>0.6653</td>\n      <td>0.6693</td>\n      <td>0.4903</td>\n      <td>NaN</td>\n      <td>NaN</td>\n    </tr>\n    <tr>\n      <th>739</th>\n      <td>Überfall</td>\n      <td>-2.891698</td>\n      <td>4.632194e-02</td>\n      <td>{'1%': -3.4750180242954167, '5%': -2.881140802...</td>\n      <td>-2.891698</td>\n      <td>4.632194e-02</td>\n      <td>{'1%': -3.4750180242954167, '5%': -2.881140802...</td>\n      <td>True</td>\n      <td>True</td>\n      <td>True</td>\n      <td>...</td>\n      <td>True</td>\n      <td>0.1229</td>\n      <td>0.0079</td>\n      <td>0.0040</td>\n      <td>0.0210</td>\n      <td>0.0590</td>\n      <td>0.0385</td>\n      <td>0.0530</td>\n      <td>3.0</td>\n      <td>3.0</td>\n    </tr>\n  </tbody>\n</table>\n<p>740 rows × 37 columns</p>\n</div>"
     },
     "execution_count": 77,
     "metadata": {},
     "output_type": "execute_result"
    }
   ],
   "source": [
    "News_grangers_Wiki_df"
   ],
   "metadata": {
    "collapsed": false,
    "pycharm": {
     "name": "#%%\n"
    }
   }
  },
  {
   "cell_type": "markdown",
   "source": [
    "## Mean of lags"
   ],
   "metadata": {
    "collapsed": false,
    "pycharm": {
     "name": "#%% md\n"
    }
   }
  },
  {
   "cell_type": "code",
   "execution_count": 78,
   "outputs": [
    {
     "name": "stdout",
     "output_type": "stream",
     "text": [
      "The mean of lags is: 3.55\n"
     ]
    }
   ],
   "source": [
    "print( f\"The mean of lags is: {round(News_grangers_Wiki_df['lowest_lag_after_diff'].mean(),2)}\")"
   ],
   "metadata": {
    "collapsed": false,
    "pycharm": {
     "name": "#%%\n"
    }
   }
  },
  {
   "cell_type": "markdown",
   "source": [
    "## Proportion of Granger Test positive results"
   ],
   "metadata": {
    "collapsed": false,
    "pycharm": {
     "name": "#%% md\n"
    }
   }
  },
  {
   "cell_type": "code",
   "execution_count": 79,
   "outputs": [
    {
     "name": "stdout",
     "output_type": "stream",
     "text": [
      "Positive Grangers: 28.38\n"
     ]
    }
   ],
   "source": [
    "# ammount of not nan\n",
    "ammount_of_positiv_grangers = News_grangers_Wiki_df[\"lowest_lag_after_diff\"].count()\n",
    "# ammount of values\n",
    "total_values = len(News_grangers_Wiki_df[\"lowest_lag_after_diff\"])\n",
    "\n",
    "print(f\"Positive Grangers: {round(ammount_of_positiv_grangers*100/total_values,2)}\")"
   ],
   "metadata": {
    "collapsed": false,
    "pycharm": {
     "name": "#%%\n"
    }
   }
  },
  {
   "cell_type": "markdown",
   "source": [
    "## KeyWords that passed Granger Test"
   ],
   "metadata": {
    "collapsed": false,
    "pycharm": {
     "name": "#%% md\n"
    }
   }
  },
  {
   "cell_type": "code",
   "execution_count": 84,
   "outputs": [
    {
     "data": {
      "text/plain": "    keyword_name  ADF_Statistics_wiki_before_diff  \\\n0             2G                        -6.152355   \n2             3G                        -5.992842   \n3              A                       -11.208058   \n6       Abschied                        -2.365278   \n10          Alle                       -11.200660   \n..           ...                              ...   \n726          Zug                        -4.861603   \n730    Zuschauer                        -2.732059   \n732         Zwei                        -7.156772   \n737           Öl                        -2.982027   \n739     Überfall                        -2.891698   \n\n     ADF_p_value_wiki_before_diff  \\\n0                    7.509110e-08   \n2                    1.729179e-07   \n3                    2.159864e-20   \n6                    1.517772e-01   \n10                   2.248212e-20   \n..                            ...   \n726                  4.140000e-05   \n730                  6.865307e-02   \n732                  3.040338e-10   \n737                  3.660724e-02   \n739                  4.632194e-02   \n\n                  ADF_critical_values_wiki_before_diff  \\\n0    {'1%': -3.4779446621720114, '5%': -2.882415612...   \n2    {'1%': -3.4776006742422374, '5%': -2.882265832...   \n3    {'1%': -3.473829775724492, '5%': -2.8806228997...   \n6    {'1%': -3.4756368462466662, '5%': -2.881410446...   \n10   {'1%': -3.473829775724492, '5%': -2.8806228997...   \n..                                                 ...   \n726  {'1%': -3.474714913481481, '5%': -2.8810087081...   \n730  {'1%': -3.4756368462466662, '5%': -2.881410446...   \n732  {'1%': -3.473829775724492, '5%': -2.8806228997...   \n737  {'1%': -3.476273058920005, '5%': -2.8816876165...   \n739  {'1%': -3.4750180242954167, '5%': -2.881140802...   \n\n     ADF_Statistics_news_before_diff  ADF_p_value_news_before_diff  \\\n0                          -6.152355                  7.509110e-08   \n2                          -5.992842                  1.729179e-07   \n3                         -11.208058                  2.159864e-20   \n6                          -2.365278                  1.517772e-01   \n10                        -11.200660                  2.248212e-20   \n..                               ...                           ...   \n726                        -4.861603                  4.140000e-05   \n730                        -2.732059                  6.865307e-02   \n732                        -7.156772                  3.040338e-10   \n737                        -2.982027                  3.660724e-02   \n739                        -2.891698                  4.632194e-02   \n\n                  ADF_critical_values_news_before_diff  \\\n0    {'1%': -3.4779446621720114, '5%': -2.882415612...   \n2    {'1%': -3.4776006742422374, '5%': -2.882265832...   \n3    {'1%': -3.473829775724492, '5%': -2.8806228997...   \n6    {'1%': -3.4756368462466662, '5%': -2.881410446...   \n10   {'1%': -3.473829775724492, '5%': -2.8806228997...   \n..                                                 ...   \n726  {'1%': -3.474714913481481, '5%': -2.8810087081...   \n730  {'1%': -3.4756368462466662, '5%': -2.881410446...   \n732  {'1%': -3.473829775724492, '5%': -2.8806228997...   \n737  {'1%': -3.476273058920005, '5%': -2.8816876165...   \n739  {'1%': -3.4750180242954167, '5%': -2.881140802...   \n\n     ADF_stationary_wiki_before_diff  ADF_stationary_news_before_diff  \\\n0                               True                             True   \n2                               True                             True   \n3                               True                             True   \n6                              False                            False   \n10                              True                             True   \n..                               ...                              ...   \n726                             True                             True   \n730                            False                            False   \n732                             True                             True   \n737                             True                             True   \n739                             True                             True   \n\n     KPSS_stationary_wiki_before_diff  ...  KPSS_stationary_news_after_diff  \\\n0                               False  ...                             True   \n2                               False  ...                             True   \n3                                True  ...                             True   \n6                                True  ...                             True   \n10                               True  ...                             True   \n..                                ...  ...                              ...   \n726                              True  ...                             True   \n730                              True  ...                             True   \n732                              True  ...                             True   \n737                              True  ...                             True   \n739                              True  ...                             True   \n\n     ssr_ftest_pValue_lag1_after_diff  ssr_ftest_pValue_lag2_after_diff  \\\n0                              0.7102                            0.0000   \n2                              0.8338                            0.9082   \n3                              0.0110                            0.1248   \n6                              0.0241                            0.0669   \n10                             0.5587                            0.7313   \n..                                ...                               ...   \n726                            0.9429                            0.0241   \n730                            0.2373                            0.0234   \n732                            0.0989                            0.0370   \n737                            0.0543                            0.0589   \n739                            0.1229                            0.0079   \n\n     ssr_ftest_pValue_lag3_after_diff  ssr_ftest_pValue_lag4_after_diff  \\\n0                              0.0000                            0.0000   \n2                              0.0530                            0.0636   \n3                              0.0798                            0.1774   \n6                              0.0900                            0.1679   \n10                             0.5311                            0.0374   \n..                                ...                               ...   \n726                            0.1360                            0.1945   \n730                            0.0257                            0.0347   \n732                            0.0554                            0.1208   \n737                            0.0635                            0.0440   \n739                            0.0040                            0.0210   \n\n     ssr_ftest_pValue_lag5_after_diff  ssr_ftest_pValue_lag6_after_diff  \\\n0                              0.0001                            0.0003   \n2                              0.0462                            0.0593   \n3                              0.1491                            0.2239   \n6                              0.0409                            0.0682   \n10                             0.1047                            0.4232   \n..                                ...                               ...   \n726                            0.1747                            0.2765   \n730                            0.2236                            0.0353   \n732                            0.1935                            0.2523   \n737                            0.1004                            0.0676   \n739                            0.0590                            0.0385   \n\n     ssr_ftest_pValue_lag7_after_diff  lowest_lag_before_diff  \\\n0                              0.0006                     3.0   \n2                              0.1076                     NaN   \n3                              0.3045                     1.0   \n6                              0.0888                     NaN   \n10                             0.3789                     NaN   \n..                                ...                     ...   \n726                            0.3019                     NaN   \n730                            0.0914                     2.0   \n732                            0.2704                     NaN   \n737                            0.0994                     1.0   \n739                            0.0530                     3.0   \n\n     lowest_lag_after_diff  \n0                      2.0  \n2                      5.0  \n3                      1.0  \n6                      1.0  \n10                     4.0  \n..                     ...  \n726                    2.0  \n730                    2.0  \n732                    2.0  \n737                    4.0  \n739                    3.0  \n\n[210 rows x 37 columns]",
      "text/html": "<div>\n<style scoped>\n    .dataframe tbody tr th:only-of-type {\n        vertical-align: middle;\n    }\n\n    .dataframe tbody tr th {\n        vertical-align: top;\n    }\n\n    .dataframe thead th {\n        text-align: right;\n    }\n</style>\n<table border=\"1\" class=\"dataframe\">\n  <thead>\n    <tr style=\"text-align: right;\">\n      <th></th>\n      <th>keyword_name</th>\n      <th>ADF_Statistics_wiki_before_diff</th>\n      <th>ADF_p_value_wiki_before_diff</th>\n      <th>ADF_critical_values_wiki_before_diff</th>\n      <th>ADF_Statistics_news_before_diff</th>\n      <th>ADF_p_value_news_before_diff</th>\n      <th>ADF_critical_values_news_before_diff</th>\n      <th>ADF_stationary_wiki_before_diff</th>\n      <th>ADF_stationary_news_before_diff</th>\n      <th>KPSS_stationary_wiki_before_diff</th>\n      <th>...</th>\n      <th>KPSS_stationary_news_after_diff</th>\n      <th>ssr_ftest_pValue_lag1_after_diff</th>\n      <th>ssr_ftest_pValue_lag2_after_diff</th>\n      <th>ssr_ftest_pValue_lag3_after_diff</th>\n      <th>ssr_ftest_pValue_lag4_after_diff</th>\n      <th>ssr_ftest_pValue_lag5_after_diff</th>\n      <th>ssr_ftest_pValue_lag6_after_diff</th>\n      <th>ssr_ftest_pValue_lag7_after_diff</th>\n      <th>lowest_lag_before_diff</th>\n      <th>lowest_lag_after_diff</th>\n    </tr>\n  </thead>\n  <tbody>\n    <tr>\n      <th>0</th>\n      <td>2G</td>\n      <td>-6.152355</td>\n      <td>7.509110e-08</td>\n      <td>{'1%': -3.4779446621720114, '5%': -2.882415612...</td>\n      <td>-6.152355</td>\n      <td>7.509110e-08</td>\n      <td>{'1%': -3.4779446621720114, '5%': -2.882415612...</td>\n      <td>True</td>\n      <td>True</td>\n      <td>False</td>\n      <td>...</td>\n      <td>True</td>\n      <td>0.7102</td>\n      <td>0.0000</td>\n      <td>0.0000</td>\n      <td>0.0000</td>\n      <td>0.0001</td>\n      <td>0.0003</td>\n      <td>0.0006</td>\n      <td>3.0</td>\n      <td>2.0</td>\n    </tr>\n    <tr>\n      <th>2</th>\n      <td>3G</td>\n      <td>-5.992842</td>\n      <td>1.729179e-07</td>\n      <td>{'1%': -3.4776006742422374, '5%': -2.882265832...</td>\n      <td>-5.992842</td>\n      <td>1.729179e-07</td>\n      <td>{'1%': -3.4776006742422374, '5%': -2.882265832...</td>\n      <td>True</td>\n      <td>True</td>\n      <td>False</td>\n      <td>...</td>\n      <td>True</td>\n      <td>0.8338</td>\n      <td>0.9082</td>\n      <td>0.0530</td>\n      <td>0.0636</td>\n      <td>0.0462</td>\n      <td>0.0593</td>\n      <td>0.1076</td>\n      <td>NaN</td>\n      <td>5.0</td>\n    </tr>\n    <tr>\n      <th>3</th>\n      <td>A</td>\n      <td>-11.208058</td>\n      <td>2.159864e-20</td>\n      <td>{'1%': -3.473829775724492, '5%': -2.8806228997...</td>\n      <td>-11.208058</td>\n      <td>2.159864e-20</td>\n      <td>{'1%': -3.473829775724492, '5%': -2.8806228997...</td>\n      <td>True</td>\n      <td>True</td>\n      <td>True</td>\n      <td>...</td>\n      <td>True</td>\n      <td>0.0110</td>\n      <td>0.1248</td>\n      <td>0.0798</td>\n      <td>0.1774</td>\n      <td>0.1491</td>\n      <td>0.2239</td>\n      <td>0.3045</td>\n      <td>1.0</td>\n      <td>1.0</td>\n    </tr>\n    <tr>\n      <th>6</th>\n      <td>Abschied</td>\n      <td>-2.365278</td>\n      <td>1.517772e-01</td>\n      <td>{'1%': -3.4756368462466662, '5%': -2.881410446...</td>\n      <td>-2.365278</td>\n      <td>1.517772e-01</td>\n      <td>{'1%': -3.4756368462466662, '5%': -2.881410446...</td>\n      <td>False</td>\n      <td>False</td>\n      <td>True</td>\n      <td>...</td>\n      <td>True</td>\n      <td>0.0241</td>\n      <td>0.0669</td>\n      <td>0.0900</td>\n      <td>0.1679</td>\n      <td>0.0409</td>\n      <td>0.0682</td>\n      <td>0.0888</td>\n      <td>NaN</td>\n      <td>1.0</td>\n    </tr>\n    <tr>\n      <th>10</th>\n      <td>Alle</td>\n      <td>-11.200660</td>\n      <td>2.248212e-20</td>\n      <td>{'1%': -3.473829775724492, '5%': -2.8806228997...</td>\n      <td>-11.200660</td>\n      <td>2.248212e-20</td>\n      <td>{'1%': -3.473829775724492, '5%': -2.8806228997...</td>\n      <td>True</td>\n      <td>True</td>\n      <td>True</td>\n      <td>...</td>\n      <td>True</td>\n      <td>0.5587</td>\n      <td>0.7313</td>\n      <td>0.5311</td>\n      <td>0.0374</td>\n      <td>0.1047</td>\n      <td>0.4232</td>\n      <td>0.3789</td>\n      <td>NaN</td>\n      <td>4.0</td>\n    </tr>\n    <tr>\n      <th>...</th>\n      <td>...</td>\n      <td>...</td>\n      <td>...</td>\n      <td>...</td>\n      <td>...</td>\n      <td>...</td>\n      <td>...</td>\n      <td>...</td>\n      <td>...</td>\n      <td>...</td>\n      <td>...</td>\n      <td>...</td>\n      <td>...</td>\n      <td>...</td>\n      <td>...</td>\n      <td>...</td>\n      <td>...</td>\n      <td>...</td>\n      <td>...</td>\n      <td>...</td>\n      <td>...</td>\n    </tr>\n    <tr>\n      <th>726</th>\n      <td>Zug</td>\n      <td>-4.861603</td>\n      <td>4.140000e-05</td>\n      <td>{'1%': -3.474714913481481, '5%': -2.8810087081...</td>\n      <td>-4.861603</td>\n      <td>4.140000e-05</td>\n      <td>{'1%': -3.474714913481481, '5%': -2.8810087081...</td>\n      <td>True</td>\n      <td>True</td>\n      <td>True</td>\n      <td>...</td>\n      <td>True</td>\n      <td>0.9429</td>\n      <td>0.0241</td>\n      <td>0.1360</td>\n      <td>0.1945</td>\n      <td>0.1747</td>\n      <td>0.2765</td>\n      <td>0.3019</td>\n      <td>NaN</td>\n      <td>2.0</td>\n    </tr>\n    <tr>\n      <th>730</th>\n      <td>Zuschauer</td>\n      <td>-2.732059</td>\n      <td>6.865307e-02</td>\n      <td>{'1%': -3.4756368462466662, '5%': -2.881410446...</td>\n      <td>-2.732059</td>\n      <td>6.865307e-02</td>\n      <td>{'1%': -3.4756368462466662, '5%': -2.881410446...</td>\n      <td>False</td>\n      <td>False</td>\n      <td>True</td>\n      <td>...</td>\n      <td>True</td>\n      <td>0.2373</td>\n      <td>0.0234</td>\n      <td>0.0257</td>\n      <td>0.0347</td>\n      <td>0.2236</td>\n      <td>0.0353</td>\n      <td>0.0914</td>\n      <td>2.0</td>\n      <td>2.0</td>\n    </tr>\n    <tr>\n      <th>732</th>\n      <td>Zwei</td>\n      <td>-7.156772</td>\n      <td>3.040338e-10</td>\n      <td>{'1%': -3.473829775724492, '5%': -2.8806228997...</td>\n      <td>-7.156772</td>\n      <td>3.040338e-10</td>\n      <td>{'1%': -3.473829775724492, '5%': -2.8806228997...</td>\n      <td>True</td>\n      <td>True</td>\n      <td>True</td>\n      <td>...</td>\n      <td>True</td>\n      <td>0.0989</td>\n      <td>0.0370</td>\n      <td>0.0554</td>\n      <td>0.1208</td>\n      <td>0.1935</td>\n      <td>0.2523</td>\n      <td>0.2704</td>\n      <td>NaN</td>\n      <td>2.0</td>\n    </tr>\n    <tr>\n      <th>737</th>\n      <td>Öl</td>\n      <td>-2.982027</td>\n      <td>3.660724e-02</td>\n      <td>{'1%': -3.476273058920005, '5%': -2.8816876165...</td>\n      <td>-2.982027</td>\n      <td>3.660724e-02</td>\n      <td>{'1%': -3.476273058920005, '5%': -2.8816876165...</td>\n      <td>True</td>\n      <td>True</td>\n      <td>True</td>\n      <td>...</td>\n      <td>True</td>\n      <td>0.0543</td>\n      <td>0.0589</td>\n      <td>0.0635</td>\n      <td>0.0440</td>\n      <td>0.1004</td>\n      <td>0.0676</td>\n      <td>0.0994</td>\n      <td>1.0</td>\n      <td>4.0</td>\n    </tr>\n    <tr>\n      <th>739</th>\n      <td>Überfall</td>\n      <td>-2.891698</td>\n      <td>4.632194e-02</td>\n      <td>{'1%': -3.4750180242954167, '5%': -2.881140802...</td>\n      <td>-2.891698</td>\n      <td>4.632194e-02</td>\n      <td>{'1%': -3.4750180242954167, '5%': -2.881140802...</td>\n      <td>True</td>\n      <td>True</td>\n      <td>True</td>\n      <td>...</td>\n      <td>True</td>\n      <td>0.1229</td>\n      <td>0.0079</td>\n      <td>0.0040</td>\n      <td>0.0210</td>\n      <td>0.0590</td>\n      <td>0.0385</td>\n      <td>0.0530</td>\n      <td>3.0</td>\n      <td>3.0</td>\n    </tr>\n  </tbody>\n</table>\n<p>210 rows × 37 columns</p>\n</div>"
     },
     "execution_count": 84,
     "metadata": {},
     "output_type": "execute_result"
    }
   ],
   "source": [
    "positive_granger_rows = News_grangers_Wiki_df[~News_grangers_Wiki_df['lowest_lag_after_diff'].isna()]\n",
    "positive_granger_rows"
   ],
   "metadata": {
    "collapsed": false,
    "pycharm": {
     "name": "#%%\n"
    }
   }
  }
 ],
 "metadata": {
  "kernelspec": {
   "display_name": "Python 3",
   "language": "python",
   "name": "python3"
  },
  "language_info": {
   "codemirror_mode": {
    "name": "ipython",
    "version": 2
   },
   "file_extension": ".py",
   "mimetype": "text/x-python",
   "name": "python",
   "nbconvert_exporter": "python",
   "pygments_lexer": "ipython2",
   "version": "2.7.6"
  }
 },
 "nbformat": 4,
 "nbformat_minor": 0
}