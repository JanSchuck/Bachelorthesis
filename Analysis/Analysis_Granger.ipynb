{
 "cells": [
  {
   "cell_type": "markdown",
   "source": [
    "# Analysis of Granger Dataframe"
   ],
   "metadata": {
    "collapsed": false,
    "pycharm": {
     "name": "#%% md\n"
    }
   }
  },
  {
   "cell_type": "markdown",
   "source": [
    "## Imports"
   ],
   "metadata": {
    "collapsed": false,
    "pycharm": {
     "name": "#%% md\n"
    }
   }
  },
  {
   "cell_type": "code",
   "execution_count": 4,
   "outputs": [],
   "source": [
    "# Pandas is an open source data analysis and manipulation tool\n",
    "import pandas as pd\n",
    "\n",
    "import numpy as np"
   ],
   "metadata": {
    "collapsed": false,
    "pycharm": {
     "name": "#%%\n"
    }
   }
  },
  {
   "cell_type": "markdown",
   "source": [
    "## Load Dataframe"
   ],
   "metadata": {
    "collapsed": false,
    "pycharm": {
     "name": "#%% md\n"
    }
   }
  },
  {
   "cell_type": "code",
   "execution_count": 63,
   "outputs": [],
   "source": [
    "News_grangers_Wiki_df = pd.read_csv(\"/Users/jan/Documents/Python_Projects/Bachelorthesis/Analysis/DataFrames/News_grangerCauses_Wikipedia_DataFrame.csv\")"
   ],
   "metadata": {
    "collapsed": false,
    "pycharm": {
     "name": "#%%\n"
    }
   }
  },
  {
   "cell_type": "code",
   "execution_count": 64,
   "outputs": [
    {
     "data": {
      "text/plain": "    keyword_name  ADF_Statistics_wiki_before_diff  \\\n0             2G                        -6.152355   \n1       2G-Regel                        -1.781506   \n2             3G                        -5.992842   \n3              A                       -11.208058   \n4             Ab                       -12.506757   \n..           ...                              ...   \n735        Ärger                        -4.321307   \n736        Ärzte                        -4.486036   \n737           Öl                        -2.982027   \n738   Österreich                        -3.359066   \n739     Überfall                        -2.891698   \n\n     ADF_p_value_wiki_before_diff  \\\n0                    7.509110e-08   \n1                    3.896814e-01   \n2                    1.729179e-07   \n3                    2.159864e-20   \n4                    2.729811e-23   \n..                            ...   \n735                  4.079498e-04   \n736                  2.083853e-04   \n737                  3.660724e-02   \n738                  1.243600e-02   \n739                  4.632194e-02   \n\n                  ADF_critical_values_wiki_before_diff  \\\n0    {'1%': -3.4779446621720114, '5%': -2.882415612...   \n1    {'1%': -3.4744158894942156, '5%': -2.880878382...   \n2    {'1%': -3.4776006742422374, '5%': -2.882265832...   \n3    {'1%': -3.473829775724492, '5%': -2.8806228997...   \n4    {'1%': -3.473829775724492, '5%': -2.8806228997...   \n..                                                 ...   \n735  {'1%': -3.474714913481481, '5%': -2.8810087081...   \n736  {'1%': -3.474714913481481, '5%': -2.8810087081...   \n737  {'1%': -3.476273058920005, '5%': -2.8816876165...   \n738  {'1%': -3.4744158894942156, '5%': -2.880878382...   \n739  {'1%': -3.4750180242954167, '5%': -2.881140802...   \n\n     ADF_Statistics_news_before_diff  ADF_p_value_news_before_diff  \\\n0                          -6.152355                  7.509110e-08   \n1                          -1.781506                  3.896814e-01   \n2                          -5.992842                  1.729179e-07   \n3                         -11.208058                  2.159864e-20   \n4                         -12.506757                  2.729811e-23   \n..                               ...                           ...   \n735                        -4.321307                  4.079498e-04   \n736                        -4.486036                  2.083853e-04   \n737                        -2.982027                  3.660724e-02   \n738                        -3.359066                  1.243600e-02   \n739                        -2.891698                  4.632194e-02   \n\n                  ADF_critical_values_news_before_diff  \\\n0    {'1%': -3.4779446621720114, '5%': -2.882415612...   \n1    {'1%': -3.4744158894942156, '5%': -2.880878382...   \n2    {'1%': -3.4776006742422374, '5%': -2.882265832...   \n3    {'1%': -3.473829775724492, '5%': -2.8806228997...   \n4    {'1%': -3.473829775724492, '5%': -2.8806228997...   \n..                                                 ...   \n735  {'1%': -3.474714913481481, '5%': -2.8810087081...   \n736  {'1%': -3.474714913481481, '5%': -2.8810087081...   \n737  {'1%': -3.476273058920005, '5%': -2.8816876165...   \n738  {'1%': -3.4744158894942156, '5%': -2.880878382...   \n739  {'1%': -3.4750180242954167, '5%': -2.881140802...   \n\n     ADF_stationary_wiki_before_diff  ADF_stationary_news_before_diff  \\\n0                               True                             True   \n1                              False                            False   \n2                               True                             True   \n3                               True                             True   \n4                               True                             True   \n..                               ...                              ...   \n735                             True                             True   \n736                             True                             True   \n737                             True                             True   \n738                             True                             True   \n739                             True                             True   \n\n     KPSS_stationary_wiki_before_diff  ...  KPSS_stationary_news_after_diff  \\\n0                                True  ...                            False   \n1                               False  ...                            False   \n2                                True  ...                            False   \n3                               False  ...                            False   \n4                               False  ...                            False   \n..                                ...  ...                              ...   \n735                             False  ...                            False   \n736                             False  ...                            False   \n737                             False  ...                            False   \n738                             False  ...                            False   \n739                             False  ...                            False   \n\n     ssr_ftest_pValue_lag1_after_diff  ssr_ftest_pValue_lag2_after_diff  \\\n0                              0.7102                            0.0000   \n1                              0.2514                            0.4399   \n2                              0.8338                            0.9082   \n3                              0.0110                            0.1248   \n4                              0.3886                            0.3131   \n..                                ...                               ...   \n735                            0.8877                            0.2547   \n736                            0.3688                            0.6435   \n737                            0.0543                            0.0589   \n738                            0.3780                            0.7398   \n739                            0.1229                            0.0079   \n\n     ssr_ftest_pValue_lag3_after_diff  ssr_ftest_pValue_lag4_after_diff  \\\n0                              0.0000                            0.0000   \n1                              0.4738                            0.6500   \n2                              0.0530                            0.0636   \n3                              0.0798                            0.1774   \n4                              0.5028                            0.2270   \n..                                ...                               ...   \n735                            0.5586                            0.3484   \n736                            0.7511                            0.8302   \n737                            0.0635                            0.0440   \n738                            0.7967                            0.9185   \n739                            0.0040                            0.0210   \n\n     ssr_ftest_pValue_lag5_after_diff  ssr_ftest_pValue_lag6_after_diff  \\\n0                              0.0001                            0.0003   \n1                              0.7239                            0.3874   \n2                              0.0462                            0.0593   \n3                              0.1491                            0.2239   \n4                              0.3611                            0.4573   \n..                                ...                               ...   \n735                            0.4828                            0.6879   \n736                            0.8614                            0.3243   \n737                            0.1004                            0.0676   \n738                            0.6653                            0.6693   \n739                            0.0590                            0.0385   \n\n     ssr_ftest_pValue_lag7_after_diff  lowest_lag_before_diff  \\\n0                              0.0006                     3.0   \n1                              0.1816                     NaN   \n2                              0.1076                     NaN   \n3                              0.3045                     1.0   \n4                              0.6517                     NaN   \n..                                ...                     ...   \n735                            0.7844                     NaN   \n736                            0.2993                     NaN   \n737                            0.0994                     1.0   \n738                            0.4903                     NaN   \n739                            0.0530                     3.0   \n\n     lowest_lag_after_diff  \n0                      2.0  \n1                      NaN  \n2                      5.0  \n3                      1.0  \n4                      NaN  \n..                     ...  \n735                    NaN  \n736                    NaN  \n737                    4.0  \n738                    NaN  \n739                    3.0  \n\n[740 rows x 37 columns]",
      "text/html": "<div>\n<style scoped>\n    .dataframe tbody tr th:only-of-type {\n        vertical-align: middle;\n    }\n\n    .dataframe tbody tr th {\n        vertical-align: top;\n    }\n\n    .dataframe thead th {\n        text-align: right;\n    }\n</style>\n<table border=\"1\" class=\"dataframe\">\n  <thead>\n    <tr style=\"text-align: right;\">\n      <th></th>\n      <th>keyword_name</th>\n      <th>ADF_Statistics_wiki_before_diff</th>\n      <th>ADF_p_value_wiki_before_diff</th>\n      <th>ADF_critical_values_wiki_before_diff</th>\n      <th>ADF_Statistics_news_before_diff</th>\n      <th>ADF_p_value_news_before_diff</th>\n      <th>ADF_critical_values_news_before_diff</th>\n      <th>ADF_stationary_wiki_before_diff</th>\n      <th>ADF_stationary_news_before_diff</th>\n      <th>KPSS_stationary_wiki_before_diff</th>\n      <th>...</th>\n      <th>KPSS_stationary_news_after_diff</th>\n      <th>ssr_ftest_pValue_lag1_after_diff</th>\n      <th>ssr_ftest_pValue_lag2_after_diff</th>\n      <th>ssr_ftest_pValue_lag3_after_diff</th>\n      <th>ssr_ftest_pValue_lag4_after_diff</th>\n      <th>ssr_ftest_pValue_lag5_after_diff</th>\n      <th>ssr_ftest_pValue_lag6_after_diff</th>\n      <th>ssr_ftest_pValue_lag7_after_diff</th>\n      <th>lowest_lag_before_diff</th>\n      <th>lowest_lag_after_diff</th>\n    </tr>\n  </thead>\n  <tbody>\n    <tr>\n      <th>0</th>\n      <td>2G</td>\n      <td>-6.152355</td>\n      <td>7.509110e-08</td>\n      <td>{'1%': -3.4779446621720114, '5%': -2.882415612...</td>\n      <td>-6.152355</td>\n      <td>7.509110e-08</td>\n      <td>{'1%': -3.4779446621720114, '5%': -2.882415612...</td>\n      <td>True</td>\n      <td>True</td>\n      <td>True</td>\n      <td>...</td>\n      <td>False</td>\n      <td>0.7102</td>\n      <td>0.0000</td>\n      <td>0.0000</td>\n      <td>0.0000</td>\n      <td>0.0001</td>\n      <td>0.0003</td>\n      <td>0.0006</td>\n      <td>3.0</td>\n      <td>2.0</td>\n    </tr>\n    <tr>\n      <th>1</th>\n      <td>2G-Regel</td>\n      <td>-1.781506</td>\n      <td>3.896814e-01</td>\n      <td>{'1%': -3.4744158894942156, '5%': -2.880878382...</td>\n      <td>-1.781506</td>\n      <td>3.896814e-01</td>\n      <td>{'1%': -3.4744158894942156, '5%': -2.880878382...</td>\n      <td>False</td>\n      <td>False</td>\n      <td>False</td>\n      <td>...</td>\n      <td>False</td>\n      <td>0.2514</td>\n      <td>0.4399</td>\n      <td>0.4738</td>\n      <td>0.6500</td>\n      <td>0.7239</td>\n      <td>0.3874</td>\n      <td>0.1816</td>\n      <td>NaN</td>\n      <td>NaN</td>\n    </tr>\n    <tr>\n      <th>2</th>\n      <td>3G</td>\n      <td>-5.992842</td>\n      <td>1.729179e-07</td>\n      <td>{'1%': -3.4776006742422374, '5%': -2.882265832...</td>\n      <td>-5.992842</td>\n      <td>1.729179e-07</td>\n      <td>{'1%': -3.4776006742422374, '5%': -2.882265832...</td>\n      <td>True</td>\n      <td>True</td>\n      <td>True</td>\n      <td>...</td>\n      <td>False</td>\n      <td>0.8338</td>\n      <td>0.9082</td>\n      <td>0.0530</td>\n      <td>0.0636</td>\n      <td>0.0462</td>\n      <td>0.0593</td>\n      <td>0.1076</td>\n      <td>NaN</td>\n      <td>5.0</td>\n    </tr>\n    <tr>\n      <th>3</th>\n      <td>A</td>\n      <td>-11.208058</td>\n      <td>2.159864e-20</td>\n      <td>{'1%': -3.473829775724492, '5%': -2.8806228997...</td>\n      <td>-11.208058</td>\n      <td>2.159864e-20</td>\n      <td>{'1%': -3.473829775724492, '5%': -2.8806228997...</td>\n      <td>True</td>\n      <td>True</td>\n      <td>False</td>\n      <td>...</td>\n      <td>False</td>\n      <td>0.0110</td>\n      <td>0.1248</td>\n      <td>0.0798</td>\n      <td>0.1774</td>\n      <td>0.1491</td>\n      <td>0.2239</td>\n      <td>0.3045</td>\n      <td>1.0</td>\n      <td>1.0</td>\n    </tr>\n    <tr>\n      <th>4</th>\n      <td>Ab</td>\n      <td>-12.506757</td>\n      <td>2.729811e-23</td>\n      <td>{'1%': -3.473829775724492, '5%': -2.8806228997...</td>\n      <td>-12.506757</td>\n      <td>2.729811e-23</td>\n      <td>{'1%': -3.473829775724492, '5%': -2.8806228997...</td>\n      <td>True</td>\n      <td>True</td>\n      <td>False</td>\n      <td>...</td>\n      <td>False</td>\n      <td>0.3886</td>\n      <td>0.3131</td>\n      <td>0.5028</td>\n      <td>0.2270</td>\n      <td>0.3611</td>\n      <td>0.4573</td>\n      <td>0.6517</td>\n      <td>NaN</td>\n      <td>NaN</td>\n    </tr>\n    <tr>\n      <th>...</th>\n      <td>...</td>\n      <td>...</td>\n      <td>...</td>\n      <td>...</td>\n      <td>...</td>\n      <td>...</td>\n      <td>...</td>\n      <td>...</td>\n      <td>...</td>\n      <td>...</td>\n      <td>...</td>\n      <td>...</td>\n      <td>...</td>\n      <td>...</td>\n      <td>...</td>\n      <td>...</td>\n      <td>...</td>\n      <td>...</td>\n      <td>...</td>\n      <td>...</td>\n      <td>...</td>\n    </tr>\n    <tr>\n      <th>735</th>\n      <td>Ärger</td>\n      <td>-4.321307</td>\n      <td>4.079498e-04</td>\n      <td>{'1%': -3.474714913481481, '5%': -2.8810087081...</td>\n      <td>-4.321307</td>\n      <td>4.079498e-04</td>\n      <td>{'1%': -3.474714913481481, '5%': -2.8810087081...</td>\n      <td>True</td>\n      <td>True</td>\n      <td>False</td>\n      <td>...</td>\n      <td>False</td>\n      <td>0.8877</td>\n      <td>0.2547</td>\n      <td>0.5586</td>\n      <td>0.3484</td>\n      <td>0.4828</td>\n      <td>0.6879</td>\n      <td>0.7844</td>\n      <td>NaN</td>\n      <td>NaN</td>\n    </tr>\n    <tr>\n      <th>736</th>\n      <td>Ärzte</td>\n      <td>-4.486036</td>\n      <td>2.083853e-04</td>\n      <td>{'1%': -3.474714913481481, '5%': -2.8810087081...</td>\n      <td>-4.486036</td>\n      <td>2.083853e-04</td>\n      <td>{'1%': -3.474714913481481, '5%': -2.8810087081...</td>\n      <td>True</td>\n      <td>True</td>\n      <td>False</td>\n      <td>...</td>\n      <td>False</td>\n      <td>0.3688</td>\n      <td>0.6435</td>\n      <td>0.7511</td>\n      <td>0.8302</td>\n      <td>0.8614</td>\n      <td>0.3243</td>\n      <td>0.2993</td>\n      <td>NaN</td>\n      <td>NaN</td>\n    </tr>\n    <tr>\n      <th>737</th>\n      <td>Öl</td>\n      <td>-2.982027</td>\n      <td>3.660724e-02</td>\n      <td>{'1%': -3.476273058920005, '5%': -2.8816876165...</td>\n      <td>-2.982027</td>\n      <td>3.660724e-02</td>\n      <td>{'1%': -3.476273058920005, '5%': -2.8816876165...</td>\n      <td>True</td>\n      <td>True</td>\n      <td>False</td>\n      <td>...</td>\n      <td>False</td>\n      <td>0.0543</td>\n      <td>0.0589</td>\n      <td>0.0635</td>\n      <td>0.0440</td>\n      <td>0.1004</td>\n      <td>0.0676</td>\n      <td>0.0994</td>\n      <td>1.0</td>\n      <td>4.0</td>\n    </tr>\n    <tr>\n      <th>738</th>\n      <td>Österreich</td>\n      <td>-3.359066</td>\n      <td>1.243600e-02</td>\n      <td>{'1%': -3.4744158894942156, '5%': -2.880878382...</td>\n      <td>-3.359066</td>\n      <td>1.243600e-02</td>\n      <td>{'1%': -3.4744158894942156, '5%': -2.880878382...</td>\n      <td>True</td>\n      <td>True</td>\n      <td>False</td>\n      <td>...</td>\n      <td>False</td>\n      <td>0.3780</td>\n      <td>0.7398</td>\n      <td>0.7967</td>\n      <td>0.9185</td>\n      <td>0.6653</td>\n      <td>0.6693</td>\n      <td>0.4903</td>\n      <td>NaN</td>\n      <td>NaN</td>\n    </tr>\n    <tr>\n      <th>739</th>\n      <td>Überfall</td>\n      <td>-2.891698</td>\n      <td>4.632194e-02</td>\n      <td>{'1%': -3.4750180242954167, '5%': -2.881140802...</td>\n      <td>-2.891698</td>\n      <td>4.632194e-02</td>\n      <td>{'1%': -3.4750180242954167, '5%': -2.881140802...</td>\n      <td>True</td>\n      <td>True</td>\n      <td>False</td>\n      <td>...</td>\n      <td>False</td>\n      <td>0.1229</td>\n      <td>0.0079</td>\n      <td>0.0040</td>\n      <td>0.0210</td>\n      <td>0.0590</td>\n      <td>0.0385</td>\n      <td>0.0530</td>\n      <td>3.0</td>\n      <td>3.0</td>\n    </tr>\n  </tbody>\n</table>\n<p>740 rows × 37 columns</p>\n</div>"
     },
     "execution_count": 64,
     "metadata": {},
     "output_type": "execute_result"
    }
   ],
   "source": [
    "News_grangers_Wiki_df"
   ],
   "metadata": {
    "collapsed": false,
    "pycharm": {
     "name": "#%%\n"
    }
   }
  },
  {
   "cell_type": "markdown",
   "source": [
    "## Mean of lags"
   ],
   "metadata": {
    "collapsed": false,
    "pycharm": {
     "name": "#%% md\n"
    }
   }
  },
  {
   "cell_type": "code",
   "execution_count": 65,
   "outputs": [
    {
     "name": "stdout",
     "output_type": "stream",
     "text": [
      "The mean of lags is: 3.55\n"
     ]
    }
   ],
   "source": [
    "print( f\"The mean of lags is: {round(News_grangers_Wiki_df['lowest_lag_after_diff'].mean(),2)}\")"
   ],
   "metadata": {
    "collapsed": false,
    "pycharm": {
     "name": "#%%\n"
    }
   }
  },
  {
   "cell_type": "markdown",
   "source": [
    "## Proportion of Granger Test positive results"
   ],
   "metadata": {
    "collapsed": false,
    "pycharm": {
     "name": "#%% md\n"
    }
   }
  },
  {
   "cell_type": "code",
   "execution_count": 73,
   "outputs": [
    {
     "name": "stdout",
     "output_type": "stream",
     "text": [
      "Positive Grangers: 28.38\n"
     ]
    }
   ],
   "source": [
    "# ammount of not nan\n",
    "ammount_of_positiv_grangers = News_grangers_Wiki_df[\"lowest_lag_after_diff\"].count()\n",
    "# ammount of values\n",
    "total_values = len(News_grangers_Wiki_df[\"lowest_lag_after_diff\"])\n",
    "\n",
    "print(f\"Positive Grangers: {round(ammount_of_positiv_grangers*100/total_values,2)}\")"
   ],
   "metadata": {
    "collapsed": false,
    "pycharm": {
     "name": "#%%\n"
    }
   }
  }
 ],
 "metadata": {
  "kernelspec": {
   "display_name": "Python 3",
   "language": "python",
   "name": "python3"
  },
  "language_info": {
   "codemirror_mode": {
    "name": "ipython",
    "version": 2
   },
   "file_extension": ".py",
   "mimetype": "text/x-python",
   "name": "python",
   "nbconvert_exporter": "python",
   "pygments_lexer": "ipython2",
   "version": "2.7.6"
  }
 },
 "nbformat": 4,
 "nbformat_minor": 0
}