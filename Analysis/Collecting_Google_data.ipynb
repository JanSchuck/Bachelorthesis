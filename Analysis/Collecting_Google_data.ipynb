{
 "cells": [
  {
   "cell_type": "markdown",
   "source": [
    "## Imports"
   ],
   "metadata": {
    "collapsed": false,
    "pycharm": {
     "name": "#%% md\n"
    }
   }
  },
  {
   "cell_type": "code",
   "execution_count": 1,
   "outputs": [],
   "source": [
    "# Pandas is an open source data analysis and manipulation tool\n",
    "import pandas as pd\n",
    "from pandas import json_normalize\n",
    "\n",
    "# os gives access to the operating system\n",
    "import os\n",
    "# The datetime module supplies classes for manipulating dates and times.\n",
    "from datetime import datetime\n",
    "import datetime\n",
    "2\n",
    "# This module provides various time-related functions.\n",
    "import time\n",
    "\n",
    "# Natural language toolkit\n",
    "from nltk.tokenize import word_tokenize\n",
    "from nltk.corpus import stopwords\n",
    "\n",
    "# library to create visualizations\n",
    "import matplotlib.pyplot as plt\n",
    "import seaborn as sns\n",
    "from matplotlib.backends.backend_pdf import PdfPages\n",
    "from matplotlib.offsetbox import AnchoredText\n",
    "\n",
    "\n",
    "# open source library for automating downloading of reports from Google Trends\n",
    "from pytrends.request import TrendReq\n",
    "\n",
    "# library to get html of website (wikipedia)\n",
    "import requests\n",
    "# json to use wikipedia return\n",
    "import json"
   ],
   "metadata": {
    "collapsed": false,
    "pycharm": {
     "name": "#%%\n"
    }
   }
  },
  {
   "cell_type": "code",
   "execution_count": 2,
   "outputs": [
    {
     "name": "stdout",
     "output_type": "stream",
     "text": [
      "<class 'pandas.core.frame.DataFrame'>\n",
      "RangeIndex: 89441 entries, 0 to 89440\n",
      "Data columns (total 2 columns):\n",
      " #   Column     Non-Null Count  Dtype \n",
      "---  ------     --------------  ----- \n",
      " 0   KeyWord    89441 non-null  object\n",
      " 1   Occurence  89441 non-null  int64 \n",
      "dtypes: int64(1), object(1)\n",
      "memory usage: 1.4+ MB\n"
     ]
    }
   ],
   "source": [
    "# Load exploded dataframe\n",
    "path = \"C:/Users/Jan/Documents/Python_Projects/Bachelorthesis/Bachelorthesis/Analysis/DataFrames/keyWords.csv\"\n",
    "\n",
    "keyWord_list = pd.read_csv(path, index_col=None,header=0)\n",
    "\n",
    "keyWord_list.info()"
   ],
   "metadata": {
    "collapsed": false,
    "pycharm": {
     "name": "#%%\n"
    }
   }
  },
  {
   "cell_type": "markdown",
   "source": [
    "## Create list of keyWords with occurence above N"
   ],
   "metadata": {
    "collapsed": false,
    "pycharm": {
     "name": "#%% md\n"
    }
   }
  },
  {
   "cell_type": "code",
   "execution_count": 5,
   "outputs": [
    {
     "name": "stdout",
     "output_type": "stream",
     "text": [
      "18-Jähriger\n",
      "19-Jähriger\n"
     ]
    },
    {
     "ename": "ResponseError",
     "evalue": "The request failed: Google returned a response with code 429.",
     "output_type": "error",
     "traceback": [
      "\u001B[1;31m---------------------------------------------------------------------------\u001B[0m",
      "\u001B[1;31mResponseError\u001B[0m                             Traceback (most recent call last)",
      "Input \u001B[1;32mIn [5]\u001B[0m, in \u001B[0;36m<cell line: 4>\u001B[1;34m()\u001B[0m\n\u001B[0;32m      2\u001B[0m keyWord_list_n50 \u001B[38;5;241m=\u001B[39m keyWord_list_n50\u001B[38;5;241m.\u001B[39mKeyWord\u001B[38;5;241m.\u001B[39mtolist()\n\u001B[0;32m      3\u001B[0m \u001B[38;5;66;03m#keyWord_list_n50 = keyWord_list_n50.reverse()\u001B[39;00m\n\u001B[1;32m----> 4\u001B[0m Google_DataFrame \u001B[38;5;241m=\u001B[39m \u001B[43mget_google_interest_over_time\u001B[49m\u001B[43m(\u001B[49m\u001B[43mkeyWord_list_n50\u001B[49m\u001B[43m)\u001B[49m\n\u001B[0;32m      5\u001B[0m Google_DataFrame\n",
      "Input \u001B[1;32mIn [3]\u001B[0m, in \u001B[0;36mget_google_interest_over_time\u001B[1;34m(keyword_list)\u001B[0m\n\u001B[0;32m     23\u001B[0m \u001B[38;5;28;01mfor\u001B[39;00m keyword \u001B[38;5;129;01min\u001B[39;00m keywords:\n\u001B[0;32m     24\u001B[0m     \u001B[38;5;28mprint\u001B[39m(keyword)\n\u001B[1;32m---> 25\u001B[0m     \u001B[43mpytrends\u001B[49m\u001B[38;5;241;43m.\u001B[39;49m\u001B[43mbuild_payload\u001B[49m\u001B[43m(\u001B[49m\u001B[43m[\u001B[49m\u001B[43mkeyword\u001B[49m\u001B[43m]\u001B[49m\u001B[43m,\u001B[49m\u001B[43m \u001B[49m\u001B[43mcat\u001B[49m\u001B[38;5;241;43m=\u001B[39;49m\u001B[38;5;241;43m0\u001B[39;49m\u001B[43m,\u001B[49m\u001B[43m \u001B[49m\u001B[43mtimeframe\u001B[49m\u001B[38;5;241;43m=\u001B[39;49m\u001B[43m \u001B[49m\u001B[38;5;28;43mstr\u001B[39;49m\u001B[43m(\u001B[49m\u001B[43mtimeframe\u001B[49m\u001B[43m)\u001B[49m\u001B[43m \u001B[49m\u001B[43m)\u001B[49m\n\u001B[0;32m     27\u001B[0m     \u001B[38;5;66;03m# get data with interest over time\u001B[39;00m\n\u001B[0;32m     28\u001B[0m     \u001B[38;5;28;01mtry\u001B[39;00m:\n",
      "File \u001B[1;32m~\\anaconda3\\lib\\site-packages\\pytrends\\request.py:183\u001B[0m, in \u001B[0;36mTrendReq.build_payload\u001B[1;34m(self, kw_list, cat, timeframe, geo, gprop)\u001B[0m\n\u001B[0;32m    181\u001B[0m \u001B[38;5;28mself\u001B[39m\u001B[38;5;241m.\u001B[39mtoken_payload[\u001B[38;5;124m'\u001B[39m\u001B[38;5;124mreq\u001B[39m\u001B[38;5;124m'\u001B[39m] \u001B[38;5;241m=\u001B[39m json\u001B[38;5;241m.\u001B[39mdumps(\u001B[38;5;28mself\u001B[39m\u001B[38;5;241m.\u001B[39mtoken_payload[\u001B[38;5;124m'\u001B[39m\u001B[38;5;124mreq\u001B[39m\u001B[38;5;124m'\u001B[39m])\n\u001B[0;32m    182\u001B[0m \u001B[38;5;66;03m# get tokens\u001B[39;00m\n\u001B[1;32m--> 183\u001B[0m \u001B[38;5;28;43mself\u001B[39;49m\u001B[38;5;241;43m.\u001B[39;49m\u001B[43m_tokens\u001B[49m\u001B[43m(\u001B[49m\u001B[43m)\u001B[49m\n\u001B[0;32m    184\u001B[0m \u001B[38;5;28;01mreturn\u001B[39;00m\n",
      "File \u001B[1;32m~\\anaconda3\\lib\\site-packages\\pytrends\\request.py:189\u001B[0m, in \u001B[0;36mTrendReq._tokens\u001B[1;34m(self)\u001B[0m\n\u001B[0;32m    187\u001B[0m \u001B[38;5;124;03m\"\"\"Makes request to Google to get API tokens for interest over time, interest by region and related queries\"\"\"\u001B[39;00m\n\u001B[0;32m    188\u001B[0m \u001B[38;5;66;03m# make the request and parse the returned json\u001B[39;00m\n\u001B[1;32m--> 189\u001B[0m widget_dicts \u001B[38;5;241m=\u001B[39m \u001B[38;5;28;43mself\u001B[39;49m\u001B[38;5;241;43m.\u001B[39;49m\u001B[43m_get_data\u001B[49m\u001B[43m(\u001B[49m\n\u001B[0;32m    190\u001B[0m \u001B[43m    \u001B[49m\u001B[43murl\u001B[49m\u001B[38;5;241;43m=\u001B[39;49m\u001B[43mTrendReq\u001B[49m\u001B[38;5;241;43m.\u001B[39;49m\u001B[43mGENERAL_URL\u001B[49m\u001B[43m,\u001B[49m\n\u001B[0;32m    191\u001B[0m \u001B[43m    \u001B[49m\u001B[43mmethod\u001B[49m\u001B[38;5;241;43m=\u001B[39;49m\u001B[43mTrendReq\u001B[49m\u001B[38;5;241;43m.\u001B[39;49m\u001B[43mGET_METHOD\u001B[49m\u001B[43m,\u001B[49m\n\u001B[0;32m    192\u001B[0m \u001B[43m    \u001B[49m\u001B[43mparams\u001B[49m\u001B[38;5;241;43m=\u001B[39;49m\u001B[38;5;28;43mself\u001B[39;49m\u001B[38;5;241;43m.\u001B[39;49m\u001B[43mtoken_payload\u001B[49m\u001B[43m,\u001B[49m\n\u001B[0;32m    193\u001B[0m \u001B[43m    \u001B[49m\u001B[43mtrim_chars\u001B[49m\u001B[38;5;241;43m=\u001B[39;49m\u001B[38;5;241;43m4\u001B[39;49m\u001B[43m,\u001B[49m\n\u001B[0;32m    194\u001B[0m \u001B[43m\u001B[49m\u001B[43m)\u001B[49m[\u001B[38;5;124m'\u001B[39m\u001B[38;5;124mwidgets\u001B[39m\u001B[38;5;124m'\u001B[39m]\n\u001B[0;32m    195\u001B[0m \u001B[38;5;66;03m# order of the json matters...\u001B[39;00m\n\u001B[0;32m    196\u001B[0m first_region_token \u001B[38;5;241m=\u001B[39m \u001B[38;5;28;01mTrue\u001B[39;00m\n",
      "File \u001B[1;32m~\\anaconda3\\lib\\site-packages\\pytrends\\request.py:157\u001B[0m, in \u001B[0;36mTrendReq._get_data\u001B[1;34m(self, url, method, trim_chars, **kwargs)\u001B[0m\n\u001B[0;32m    154\u001B[0m     \u001B[38;5;28;01mreturn\u001B[39;00m json\u001B[38;5;241m.\u001B[39mloads(content)\n\u001B[0;32m    155\u001B[0m \u001B[38;5;28;01melse\u001B[39;00m:\n\u001B[0;32m    156\u001B[0m     \u001B[38;5;66;03m# error\u001B[39;00m\n\u001B[1;32m--> 157\u001B[0m     \u001B[38;5;28;01mraise\u001B[39;00m exceptions\u001B[38;5;241m.\u001B[39mResponseError(\n\u001B[0;32m    158\u001B[0m         \u001B[38;5;124m'\u001B[39m\u001B[38;5;124mThe request failed: Google returned a \u001B[39m\u001B[38;5;124m'\u001B[39m\n\u001B[0;32m    159\u001B[0m         \u001B[38;5;124m'\u001B[39m\u001B[38;5;124mresponse with code \u001B[39m\u001B[38;5;132;01m{0}\u001B[39;00m\u001B[38;5;124m.\u001B[39m\u001B[38;5;124m'\u001B[39m\u001B[38;5;241m.\u001B[39mformat(response\u001B[38;5;241m.\u001B[39mstatus_code),\n\u001B[0;32m    160\u001B[0m         response\u001B[38;5;241m=\u001B[39mresponse)\n",
      "\u001B[1;31mResponseError\u001B[0m: The request failed: Google returned a response with code 429."
     ]
    }
   ],
   "source": [
    "keyWord_list_n50 = keyWord_list[keyWord_list[\"Occurence\"] >= 50]\n",
    "keyWord_list_n50 = keyWord_list_n50.KeyWord.tolist()\n",
    "#keyWord_list_n50 = keyWord_list_n50.reverse()\n",
    "Google_DataFrame = get_google_interest_over_time(keyWord_list_n50)\n",
    "Google_DataFrame"
   ],
   "metadata": {
    "collapsed": false,
    "pycharm": {
     "name": "#%%\n"
    }
   }
  },
  {
   "cell_type": "code",
   "execution_count": null,
   "outputs": [],
   "source": [
    "keyWord_list_n25.loc[keyWord_list_n25[\"KeyWord\"] == \"Kinder\"]"
   ],
   "metadata": {
    "collapsed": false,
    "pycharm": {
     "name": "#%%\n"
    }
   }
  },
  {
   "cell_type": "code",
   "execution_count": 3,
   "outputs": [],
   "source": [
    "error_keyWords_google_trends = []\n",
    "successfull_keyWords = []\n",
    "successfull_data = []\n",
    "\n",
    "\n",
    "def get_google_interest_over_time(keyword_list):\n",
    "    # connect to google\n",
    "    pytrends = TrendReq(hl='de-DE', tz='60',timeout=120)\n",
    "\n",
    "    # keywords\n",
    "    keywords = keyword_list\n",
    "\n",
    "    # build payload\n",
    "    startDate = \"2022-01-10\"\n",
    "    dateTime=datetime.datetime.now()\n",
    "    currentDate = dateTime.strftime(\"%Y-%m-%d\")\n",
    "    timeframe = startDate +\" \"+ str(currentDate)\n",
    "\n",
    "    pages_found_counter = 0\n",
    "    pages_not_found_counter = 0\n",
    "\n",
    "    sleep_counter = 0\n",
    "    for keyword in keywords:\n",
    "        print(keyword)\n",
    "        pytrends.build_payload([keyword], cat=0, timeframe= str(timeframe) )\n",
    "\n",
    "        # get data with interest over time\n",
    "        try:\n",
    "            data = pytrends.interest_over_time()\n",
    "            successfull_data.append(data)\n",
    "            successfull_keyWords.append(keyword)\n",
    "            pages_found_counter = pages_found_counter + 1\n",
    "\n",
    "\n",
    "        except:\n",
    "            print(keyword)\n",
    "            pages_not_found_counter = pages_not_found_counter + 1\n",
    "        # sleeper to avoid bot detection\n",
    "        time.sleep(5)\n",
    "        sleep_counter = sleep_counter +1\n",
    "        if sleep_counter == 100:\n",
    "            time.sleep(30)\n",
    "            sleep_counter == 0\n",
    "\n",
    "    # concat all google trends results\n",
    "    dfs = pd.concat(successfull_data, axis=1)\n",
    "    # remove deprecated column\n",
    "    dfs=dfs.loc[:,~dfs.columns.str.startswith('isPartial')]\n",
    "\n",
    "    # get df to right format\n",
    "    google_df = dfs.unstack().reset_index()\n",
    "    google_df = google_df.rename(columns={\"level_0\" : \"KeyWord\", 0 : \"Occurence_in_Google\"})\n",
    "\n",
    "    #fill all NaN with 0\n",
    "    google_df[\"Occurence_in_Google\"] = google_df[\"Occurence_in_Google\"].fillna(0)\n",
    "    google_df[\"Occurence_in_Google\"] = google_df[\"Occurence_in_Google\"].astype(int)\n",
    "\n",
    "    google_df[\"normalized_Occurence_in_Google\"] = google_df[\"Occurence_in_Google\"].div(100)\n",
    "    print(f\"Successfull: {pages_found_counter}\")\n",
    "    print(f\"Unsuccessfull: {pages_not_found_counter}\")\n",
    "    return google_df"
   ],
   "metadata": {
    "collapsed": false,
    "pycharm": {
     "name": "#%%\n"
    }
   }
  },
  {
   "cell_type": "code",
   "execution_count": null,
   "outputs": [],
   "source": [],
   "metadata": {
    "collapsed": false,
    "pycharm": {
     "name": "#%%\n"
    }
   }
  }
 ],
 "metadata": {
  "kernelspec": {
   "display_name": "Python 3",
   "language": "python",
   "name": "python3"
  },
  "language_info": {
   "codemirror_mode": {
    "name": "ipython",
    "version": 2
   },
   "file_extension": ".py",
   "mimetype": "text/x-python",
   "name": "python",
   "nbconvert_exporter": "python",
   "pygments_lexer": "ipython2",
   "version": "2.7.6"
  }
 },
 "nbformat": 4,
 "nbformat_minor": 0
}