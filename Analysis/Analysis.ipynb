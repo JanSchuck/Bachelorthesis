{
 "cells": [
  {
   "cell_type": "markdown",
   "id": "d1ea68f1",
   "metadata": {},
   "source": [
    "# Analysing german news articles"
   ]
  },
  {
   "cell_type": "markdown",
   "id": "6f0155c4",
   "metadata": {},
   "source": [
    "## Imports"
   ]
  },
  {
   "cell_type": "code",
   "execution_count": 1,
   "id": "f7377d82",
   "metadata": {},
   "outputs": [],
   "source": [
    "# Pandas is an open source data analysis and manipulation tool\n",
    "import pandas as pd\n",
    "from pandas import json_normalize \n",
    "\n",
    "# os gives access to the operating system\n",
    "import os\n",
    "# The datetime module supplies classes for manipulating dates and times.\n",
    "from datetime import datetime \n",
    "import datetime\n",
    "# This module provides various time-related functions.\n",
    "import time\n",
    "\n",
    "# Natural language toolkit\n",
    "from nltk.tokenize import word_tokenize\n",
    "from nltk.corpus import stopwords\n",
    "\n",
    "# library to create visualizations\n",
    "import matplotlib.pyplot as plt\n",
    "from matplotlib.backends.backend_pdf import PdfPages\n",
    "from matplotlib.offsetbox import AnchoredText\n",
    "\n",
    "\n",
    "# open source library for automating downloading of reports from Google Trends\n",
    "from pytrends.request import TrendReq\n",
    "\n",
    "# library to get html of website (wikipedia)\n",
    "import requests\n",
    "# json to use wikipedia return\n",
    "import json\n",
    "\n",
    "\n"
   ]
  },
  {
   "cell_type": "markdown",
   "id": "a8abf3d7",
   "metadata": {},
   "source": [
    "## Load data into DataFrames"
   ]
  },
  {
   "cell_type": "code",
   "execution_count": 2,
   "id": "6c9919b2",
   "metadata": {},
   "outputs": [
    {
     "name": "stdout",
     "output_type": "stream",
     "text": [
      "<class 'pandas.core.frame.DataFrame'>\n",
      "Int64Index: 40751 entries, 0 to 92825\n",
      "Data columns (total 9 columns):\n",
      " #   Column                 Non-Null Count  Dtype  \n",
      "---  ------                 --------------  -----  \n",
      " 0   Titel                  40751 non-null  object \n",
      " 1   Date_Info              40751 non-null  object \n",
      " 2   URL                    40751 non-null  object \n",
      " 3   Overline               30381 non-null  object \n",
      " 4   Breadcrumb             21867 non-null  object \n",
      " 5   author                 5687 non-null   object \n",
      " 6   detailed_informations  8010 non-null   object \n",
      " 7   Zugriff_Datum          31259 non-null  float64\n",
      " 8   News_page              40751 non-null  object \n",
      "dtypes: float64(1), object(8)\n",
      "memory usage: 3.1+ MB\n"
     ]
    }
   ],
   "source": [
    "# Folderpath to CSV's\n",
    "CSV_folderPath=\"/Users/jan/Documents/Python_Projects/Bachelorthesis/CSV_Backlog\"\n",
    "\n",
    "# Initialize list<csv> for Spiegel, Sueddeutsche, Bild and combined \n",
    "Spiegel_csvs = []\n",
    "Sueddeutsche_csvs = []\n",
    "Bild_csvs = []\n",
    "Combi_csvs = []\n",
    "\n",
    "\n",
    "# Change directory to CSV_folderPath\n",
    "os.chdir(CSV_folderPath)\n",
    "\n",
    "# iterate over all files\n",
    "for file in os.listdir():\n",
    "    # that are csvs...\n",
    "    if file.endswith(\".csv\"):        \n",
    "        # read csv to dataframe\n",
    "        df =pd.read_csv(file, index_col=None, header=0)\n",
    "        # all df append to combi...\n",
    "        Combi_csvs.append(df)\n",
    "        # sort dataframe to its list\n",
    "        #Spiegel\n",
    "        if file.startswith(\"Spiegel\"):\n",
    "            Spiegel_csvs.append(df)\n",
    "        # Sueddeutsche\n",
    "        elif file.startswith(\"Sueddeutsche\"):\n",
    "            Sueddeutsche_csvs.append(df)\n",
    "        # Bild\n",
    "        elif file.startswith(\"Bild\"):\n",
    "            Bild_csvs.append(df)\n",
    "    \n",
    "All_articles = pd.concat(Combi_csvs, axis=0, ignore_index=True)\n",
    "Spiegel_articles = pd.concat(Spiegel_csvs, axis=0, ignore_index=True)\n",
    "Sueddeutsche_articles = pd.concat(Sueddeutsche_csvs, axis=0, ignore_index=True)\n",
    "if(len(Bild_csvs)) != 0:\n",
    "    Bild_articles = pd.concat(Bild_csvs, axis=0, ignore_index=True)\n",
    "else:\n",
    "    Bild_articles=[]\n",
    "\n",
    "    \n",
    "# Drop duplicates\n",
    "\n",
    "# All articles\n",
    "All_articles= All_articles.drop_duplicates(subset=\"Titel\")\n",
    "\n",
    "# Spiegel articles\n",
    "Spiegel_articles = Spiegel_articles.drop_duplicates(subset=\"Titel\")\n",
    "\n",
    "# Sueddeutsch articles\n",
    "Sueddeutsche_articles = Sueddeutsche_articles.drop_duplicates(subset=\"Titel\")\n",
    "\n",
    "# Bild articles\n",
    "#Bild_articles = Bild_articles.drop_duplicates(subset=\"title\")\n",
    "All_articles.info()"
   ]
  },
  {
   "cell_type": "markdown",
   "id": "c051ceb3",
   "metadata": {},
   "source": [
    "## Data Cleaning"
   ]
  },
  {
   "cell_type": "markdown",
   "id": "e96245ac",
   "metadata": {},
   "source": [
    "### Cast Date_Info to datetime"
   ]
  },
  {
   "cell_type": "code",
   "execution_count": 3,
   "id": "9dbf25fd",
   "metadata": {},
   "outputs": [],
   "source": [
    "# All articles\n",
    "All_articles[\"Date_Info\"] = All_articles[\"Date_Info\"].str.strip()\n",
    "All_articles[\"Date_Info\"] = pd.to_datetime(All_articles[\"Date_Info\"], format='%d%m%Y_%H:%M')\n",
    "# Spiegel articles\n",
    "Spiegel_articles[\"Date_Info\"] = Spiegel_articles[\"Date_Info\"].str.strip()\n",
    "Spiegel_articles[\"Date_Info\"] = pd.to_datetime(Spiegel_articles[\"Date_Info\"], format='%d%m%Y_%H:%M')\n",
    "# Sueddeutsche articles\n",
    "Sueddeutsche_articles[\"Date_Info\"] = Sueddeutsche_articles[\"Date_Info\"].str.strip()\n",
    "Sueddeutsche_articles[\"Date_Info\"] = pd.to_datetime(Sueddeutsche_articles[\"Date_Info\"], format='%d%m%Y_%H:%M')\n",
    "# Bild articles\n",
    "#Bild_carticles[\"Date_Info\"] = pd.to_datetime(Bild_carticles[\"Date_Info\"], format='%d%m%Y_%H:%M')"
   ]
  },
  {
   "cell_type": "markdown",
   "id": "7e95f57d",
   "metadata": {},
   "source": [
    "## Initial data analysis"
   ]
  },
  {
   "cell_type": "markdown",
   "id": "65c10238",
   "metadata": {},
   "source": [
    "### Ammount of articles"
   ]
  },
  {
   "cell_type": "code",
   "execution_count": 4,
   "id": "1a18b9a6",
   "metadata": {},
   "outputs": [
    {
     "name": "stdout",
     "output_type": "stream",
     "text": [
      "Spiegel articles: 9492\n",
      "Sueddeutsche articles: 31261\n",
      "Bild articles: 0\n",
      "Overall: 40751\n"
     ]
    }
   ],
   "source": [
    "# Spiegel articles\n",
    "ammount_of_Spiegel_articles = len(Spiegel_articles)\n",
    "print(f\"Spiegel articles: {ammount_of_Spiegel_articles}\")\n",
    "\n",
    "# Sueddeutsche articles\n",
    "ammount_of_Sueddeutsche_articles = len(Sueddeutsche_articles)\n",
    "print(f\"Sueddeutsche articles: {ammount_of_Sueddeutsche_articles}\")\n",
    "\n",
    "# Bild articles\n",
    "ammount_of_Bild_articles = len(Bild_articles)\n",
    "print(f\"Bild articles: {ammount_of_Bild_articles}\")\n",
    "\n",
    "# All articles\n",
    "ammount_of_Combined_articles = len(All_articles)\n",
    "print(f\"Overall: {ammount_of_Combined_articles}\")"
   ]
  },
  {
   "cell_type": "markdown",
   "id": "be8fe3a8",
   "metadata": {},
   "source": [
    "# Helper"
   ]
  },
  {
   "cell_type": "markdown",
   "id": "004b1774",
   "metadata": {},
   "source": [
    "### Exploding titles"
   ]
  },
  {
   "cell_type": "code",
   "execution_count": 5,
   "id": "b13b41dd",
   "metadata": {},
   "outputs": [],
   "source": [
    "def explode_titles(title_column):\n",
    "    title_column =title_column.to_frame()\n",
    "    tokenized_titles=[]\n",
    "    title_column[\"tokenized_title\"] = \"\"\n",
    "    for index, row in title_column.iterrows():\n",
    "        # tokenize\n",
    "        tokenized_title = word_tokenize(row.Titel)\n",
    "        \n",
    "        # remove stopwords & numbers/punction\n",
    "        tokenized_title = [word for word in tokenized_title if word not in stopwords.words(\"german\")]\n",
    "        \n",
    "        # add to row\n",
    "        row.tokenized_title = tokenized_title\n",
    "        \n",
    "    return title_column"
   ]
  },
  {
   "cell_type": "code",
   "execution_count": 6,
   "id": "93859d1a",
   "metadata": {},
   "outputs": [],
   "source": [
    "def make_chunks(data, chunk_size): \n",
    "    while data:\n",
    "        chunk, data = data[:chunk_size], data[chunk_size:]\n",
    "        yield chunk"
   ]
  },
  {
   "cell_type": "markdown",
   "id": "28574384",
   "metadata": {},
   "source": [
    "### Google"
   ]
  },
  {
   "cell_type": "code",
   "execution_count": 29,
   "id": "482da2f6",
   "metadata": {},
   "outputs": [],
   "source": [
    "def get_google_interest_over_time(keyword_list):\n",
    "    # connect to google\n",
    "    pytrends = TrendReq(hl='de', tz='60') \n",
    "\n",
    "    # keywords\n",
    "    keywords = keyword_list\n",
    "\n",
    "    # build payload\n",
    "    startDate = \"2021-11-07\"\n",
    "    dateTime=datetime.datetime.now()\n",
    "    currentDate = dateTime.strftime(\"%Y-%m-%d\")\n",
    "    timeframe = startDate +\" \"+ str(currentDate)\n",
    "    dataframes = []\n",
    "    for keyword in keywords:\n",
    "        keyword_list = []\n",
    "        keyword_list.append(keyword)\n",
    "        pytrends.build_payload(keyword_list, cat=0, timeframe= str(timeframe) ) \n",
    "        \n",
    "        # get data with interest over time\n",
    "        data = pytrends.interest_over_time() \n",
    "        dataframes.append(data)\n",
    "        time.sleep(1.5)\n",
    "    \n",
    "    # concat all google trends results\n",
    "    dfs = pd.concat(dataframes, axis=1)\n",
    "    # remove deprecated column\n",
    "    dfs=dfs.loc[:,~dfs.columns.str.startswith('isPartial')]\n",
    "\n",
    "    # get df to right format\n",
    "    google_df = dfs.unstack().reset_index() \n",
    "    google_df = google_df.rename(columns={\"level_0\" : \"KeyWord\", 0 : \"Occurence_in_Google\"})\n",
    "    \n",
    "    #fill all NaN with 0\n",
    "    google_df[\"Occurence_in_Google\"] = google_df[\"Occurence_in_Google\"].fillna(0)\n",
    "    google_df[\"Occurence_in_Google\"] = google_df[\"Occurence_in_Google\"].astype(int)\n",
    "    \n",
    "    google_df[\"Occurence_in_Google_normalized\"] = google_df[\"Occurence_in_Google\"].div(100)\n",
    "    return google_df"
   ]
  },
  {
   "cell_type": "markdown",
   "id": "50344ae7",
   "metadata": {},
   "source": [
    "# Wikipedia"
   ]
  },
  {
   "cell_type": "code",
   "execution_count": 65,
   "id": "d9897c2b",
   "metadata": {},
   "outputs": [],
   "source": [
    "def get_wikipedia_interest_over_time(keyword_list):\n",
    "    dateTime=datetime.datetime.now()\n",
    "    currentDate = dateTime.strftime(\"%Y%m%d\")\n",
    "    return_list=[]\n",
    "    # chunk keywords due to wikimedia policy\n",
    "    for chunk in make_chunks(keyword_list, 200):        \n",
    "        for keyword in chunk:\n",
    "            headers = {'user-agent': 'Influence_of_daily_political_news_on_the_use_of_wikipedia/1.0 (jan.schuckatt-online.de)'}\n",
    "            url = f\"https://wikimedia.org/api/rest_v1/metrics/pageviews/per-article/de.wikipedia.org/all-access/all-agents/{keyword}/daily/20211107/{currentDate}\"\n",
    "            r = requests.get(url, headers=headers)\n",
    "            return_list.append(r.text)\n",
    "        time.sleep(5)\n",
    "    # deserialize json   \n",
    "    json_dict=[]\n",
    "    print(return_list)\n",
    "    return\n",
    "    for wiki_dict in return_list:\n",
    "        data = json.loads(wiki_dict)\n",
    "        json_dict.append(data)\n",
    "        \n",
    "    #json to dataframe\n",
    "    lst_of_df=[]\n",
    "    for counter in range(len(json_dict)):\n",
    "        try:\n",
    "            lst_of_df.append(pd.DataFrame.from_records(json_dict[counter][\"items\"]))\n",
    "        except:\n",
    "            print(json_dict[counter])\n",
    "    return_DF = pd.concat(good_dfs)\n",
    "    return_DF = return_DF.rename(columns={'article': 'keyWord', 'timestamp': 'date',\"views\" : \"Occurence in Wikipedia\"})\n",
    "    return_DF = return_DF.drop(['project', 'granularity',\"access\",\"agent\"], axis=1, inplace=True)\n",
    "    return return_DF\n",
    "             \n"
   ]
  },
  {
   "cell_type": "code",
   "execution_count": 56,
   "id": "8e8ef273",
   "metadata": {},
   "outputs": [
    {
     "ename": "NameError",
     "evalue": "name 'keyword_list' is not defined",
     "output_type": "error",
     "traceback": [
      "\u001b[0;31m---------------------------------------------------------------------------\u001b[0m",
      "\u001b[0;31mNameError\u001b[0m                                 Traceback (most recent call last)",
      "\u001b[0;32m<ipython-input-56-baa2a47e87c4>\u001b[0m in \u001b[0;36m<module>\u001b[0;34m\u001b[0m\n\u001b[0;32m----> 1\u001b[0;31m \u001b[0mraw_wikiData_jsons\u001b[0m \u001b[0;34m=\u001b[0m \u001b[0mget_wikipedia_interest_over_time\u001b[0m\u001b[0;34m(\u001b[0m\u001b[0mkeyword_list\u001b[0m\u001b[0;34m)\u001b[0m\u001b[0;34m\u001b[0m\u001b[0;34m\u001b[0m\u001b[0m\n\u001b[0m",
      "\u001b[0;31mNameError\u001b[0m: name 'keyword_list' is not defined"
     ]
    }
   ],
   "source": [
    "raw_wikiData_jsons = get_wikipedia_interest_over_time(keyword_list)\n"
   ]
  },
  {
   "cell_type": "markdown",
   "id": "6a857b49",
   "metadata": {},
   "source": [
    "### Titles "
   ]
  },
  {
   "cell_type": "code",
   "execution_count": 10,
   "id": "170fd5fe",
   "metadata": {},
   "outputs": [],
   "source": [
    "def get_occurence_of_all_titles(data_frame, columnName):\n",
    "    # Group titles by columnName\n",
    "    all_titles = data_frame.groupby(columnName).size()\n",
    "    \n",
    "    #sort titles\n",
    "    all_titles = all_titles.sort_values(ascending = False)\n",
    "    \n",
    "    return all_titles\n",
    "\n",
    "def get_occurence_of_all_capital_titles(data_frame, columnName):\n",
    "    all_titles=data_frame.groupby(columnName).size()\n",
    "\n",
    "    capital_titles=[]\n",
    "    counter=0\n",
    "    for title in all_titles.items():\n",
    "        title_s=str(title)\n",
    "        title_s=title_s.strip()\n",
    "        if title_s.istitle():\n",
    "            capital_titles.append(title)        \n",
    "    Titles = pd.DataFrame.from_records(\n",
    "    capital_titles, columns=['Title','Occurence'])\n",
    "    return Titles.sort_values(by=['Occurence'],ascending=False)\n",
    "\n",
    "def get_titles_with_minimum_occurence_N(data_frame, N):\n",
    "    all_Titles = get_occurence_of_all_capital_titles(data_frame, \"tokenized_titles\")\n",
    "    above_N = []\n",
    "    for index,row in all_Titles.iterrows():\n",
    "        if int(row.Occurence) >= N:\n",
    "            above_N.append(row)\n",
    "            \n",
    "    above_N = pd.DataFrame(above_N, columns=['Title', 'Occurence'])\n",
    "\n",
    "    return data_frame[data_frame[\"tokenized_titles\"].isin(above_N.Title)]\n",
    "\n",
    "def get_titles_with_minimum_occurence_N(data_frame, N):\n",
    "    all_Titles = get_occurence_of_all_capital_titles(data_frame, \"tokenized_titles\")\n",
    "    above_N = []\n",
    "    for index,row in all_Titles.iterrows():\n",
    "        if int(row.Occurence) >= N:\n",
    "            above_N.append(row)\n",
    "            \n",
    "    above_N = pd.DataFrame(above_N, columns=['Title', 'Occurence'])\n",
    "\n",
    "    return data_frame[data_frame[\"tokenized_titles\"].isin(above_N.Title)]        "
   ]
  },
  {
   "cell_type": "markdown",
   "id": "7c2c67e0",
   "metadata": {},
   "source": [
    "# Build big Dataframe"
   ]
  },
  {
   "cell_type": "code",
   "execution_count": 11,
   "id": "6e840f66",
   "metadata": {},
   "outputs": [],
   "source": [
    "All_articles[\"tokenized_titles\"] = explode_titles(All_articles[\"Titel\"]).tokenized_title\n",
    "All_articles = All_articles.explode(\"tokenized_titles\")\n",
    "uninteresting_titles= [\"Der\", \"Die\", \"Das\",\"Was\",\"Warum\",\"Er\",\"Sie\", \"Es\", \"Ich\", \"Du\", \"Mit\",\"Wie\",\"Ein\",\"So\",\"Wir\",\n",
    "                       \":\",\"»\",\"«\", \",\" ,\"\\'\\'\",\"``\", \"_\",\"-\" \".\",\"?\",\"–\", \"-\",\".\",\"!\"]\n",
    "\n",
    "All_articles=All_articles[~All_articles.tokenized_titles.isin(uninteresting_titles)]\n"
   ]
  },
  {
   "cell_type": "markdown",
   "id": "64812edc",
   "metadata": {},
   "source": [
    "## Analysis"
   ]
  },
  {
   "cell_type": "markdown",
   "id": "74e4ac2b",
   "metadata": {},
   "source": [
    "### Ammount of articles with occurence above n"
   ]
  },
  {
   "cell_type": "code",
   "execution_count": 12,
   "id": "a3bec31a",
   "metadata": {
    "scrolled": true
   },
   "outputs": [
    {
     "name": "stdout",
     "output_type": "stream",
     "text": [
      "n:10 = 2442\n",
      "n:25 = 853\n",
      "n:50 = 344\n",
      "n:75 = 194\n",
      "n:100 = 118\n",
      "n:125 = 81\n",
      "n:150 = 57\n",
      "n:200 = 35\n"
     ]
    }
   ],
   "source": [
    "occurence = [10,25,50,75,100,125,150,200]\n",
    "for n in occurence:\n",
    "    x = get_titles_with_minimum_occurence_N(All_articles, n)\n",
    "    y = get_occurence_of_all_capital_titles(x,\"tokenized_titles\")\n",
    "    print(\"n:\"+str(n) +\" = \"+str(len(y)))"
   ]
  },
  {
   "cell_type": "markdown",
   "id": "c71fd45b",
   "metadata": {},
   "source": [
    "# Build Occurence DF"
   ]
  },
  {
   "cell_type": "code",
   "execution_count": 32,
   "id": "141a77cb",
   "metadata": {},
   "outputs": [],
   "source": [
    "def build_Occurence_df(dataframe, n_occurences):\n",
    "    article_over_occurence = get_titles_with_minimum_occurence_N(dataframe[[\"Date_Info\", \"tokenized_titles\"]], n_occurences)\n",
    "\n",
    "    # prep keyword list \"Titles\"\n",
    "    keyword_list = list(article_over_occurence[\"tokenized_titles\"].drop_duplicates())\n",
    "    # get google data\n",
    "    google_data = get_google_interest_over_time(keyword_list)\n",
    "    # get wikipedia data\n",
    "    wikipedia_data = get_wikipedia_interest_over_time(keyword_list)\n",
    "\n",
    "    #rename columns\n",
    "    article_over_occurence = article_over_occurence.rename(columns={\"Date_Info\" : \"date\", \"tokenized_titles\" : \"Occurence_in_news\"})\n",
    "    #convert to datetime\n",
    "    article_over_occurence['date'] = pd.to_datetime(article_over_occurence.date) \n",
    "    #convert datetime format to googles datetime format\n",
    "    article_over_occurence['date'] = article_over_occurence['date'].dt.strftime('%Y-%m-%d')\n",
    "    #reshape our data frame to look like google data frame\n",
    "    occurence_df=article_over_occurence.pivot_table(index='date', columns='Occurence_in_news', aggfunc='size') \\\n",
    "                .rename_axis(None, axis=1)\n",
    "    #fill all NaN with 0\n",
    "    occurence_df = occurence_df.fillna(0)\n",
    "    occurence_df = occurence_df.astype(int)\n",
    "\n",
    "    # bring news df to right format\n",
    "    news_df = occurence_df.unstack().reset_index()\n",
    "    news_df = news_df.rename(columns={\"level_0\" : \"KeyWord\", 0 : \"Occurence_in_News\"})\n",
    "    news_df[\"date\"]=pd.to_datetime(news_df[\"date\"], format='%Y-%m-%d')\n",
    "        \n",
    "    # merge google and news\n",
    "    full_df = pd.merge(news_df, google_data, on=['KeyWord',\"date\"], how='outer')\n",
    "    #fill all NaN with 0\n",
    "    full_df[\"Occurence_in_Google\"] = full_df[\"Occurence_in_Google\"].fillna(0)\n",
    "    full_df[\"Occurence_in_Google\"] = full_df[\"Occurence_in_Google\"].astype(int)\n",
    "    return full_df\n",
    "    \n",
    "    "
   ]
  },
  {
   "cell_type": "code",
   "execution_count": null,
   "id": "7e2029be",
   "metadata": {},
   "outputs": [],
   "source": [
    "    for keyword in keyword_list:\n",
    "        keyworded_dataFrame = full_df.loc[full_df[\"KeyWord\"] == keyword]\n",
    "\n",
    "        df_chunk = keyworded_dataFrame\n",
    "        df_chunk[\"Occurence_in_News_Normalized\"]=(keyworded_dataFrame[\"Occurence_in_News\"]-keyworded_dataFrame[\"Occurence_in_News\"].min())/(keyworded_dataFrame[\"Occurence_in_News\"].max()-keyworded_dataFrame[\"Occurence_in_News\"].min())\n",
    "        print(keyword)\n",
    "        data_frame_list.append(df_chunk)"
   ]
  },
  {
   "cell_type": "code",
   "execution_count": 33,
   "id": "600cc146",
   "metadata": {},
   "outputs": [
    {
     "name": "stderr",
     "output_type": "stream",
     "text": [
      "IOPub data rate exceeded.\n",
      "The notebook server will temporarily stop sending output\n",
      "to the client in order to avoid crashing it.\n",
      "To change this limit, set the config variable\n",
      "`--NotebookApp.iopub_data_rate_limit`.\n",
      "\n",
      "Current values:\n",
      "NotebookApp.iopub_data_rate_limit=1000000.0 (bytes/sec)\n",
      "NotebookApp.rate_limit_window=3.0 (secs)\n",
      "\n"
     ]
    }
   ],
   "source": [
    "df=build_Occurence_df(All_articles,50)\n",
    "\n"
   ]
  },
  {
   "cell_type": "code",
   "execution_count": 35,
   "id": "c67427bb",
   "metadata": {},
   "outputs": [],
   "source": [
    "df_with_index = df.set_index(\"KeyWord\")"
   ]
  },
  {
   "cell_type": "code",
   "execution_count": 63,
   "id": "efef2126",
   "metadata": {},
   "outputs": [
    {
     "name": "stdout",
     "output_type": "stream",
     "text": [
      "['{\"items\":[{\"project\":\"de.wikipedia\",\"article\":\"Corona\",\"granularity\":\"daily\",\"timestamp\":\"2021110700\",\"access\":\"all-access\",\"agent\":\"all-agents\",\"views\":418},{\"project\":\"de.wikipedia\",\"article\":\"Corona\",\"granularity\":\"daily\",\"timestamp\":\"2021110800\",\"access\":\"all-access\",\"agent\":\"all-agents\",\"views\":431},{\"project\":\"de.wikipedia\",\"article\":\"Corona\",\"granularity\":\"daily\",\"timestamp\":\"2021110900\",\"access\":\"all-access\",\"agent\":\"all-agents\",\"views\":376},{\"project\":\"de.wikipedia\",\"article\":\"Corona\",\"granularity\":\"daily\",\"timestamp\":\"2021111000\",\"access\":\"all-access\",\"agent\":\"all-agents\",\"views\":495},{\"project\":\"de.wikipedia\",\"article\":\"Corona\",\"granularity\":\"daily\",\"timestamp\":\"2021111100\",\"access\":\"all-access\",\"agent\":\"all-agents\",\"views\":533},{\"project\":\"de.wikipedia\",\"article\":\"Corona\",\"granularity\":\"daily\",\"timestamp\":\"2021111200\",\"access\":\"all-access\",\"agent\":\"all-agents\",\"views\":446},{\"project\":\"de.wikipedia\",\"article\":\"Corona\",\"granularity\":\"daily\",\"timestamp\":\"2021111300\",\"access\":\"all-access\",\"agent\":\"all-agents\",\"views\":411},{\"project\":\"de.wikipedia\",\"article\":\"Corona\",\"granularity\":\"daily\",\"timestamp\":\"2021111400\",\"access\":\"all-access\",\"agent\":\"all-agents\",\"views\":536},{\"project\":\"de.wikipedia\",\"article\":\"Corona\",\"granularity\":\"daily\",\"timestamp\":\"2021111500\",\"access\":\"all-access\",\"agent\":\"all-agents\",\"views\":674},{\"project\":\"de.wikipedia\",\"article\":\"Corona\",\"granularity\":\"daily\",\"timestamp\":\"2021111600\",\"access\":\"all-access\",\"agent\":\"all-agents\",\"views\":558},{\"project\":\"de.wikipedia\",\"article\":\"Corona\",\"granularity\":\"daily\",\"timestamp\":\"2021111700\",\"access\":\"all-access\",\"agent\":\"all-agents\",\"views\":575},{\"project\":\"de.wikipedia\",\"article\":\"Corona\",\"granularity\":\"daily\",\"timestamp\":\"2021111800\",\"access\":\"all-access\",\"agent\":\"all-agents\",\"views\":691},{\"project\":\"de.wikipedia\",\"article\":\"Corona\",\"granularity\":\"daily\",\"timestamp\":\"2021111900\",\"access\":\"all-access\",\"agent\":\"all-agents\",\"views\":673},{\"project\":\"de.wikipedia\",\"article\":\"Corona\",\"granularity\":\"daily\",\"timestamp\":\"2021112000\",\"access\":\"all-access\",\"agent\":\"all-agents\",\"views\":576},{\"project\":\"de.wikipedia\",\"article\":\"Corona\",\"granularity\":\"daily\",\"timestamp\":\"2021112100\",\"access\":\"all-access\",\"agent\":\"all-agents\",\"views\":598},{\"project\":\"de.wikipedia\",\"article\":\"Corona\",\"granularity\":\"daily\",\"timestamp\":\"2021112200\",\"access\":\"all-access\",\"agent\":\"all-agents\",\"views\":748},{\"project\":\"de.wikipedia\",\"article\":\"Corona\",\"granularity\":\"daily\",\"timestamp\":\"2021112300\",\"access\":\"all-access\",\"agent\":\"all-agents\",\"views\":683},{\"project\":\"de.wikipedia\",\"article\":\"Corona\",\"granularity\":\"daily\",\"timestamp\":\"2021112400\",\"access\":\"all-access\",\"agent\":\"all-agents\",\"views\":681},{\"project\":\"de.wikipedia\",\"article\":\"Corona\",\"granularity\":\"daily\",\"timestamp\":\"2021112500\",\"access\":\"all-access\",\"agent\":\"all-agents\",\"views\":727},{\"project\":\"de.wikipedia\",\"article\":\"Corona\",\"granularity\":\"daily\",\"timestamp\":\"2021112600\",\"access\":\"all-access\",\"agent\":\"all-agents\",\"views\":1213},{\"project\":\"de.wikipedia\",\"article\":\"Corona\",\"granularity\":\"daily\",\"timestamp\":\"2021112700\",\"access\":\"all-access\",\"agent\":\"all-agents\",\"views\":1107},{\"project\":\"de.wikipedia\",\"article\":\"Corona\",\"granularity\":\"daily\",\"timestamp\":\"2021112800\",\"access\":\"all-access\",\"agent\":\"all-agents\",\"views\":1073},{\"project\":\"de.wikipedia\",\"article\":\"Corona\",\"granularity\":\"daily\",\"timestamp\":\"2021112900\",\"access\":\"all-access\",\"agent\":\"all-agents\",\"views\":967},{\"project\":\"de.wikipedia\",\"article\":\"Corona\",\"granularity\":\"daily\",\"timestamp\":\"2021113000\",\"access\":\"all-access\",\"agent\":\"all-agents\",\"views\":820},{\"project\":\"de.wikipedia\",\"article\":\"Corona\",\"granularity\":\"daily\",\"timestamp\":\"2021120100\",\"access\":\"all-access\",\"agent\":\"all-agents\",\"views\":751},{\"project\":\"de.wikipedia\",\"article\":\"Corona\",\"granularity\":\"daily\",\"timestamp\":\"2021120200\",\"access\":\"all-access\",\"agent\":\"all-agents\",\"views\":566},{\"project\":\"de.wikipedia\",\"article\":\"Corona\",\"granularity\":\"daily\",\"timestamp\":\"2021120300\",\"access\":\"all-access\",\"agent\":\"all-agents\",\"views\":676},{\"project\":\"de.wikipedia\",\"article\":\"Corona\",\"granularity\":\"daily\",\"timestamp\":\"2021120400\",\"access\":\"all-access\",\"agent\":\"all-agents\",\"views\":535},{\"project\":\"de.wikipedia\",\"article\":\"Corona\",\"granularity\":\"daily\",\"timestamp\":\"2021120500\",\"access\":\"all-access\",\"agent\":\"all-agents\",\"views\":539},{\"project\":\"de.wikipedia\",\"article\":\"Corona\",\"granularity\":\"daily\",\"timestamp\":\"2021120600\",\"access\":\"all-access\",\"agent\":\"all-agents\",\"views\":525},{\"project\":\"de.wikipedia\",\"article\":\"Corona\",\"granularity\":\"daily\",\"timestamp\":\"2021120700\",\"access\":\"all-access\",\"agent\":\"all-agents\",\"views\":585},{\"project\":\"de.wikipedia\",\"article\":\"Corona\",\"granularity\":\"daily\",\"timestamp\":\"2021120800\",\"access\":\"all-access\",\"agent\":\"all-agents\",\"views\":493},{\"project\":\"de.wikipedia\",\"article\":\"Corona\",\"granularity\":\"daily\",\"timestamp\":\"2021120900\",\"access\":\"all-access\",\"agent\":\"all-agents\",\"views\":501},{\"project\":\"de.wikipedia\",\"article\":\"Corona\",\"granularity\":\"daily\",\"timestamp\":\"2021121000\",\"access\":\"all-access\",\"agent\":\"all-agents\",\"views\":490},{\"project\":\"de.wikipedia\",\"article\":\"Corona\",\"granularity\":\"daily\",\"timestamp\":\"2021121100\",\"access\":\"all-access\",\"agent\":\"all-agents\",\"views\":401},{\"project\":\"de.wikipedia\",\"article\":\"Corona\",\"granularity\":\"daily\",\"timestamp\":\"2021121200\",\"access\":\"all-access\",\"agent\":\"all-agents\",\"views\":432},{\"project\":\"de.wikipedia\",\"article\":\"Corona\",\"granularity\":\"daily\",\"timestamp\":\"2021121300\",\"access\":\"all-access\",\"agent\":\"all-agents\",\"views\":472},{\"project\":\"de.wikipedia\",\"article\":\"Corona\",\"granularity\":\"daily\",\"timestamp\":\"2021121400\",\"access\":\"all-access\",\"agent\":\"all-agents\",\"views\":435},{\"project\":\"de.wikipedia\",\"article\":\"Corona\",\"granularity\":\"daily\",\"timestamp\":\"2021121500\",\"access\":\"all-access\",\"agent\":\"all-agents\",\"views\":655},{\"project\":\"de.wikipedia\",\"article\":\"Corona\",\"granularity\":\"daily\",\"timestamp\":\"2021121600\",\"access\":\"all-access\",\"agent\":\"all-agents\",\"views\":543},{\"project\":\"de.wikipedia\",\"article\":\"Corona\",\"granularity\":\"daily\",\"timestamp\":\"2021121700\",\"access\":\"all-access\",\"agent\":\"all-agents\",\"views\":468},{\"project\":\"de.wikipedia\",\"article\":\"Corona\",\"granularity\":\"daily\",\"timestamp\":\"2021121800\",\"access\":\"all-access\",\"agent\":\"all-agents\",\"views\":464},{\"project\":\"de.wikipedia\",\"article\":\"Corona\",\"granularity\":\"daily\",\"timestamp\":\"2021121900\",\"access\":\"all-access\",\"agent\":\"all-agents\",\"views\":574},{\"project\":\"de.wikipedia\",\"article\":\"Corona\",\"granularity\":\"daily\",\"timestamp\":\"2021122000\",\"access\":\"all-access\",\"agent\":\"all-agents\",\"views\":592},{\"project\":\"de.wikipedia\",\"article\":\"Corona\",\"granularity\":\"daily\",\"timestamp\":\"2021122100\",\"access\":\"all-access\",\"agent\":\"all-agents\",\"views\":654},{\"project\":\"de.wikipedia\",\"article\":\"Corona\",\"granularity\":\"daily\",\"timestamp\":\"2021122200\",\"access\":\"all-access\",\"agent\":\"all-agents\",\"views\":565},{\"project\":\"de.wikipedia\",\"article\":\"Corona\",\"granularity\":\"daily\",\"timestamp\":\"2021122300\",\"access\":\"all-access\",\"agent\":\"all-agents\",\"views\":509},{\"project\":\"de.wikipedia\",\"article\":\"Corona\",\"granularity\":\"daily\",\"timestamp\":\"2021122400\",\"access\":\"all-access\",\"agent\":\"all-agents\",\"views\":524},{\"project\":\"de.wikipedia\",\"article\":\"Corona\",\"granularity\":\"daily\",\"timestamp\":\"2021122500\",\"access\":\"all-access\",\"agent\":\"all-agents\",\"views\":538},{\"project\":\"de.wikipedia\",\"article\":\"Corona\",\"granularity\":\"daily\",\"timestamp\":\"2021122600\",\"access\":\"all-access\",\"agent\":\"all-agents\",\"views\":540},{\"project\":\"de.wikipedia\",\"article\":\"Corona\",\"granularity\":\"daily\",\"timestamp\":\"2021122700\",\"access\":\"all-access\",\"agent\":\"all-agents\",\"views\":468},{\"project\":\"de.wikipedia\",\"article\":\"Corona\",\"granularity\":\"daily\",\"timestamp\":\"2021122800\",\"access\":\"all-access\",\"agent\":\"all-agents\",\"views\":475},{\"project\":\"de.wikipedia\",\"article\":\"Corona\",\"granularity\":\"daily\",\"timestamp\":\"2021122900\",\"access\":\"all-access\",\"agent\":\"all-agents\",\"views\":494},{\"project\":\"de.wikipedia\",\"article\":\"Corona\",\"granularity\":\"daily\",\"timestamp\":\"2021123000\",\"access\":\"all-access\",\"agent\":\"all-agents\",\"views\":474},{\"project\":\"de.wikipedia\",\"article\":\"Corona\",\"granularity\":\"daily\",\"timestamp\":\"2021123100\",\"access\":\"all-access\",\"agent\":\"all-agents\",\"views\":464},{\"project\":\"de.wikipedia\",\"article\":\"Corona\",\"granularity\":\"daily\",\"timestamp\":\"2022010100\",\"access\":\"all-access\",\"agent\":\"all-agents\",\"views\":393},{\"project\":\"de.wikipedia\",\"article\":\"Corona\",\"granularity\":\"daily\",\"timestamp\":\"2022010200\",\"access\":\"all-access\",\"agent\":\"all-agents\",\"views\":437},{\"project\":\"de.wikipedia\",\"article\":\"Corona\",\"granularity\":\"daily\",\"timestamp\":\"2022010300\",\"access\":\"all-access\",\"agent\":\"all-agents\",\"views\":463},{\"project\":\"de.wikipedia\",\"article\":\"Corona\",\"granularity\":\"daily\",\"timestamp\":\"2022010400\",\"access\":\"all-access\",\"agent\":\"all-agents\",\"views\":531},{\"project\":\"de.wikipedia\",\"article\":\"Corona\",\"granularity\":\"daily\",\"timestamp\":\"2022010500\",\"access\":\"all-access\",\"agent\":\"all-agents\",\"views\":534},{\"project\":\"de.wikipedia\",\"article\":\"Corona\",\"granularity\":\"daily\",\"timestamp\":\"2022010600\",\"access\":\"all-access\",\"agent\":\"all-agents\",\"views\":468},{\"project\":\"de.wikipedia\",\"article\":\"Corona\",\"granularity\":\"daily\",\"timestamp\":\"2022010700\",\"access\":\"all-access\",\"agent\":\"all-agents\",\"views\":436},{\"project\":\"de.wikipedia\",\"article\":\"Corona\",\"granularity\":\"daily\",\"timestamp\":\"2022010800\",\"access\":\"all-access\",\"agent\":\"all-agents\",\"views\":426},{\"project\":\"de.wikipedia\",\"article\":\"Corona\",\"granularity\":\"daily\",\"timestamp\":\"2022010900\",\"access\":\"all-access\",\"agent\":\"all-agents\",\"views\":462},{\"project\":\"de.wikipedia\",\"article\":\"Corona\",\"granularity\":\"daily\",\"timestamp\":\"2022011000\",\"access\":\"all-access\",\"agent\":\"all-agents\",\"views\":493},{\"project\":\"de.wikipedia\",\"article\":\"Corona\",\"granularity\":\"daily\",\"timestamp\":\"2022011100\",\"access\":\"all-access\",\"agent\":\"all-agents\",\"views\":427},{\"project\":\"de.wikipedia\",\"article\":\"Corona\",\"granularity\":\"daily\",\"timestamp\":\"2022011200\",\"access\":\"all-access\",\"agent\":\"all-agents\",\"views\":483},{\"project\":\"de.wikipedia\",\"article\":\"Corona\",\"granularity\":\"daily\",\"timestamp\":\"2022011300\",\"access\":\"all-access\",\"agent\":\"all-agents\",\"views\":445},{\"project\":\"de.wikipedia\",\"article\":\"Corona\",\"granularity\":\"daily\",\"timestamp\":\"2022011400\",\"access\":\"all-access\",\"agent\":\"all-agents\",\"views\":491},{\"project\":\"de.wikipedia\",\"article\":\"Corona\",\"granularity\":\"daily\",\"timestamp\":\"2022011500\",\"access\":\"all-access\",\"agent\":\"all-agents\",\"views\":391},{\"project\":\"de.wikipedia\",\"article\":\"Corona\",\"granularity\":\"daily\",\"timestamp\":\"2022011600\",\"access\":\"all-access\",\"agent\":\"all-agents\",\"views\":412},{\"project\":\"de.wikipedia\",\"article\":\"Corona\",\"granularity\":\"daily\",\"timestamp\":\"2022011700\",\"access\":\"all-access\",\"agent\":\"all-agents\",\"views\":490},{\"project\":\"de.wikipedia\",\"article\":\"Corona\",\"granularity\":\"daily\",\"timestamp\":\"2022011800\",\"access\":\"all-access\",\"agent\":\"all-agents\",\"views\":447},{\"project\":\"de.wikipedia\",\"article\":\"Corona\",\"granularity\":\"daily\",\"timestamp\":\"2022011900\",\"access\":\"all-access\",\"agent\":\"all-agents\",\"views\":443},{\"project\":\"de.wikipedia\",\"article\":\"Corona\",\"granularity\":\"daily\",\"timestamp\":\"2022012000\",\"access\":\"all-access\",\"agent\":\"all-agents\",\"views\":475},{\"project\":\"de.wikipedia\",\"article\":\"Corona\",\"granularity\":\"daily\",\"timestamp\":\"2022012100\",\"access\":\"all-access\",\"agent\":\"all-agents\",\"views\":385},{\"project\":\"de.wikipedia\",\"article\":\"Corona\",\"granularity\":\"daily\",\"timestamp\":\"2022012200\",\"access\":\"all-access\",\"agent\":\"all-agents\",\"views\":402},{\"project\":\"de.wikipedia\",\"article\":\"Corona\",\"granularity\":\"daily\",\"timestamp\":\"2022012300\",\"access\":\"all-access\",\"agent\":\"all-agents\",\"views\":443},{\"project\":\"de.wikipedia\",\"article\":\"Corona\",\"granularity\":\"daily\",\"timestamp\":\"2022012400\",\"access\":\"all-access\",\"agent\":\"all-agents\",\"views\":418},{\"project\":\"de.wikipedia\",\"article\":\"Corona\",\"granularity\":\"daily\",\"timestamp\":\"2022012500\",\"access\":\"all-access\",\"agent\":\"all-agents\",\"views\":397},{\"project\":\"de.wikipedia\",\"article\":\"Corona\",\"granularity\":\"daily\",\"timestamp\":\"2022012600\",\"access\":\"all-access\",\"agent\":\"all-agents\",\"views\":406},{\"project\":\"de.wikipedia\",\"article\":\"Corona\",\"granularity\":\"daily\",\"timestamp\":\"2022012700\",\"access\":\"all-access\",\"agent\":\"all-agents\",\"views\":556},{\"project\":\"de.wikipedia\",\"article\":\"Corona\",\"granularity\":\"daily\",\"timestamp\":\"2022012800\",\"access\":\"all-access\",\"agent\":\"all-agents\",\"views\":401},{\"project\":\"de.wikipedia\",\"article\":\"Corona\",\"granularity\":\"daily\",\"timestamp\":\"2022012900\",\"access\":\"all-access\",\"agent\":\"all-agents\",\"views\":345},{\"project\":\"de.wikipedia\",\"article\":\"Corona\",\"granularity\":\"daily\",\"timestamp\":\"2022013000\",\"access\":\"all-access\",\"agent\":\"all-agents\",\"views\":375},{\"project\":\"de.wikipedia\",\"article\":\"Corona\",\"granularity\":\"daily\",\"timestamp\":\"2022013100\",\"access\":\"all-access\",\"agent\":\"all-agents\",\"views\":411},{\"project\":\"de.wikipedia\",\"article\":\"Corona\",\"granularity\":\"daily\",\"timestamp\":\"2022020100\",\"access\":\"all-access\",\"agent\":\"all-agents\",\"views\":388},{\"project\":\"de.wikipedia\",\"article\":\"Corona\",\"granularity\":\"daily\",\"timestamp\":\"2022020200\",\"access\":\"all-access\",\"agent\":\"all-agents\",\"views\":403},{\"project\":\"de.wikipedia\",\"article\":\"Corona\",\"granularity\":\"daily\",\"timestamp\":\"2022020300\",\"access\":\"all-access\",\"agent\":\"all-agents\",\"views\":379},{\"project\":\"de.wikipedia\",\"article\":\"Corona\",\"granularity\":\"daily\",\"timestamp\":\"2022020400\",\"access\":\"all-access\",\"agent\":\"all-agents\",\"views\":373},{\"project\":\"de.wikipedia\",\"article\":\"Corona\",\"granularity\":\"daily\",\"timestamp\":\"2022020500\",\"access\":\"all-access\",\"agent\":\"all-agents\",\"views\":363},{\"project\":\"de.wikipedia\",\"article\":\"Corona\",\"granularity\":\"daily\",\"timestamp\":\"2022020600\",\"access\":\"all-access\",\"agent\":\"all-agents\",\"views\":325},{\"project\":\"de.wikipedia\",\"article\":\"Corona\",\"granularity\":\"daily\",\"timestamp\":\"2022020700\",\"access\":\"all-access\",\"agent\":\"all-agents\",\"views\":332},{\"project\":\"de.wikipedia\",\"article\":\"Corona\",\"granularity\":\"daily\",\"timestamp\":\"2022020800\",\"access\":\"all-access\",\"agent\":\"all-agents\",\"views\":364},{\"project\":\"de.wikipedia\",\"article\":\"Corona\",\"granularity\":\"daily\",\"timestamp\":\"2022020900\",\"access\":\"all-access\",\"agent\":\"all-agents\",\"views\":367},{\"project\":\"de.wikipedia\",\"article\":\"Corona\",\"granularity\":\"daily\",\"timestamp\":\"2022021000\",\"access\":\"all-access\",\"agent\":\"all-agents\",\"views\":324},{\"project\":\"de.wikipedia\",\"article\":\"Corona\",\"granularity\":\"daily\",\"timestamp\":\"2022021100\",\"access\":\"all-access\",\"agent\":\"all-agents\",\"views\":338},{\"project\":\"de.wikipedia\",\"article\":\"Corona\",\"granularity\":\"daily\",\"timestamp\":\"2022021200\",\"access\":\"all-access\",\"agent\":\"all-agents\",\"views\":331},{\"project\":\"de.wikipedia\",\"article\":\"Corona\",\"granularity\":\"daily\",\"timestamp\":\"2022021300\",\"access\":\"all-access\",\"agent\":\"all-agents\",\"views\":306},{\"project\":\"de.wikipedia\",\"article\":\"Corona\",\"granularity\":\"daily\",\"timestamp\":\"2022021400\",\"access\":\"all-access\",\"agent\":\"all-agents\",\"views\":285},{\"project\":\"de.wikipedia\",\"article\":\"Corona\",\"granularity\":\"daily\",\"timestamp\":\"2022021500\",\"access\":\"all-access\",\"agent\":\"all-agents\",\"views\":361},{\"project\":\"de.wikipedia\",\"article\":\"Corona\",\"granularity\":\"daily\",\"timestamp\":\"2022021600\",\"access\":\"all-access\",\"agent\":\"all-agents\",\"views\":332},{\"project\":\"de.wikipedia\",\"article\":\"Corona\",\"granularity\":\"daily\",\"timestamp\":\"2022021700\",\"access\":\"all-access\",\"agent\":\"all-agents\",\"views\":321}]}', '{\"items\":[{\"project\":\"de.wikipedia\",\"article\":\"Mann\",\"granularity\":\"daily\",\"timestamp\":\"2021110700\",\"access\":\"all-access\",\"agent\":\"all-agents\",\"views\":174},{\"project\":\"de.wikipedia\",\"article\":\"Mann\",\"granularity\":\"daily\",\"timestamp\":\"2021110800\",\"access\":\"all-access\",\"agent\":\"all-agents\",\"views\":157},{\"project\":\"de.wikipedia\",\"article\":\"Mann\",\"granularity\":\"daily\",\"timestamp\":\"2021110900\",\"access\":\"all-access\",\"agent\":\"all-agents\",\"views\":140},{\"project\":\"de.wikipedia\",\"article\":\"Mann\",\"granularity\":\"daily\",\"timestamp\":\"2021111000\",\"access\":\"all-access\",\"agent\":\"all-agents\",\"views\":178},{\"project\":\"de.wikipedia\",\"article\":\"Mann\",\"granularity\":\"daily\",\"timestamp\":\"2021111100\",\"access\":\"all-access\",\"agent\":\"all-agents\",\"views\":181},{\"project\":\"de.wikipedia\",\"article\":\"Mann\",\"granularity\":\"daily\",\"timestamp\":\"2021111200\",\"access\":\"all-access\",\"agent\":\"all-agents\",\"views\":157},{\"project\":\"de.wikipedia\",\"article\":\"Mann\",\"granularity\":\"daily\",\"timestamp\":\"2021111300\",\"access\":\"all-access\",\"agent\":\"all-agents\",\"views\":166},{\"project\":\"de.wikipedia\",\"article\":\"Mann\",\"granularity\":\"daily\",\"timestamp\":\"2021111400\",\"access\":\"all-access\",\"agent\":\"all-agents\",\"views\":149},{\"project\":\"de.wikipedia\",\"article\":\"Mann\",\"granularity\":\"daily\",\"timestamp\":\"2021111500\",\"access\":\"all-access\",\"agent\":\"all-agents\",\"views\":180},{\"project\":\"de.wikipedia\",\"article\":\"Mann\",\"granularity\":\"daily\",\"timestamp\":\"2021111600\",\"access\":\"all-access\",\"agent\":\"all-agents\",\"views\":201},{\"project\":\"de.wikipedia\",\"article\":\"Mann\",\"granularity\":\"daily\",\"timestamp\":\"2021111700\",\"access\":\"all-access\",\"agent\":\"all-agents\",\"views\":166},{\"project\":\"de.wikipedia\",\"article\":\"Mann\",\"granularity\":\"daily\",\"timestamp\":\"2021111800\",\"access\":\"all-access\",\"agent\":\"all-agents\",\"views\":173},{\"project\":\"de.wikipedia\",\"article\":\"Mann\",\"granularity\":\"daily\",\"timestamp\":\"2021111900\",\"access\":\"all-access\",\"agent\":\"all-agents\",\"views\":154},{\"project\":\"de.wikipedia\",\"article\":\"Mann\",\"granularity\":\"daily\",\"timestamp\":\"2021112000\",\"access\":\"all-access\",\"agent\":\"all-agents\",\"views\":158},{\"project\":\"de.wikipedia\",\"article\":\"Mann\",\"granularity\":\"daily\",\"timestamp\":\"2021112100\",\"access\":\"all-access\",\"agent\":\"all-agents\",\"views\":226},{\"project\":\"de.wikipedia\",\"article\":\"Mann\",\"granularity\":\"daily\",\"timestamp\":\"2021112200\",\"access\":\"all-access\",\"agent\":\"all-agents\",\"views\":167},{\"project\":\"de.wikipedia\",\"article\":\"Mann\",\"granularity\":\"daily\",\"timestamp\":\"2021112300\",\"access\":\"all-access\",\"agent\":\"all-agents\",\"views\":158},{\"project\":\"de.wikipedia\",\"article\":\"Mann\",\"granularity\":\"daily\",\"timestamp\":\"2021112400\",\"access\":\"all-access\",\"agent\":\"all-agents\",\"views\":176},{\"project\":\"de.wikipedia\",\"article\":\"Mann\",\"granularity\":\"daily\",\"timestamp\":\"2021112500\",\"access\":\"all-access\",\"agent\":\"all-agents\",\"views\":183},{\"project\":\"de.wikipedia\",\"article\":\"Mann\",\"granularity\":\"daily\",\"timestamp\":\"2021112600\",\"access\":\"all-access\",\"agent\":\"all-agents\",\"views\":187},{\"project\":\"de.wikipedia\",\"article\":\"Mann\",\"granularity\":\"daily\",\"timestamp\":\"2021112700\",\"access\":\"all-access\",\"agent\":\"all-agents\",\"views\":168},{\"project\":\"de.wikipedia\",\"article\":\"Mann\",\"granularity\":\"daily\",\"timestamp\":\"2021112800\",\"access\":\"all-access\",\"agent\":\"all-agents\",\"views\":229},{\"project\":\"de.wikipedia\",\"article\":\"Mann\",\"granularity\":\"daily\",\"timestamp\":\"2021112900\",\"access\":\"all-access\",\"agent\":\"all-agents\",\"views\":183},{\"project\":\"de.wikipedia\",\"article\":\"Mann\",\"granularity\":\"daily\",\"timestamp\":\"2021113000\",\"access\":\"all-access\",\"agent\":\"all-agents\",\"views\":167},{\"project\":\"de.wikipedia\",\"article\":\"Mann\",\"granularity\":\"daily\",\"timestamp\":\"2021120100\",\"access\":\"all-access\",\"agent\":\"all-agents\",\"views\":195},{\"project\":\"de.wikipedia\",\"article\":\"Mann\",\"granularity\":\"daily\",\"timestamp\":\"2021120200\",\"access\":\"all-access\",\"agent\":\"all-agents\",\"views\":184},{\"project\":\"de.wikipedia\",\"article\":\"Mann\",\"granularity\":\"daily\",\"timestamp\":\"2021120300\",\"access\":\"all-access\",\"agent\":\"all-agents\",\"views\":484},{\"project\":\"de.wikipedia\",\"article\":\"Mann\",\"granularity\":\"daily\",\"timestamp\":\"2021120400\",\"access\":\"all-access\",\"agent\":\"all-agents\",\"views\":297},{\"project\":\"de.wikipedia\",\"article\":\"Mann\",\"granularity\":\"daily\",\"timestamp\":\"2021120500\",\"access\":\"all-access\",\"agent\":\"all-agents\",\"views\":221},{\"project\":\"de.wikipedia\",\"article\":\"Mann\",\"granularity\":\"daily\",\"timestamp\":\"2021120600\",\"access\":\"all-access\",\"agent\":\"all-agents\",\"views\":205},{\"project\":\"de.wikipedia\",\"article\":\"Mann\",\"granularity\":\"daily\",\"timestamp\":\"2021120700\",\"access\":\"all-access\",\"agent\":\"all-agents\",\"views\":186},{\"project\":\"de.wikipedia\",\"article\":\"Mann\",\"granularity\":\"daily\",\"timestamp\":\"2021120800\",\"access\":\"all-access\",\"agent\":\"all-agents\",\"views\":161},{\"project\":\"de.wikipedia\",\"article\":\"Mann\",\"granularity\":\"daily\",\"timestamp\":\"2021120900\",\"access\":\"all-access\",\"agent\":\"all-agents\",\"views\":195},{\"project\":\"de.wikipedia\",\"article\":\"Mann\",\"granularity\":\"daily\",\"timestamp\":\"2021121000\",\"access\":\"all-access\",\"agent\":\"all-agents\",\"views\":182},{\"project\":\"de.wikipedia\",\"article\":\"Mann\",\"granularity\":\"daily\",\"timestamp\":\"2021121100\",\"access\":\"all-access\",\"agent\":\"all-agents\",\"views\":178},{\"project\":\"de.wikipedia\",\"article\":\"Mann\",\"granularity\":\"daily\",\"timestamp\":\"2021121200\",\"access\":\"all-access\",\"agent\":\"all-agents\",\"views\":204},{\"project\":\"de.wikipedia\",\"article\":\"Mann\",\"granularity\":\"daily\",\"timestamp\":\"2021121300\",\"access\":\"all-access\",\"agent\":\"all-agents\",\"views\":207},{\"project\":\"de.wikipedia\",\"article\":\"Mann\",\"granularity\":\"daily\",\"timestamp\":\"2021121400\",\"access\":\"all-access\",\"agent\":\"all-agents\",\"views\":166},{\"project\":\"de.wikipedia\",\"article\":\"Mann\",\"granularity\":\"daily\",\"timestamp\":\"2021121500\",\"access\":\"all-access\",\"agent\":\"all-agents\",\"views\":152},{\"project\":\"de.wikipedia\",\"article\":\"Mann\",\"granularity\":\"daily\",\"timestamp\":\"2021121600\",\"access\":\"all-access\",\"agent\":\"all-agents\",\"views\":153},{\"project\":\"de.wikipedia\",\"article\":\"Mann\",\"granularity\":\"daily\",\"timestamp\":\"2021121700\",\"access\":\"all-access\",\"agent\":\"all-agents\",\"views\":168},{\"project\":\"de.wikipedia\",\"article\":\"Mann\",\"granularity\":\"daily\",\"timestamp\":\"2021121800\",\"access\":\"all-access\",\"agent\":\"all-agents\",\"views\":177},{\"project\":\"de.wikipedia\",\"article\":\"Mann\",\"granularity\":\"daily\",\"timestamp\":\"2021121900\",\"access\":\"all-access\",\"agent\":\"all-agents\",\"views\":171},{\"project\":\"de.wikipedia\",\"article\":\"Mann\",\"granularity\":\"daily\",\"timestamp\":\"2021122000\",\"access\":\"all-access\",\"agent\":\"all-agents\",\"views\":181},{\"project\":\"de.wikipedia\",\"article\":\"Mann\",\"granularity\":\"daily\",\"timestamp\":\"2021122100\",\"access\":\"all-access\",\"agent\":\"all-agents\",\"views\":154},{\"project\":\"de.wikipedia\",\"article\":\"Mann\",\"granularity\":\"daily\",\"timestamp\":\"2021122200\",\"access\":\"all-access\",\"agent\":\"all-agents\",\"views\":167},{\"project\":\"de.wikipedia\",\"article\":\"Mann\",\"granularity\":\"daily\",\"timestamp\":\"2021122300\",\"access\":\"all-access\",\"agent\":\"all-agents\",\"views\":153},{\"project\":\"de.wikipedia\",\"article\":\"Mann\",\"granularity\":\"daily\",\"timestamp\":\"2021122400\",\"access\":\"all-access\",\"agent\":\"all-agents\",\"views\":143},{\"project\":\"de.wikipedia\",\"article\":\"Mann\",\"granularity\":\"daily\",\"timestamp\":\"2021122500\",\"access\":\"all-access\",\"agent\":\"all-agents\",\"views\":188},{\"project\":\"de.wikipedia\",\"article\":\"Mann\",\"granularity\":\"daily\",\"timestamp\":\"2021122600\",\"access\":\"all-access\",\"agent\":\"all-agents\",\"views\":163},{\"project\":\"de.wikipedia\",\"article\":\"Mann\",\"granularity\":\"daily\",\"timestamp\":\"2021122700\",\"access\":\"all-access\",\"agent\":\"all-agents\",\"views\":218},{\"project\":\"de.wikipedia\",\"article\":\"Mann\",\"granularity\":\"daily\",\"timestamp\":\"2021122800\",\"access\":\"all-access\",\"agent\":\"all-agents\",\"views\":170},{\"project\":\"de.wikipedia\",\"article\":\"Mann\",\"granularity\":\"daily\",\"timestamp\":\"2021122900\",\"access\":\"all-access\",\"agent\":\"all-agents\",\"views\":192},{\"project\":\"de.wikipedia\",\"article\":\"Mann\",\"granularity\":\"daily\",\"timestamp\":\"2021123000\",\"access\":\"all-access\",\"agent\":\"all-agents\",\"views\":155},{\"project\":\"de.wikipedia\",\"article\":\"Mann\",\"granularity\":\"daily\",\"timestamp\":\"2021123100\",\"access\":\"all-access\",\"agent\":\"all-agents\",\"views\":155},{\"project\":\"de.wikipedia\",\"article\":\"Mann\",\"granularity\":\"daily\",\"timestamp\":\"2022010100\",\"access\":\"all-access\",\"agent\":\"all-agents\",\"views\":197},{\"project\":\"de.wikipedia\",\"article\":\"Mann\",\"granularity\":\"daily\",\"timestamp\":\"2022010200\",\"access\":\"all-access\",\"agent\":\"all-agents\",\"views\":220},{\"project\":\"de.wikipedia\",\"article\":\"Mann\",\"granularity\":\"daily\",\"timestamp\":\"2022010300\",\"access\":\"all-access\",\"agent\":\"all-agents\",\"views\":182},{\"project\":\"de.wikipedia\",\"article\":\"Mann\",\"granularity\":\"daily\",\"timestamp\":\"2022010400\",\"access\":\"all-access\",\"agent\":\"all-agents\",\"views\":179},{\"project\":\"de.wikipedia\",\"article\":\"Mann\",\"granularity\":\"daily\",\"timestamp\":\"2022010500\",\"access\":\"all-access\",\"agent\":\"all-agents\",\"views\":182},{\"project\":\"de.wikipedia\",\"article\":\"Mann\",\"granularity\":\"daily\",\"timestamp\":\"2022010600\",\"access\":\"all-access\",\"agent\":\"all-agents\",\"views\":212},{\"project\":\"de.wikipedia\",\"article\":\"Mann\",\"granularity\":\"daily\",\"timestamp\":\"2022010700\",\"access\":\"all-access\",\"agent\":\"all-agents\",\"views\":182},{\"project\":\"de.wikipedia\",\"article\":\"Mann\",\"granularity\":\"daily\",\"timestamp\":\"2022010800\",\"access\":\"all-access\",\"agent\":\"all-agents\",\"views\":229},{\"project\":\"de.wikipedia\",\"article\":\"Mann\",\"granularity\":\"daily\",\"timestamp\":\"2022010900\",\"access\":\"all-access\",\"agent\":\"all-agents\",\"views\":218},{\"project\":\"de.wikipedia\",\"article\":\"Mann\",\"granularity\":\"daily\",\"timestamp\":\"2022011000\",\"access\":\"all-access\",\"agent\":\"all-agents\",\"views\":183},{\"project\":\"de.wikipedia\",\"article\":\"Mann\",\"granularity\":\"daily\",\"timestamp\":\"2022011100\",\"access\":\"all-access\",\"agent\":\"all-agents\",\"views\":187},{\"project\":\"de.wikipedia\",\"article\":\"Mann\",\"granularity\":\"daily\",\"timestamp\":\"2022011200\",\"access\":\"all-access\",\"agent\":\"all-agents\",\"views\":176},{\"project\":\"de.wikipedia\",\"article\":\"Mann\",\"granularity\":\"daily\",\"timestamp\":\"2022011300\",\"access\":\"all-access\",\"agent\":\"all-agents\",\"views\":168},{\"project\":\"de.wikipedia\",\"article\":\"Mann\",\"granularity\":\"daily\",\"timestamp\":\"2022011400\",\"access\":\"all-access\",\"agent\":\"all-agents\",\"views\":178},{\"project\":\"de.wikipedia\",\"article\":\"Mann\",\"granularity\":\"daily\",\"timestamp\":\"2022011500\",\"access\":\"all-access\",\"agent\":\"all-agents\",\"views\":195},{\"project\":\"de.wikipedia\",\"article\":\"Mann\",\"granularity\":\"daily\",\"timestamp\":\"2022011600\",\"access\":\"all-access\",\"agent\":\"all-agents\",\"views\":201},{\"project\":\"de.wikipedia\",\"article\":\"Mann\",\"granularity\":\"daily\",\"timestamp\":\"2022011700\",\"access\":\"all-access\",\"agent\":\"all-agents\",\"views\":197},{\"project\":\"de.wikipedia\",\"article\":\"Mann\",\"granularity\":\"daily\",\"timestamp\":\"2022011800\",\"access\":\"all-access\",\"agent\":\"all-agents\",\"views\":167},{\"project\":\"de.wikipedia\",\"article\":\"Mann\",\"granularity\":\"daily\",\"timestamp\":\"2022011900\",\"access\":\"all-access\",\"agent\":\"all-agents\",\"views\":219},{\"project\":\"de.wikipedia\",\"article\":\"Mann\",\"granularity\":\"daily\",\"timestamp\":\"2022012000\",\"access\":\"all-access\",\"agent\":\"all-agents\",\"views\":192},{\"project\":\"de.wikipedia\",\"article\":\"Mann\",\"granularity\":\"daily\",\"timestamp\":\"2022012100\",\"access\":\"all-access\",\"agent\":\"all-agents\",\"views\":221},{\"project\":\"de.wikipedia\",\"article\":\"Mann\",\"granularity\":\"daily\",\"timestamp\":\"2022012200\",\"access\":\"all-access\",\"agent\":\"all-agents\",\"views\":234},{\"project\":\"de.wikipedia\",\"article\":\"Mann\",\"granularity\":\"daily\",\"timestamp\":\"2022012300\",\"access\":\"all-access\",\"agent\":\"all-agents\",\"views\":185},{\"project\":\"de.wikipedia\",\"article\":\"Mann\",\"granularity\":\"daily\",\"timestamp\":\"2022012400\",\"access\":\"all-access\",\"agent\":\"all-agents\",\"views\":182},{\"project\":\"de.wikipedia\",\"article\":\"Mann\",\"granularity\":\"daily\",\"timestamp\":\"2022012500\",\"access\":\"all-access\",\"agent\":\"all-agents\",\"views\":224},{\"project\":\"de.wikipedia\",\"article\":\"Mann\",\"granularity\":\"daily\",\"timestamp\":\"2022012600\",\"access\":\"all-access\",\"agent\":\"all-agents\",\"views\":197},{\"project\":\"de.wikipedia\",\"article\":\"Mann\",\"granularity\":\"daily\",\"timestamp\":\"2022012700\",\"access\":\"all-access\",\"agent\":\"all-agents\",\"views\":163},{\"project\":\"de.wikipedia\",\"article\":\"Mann\",\"granularity\":\"daily\",\"timestamp\":\"2022012800\",\"access\":\"all-access\",\"agent\":\"all-agents\",\"views\":187},{\"project\":\"de.wikipedia\",\"article\":\"Mann\",\"granularity\":\"daily\",\"timestamp\":\"2022012900\",\"access\":\"all-access\",\"agent\":\"all-agents\",\"views\":167},{\"project\":\"de.wikipedia\",\"article\":\"Mann\",\"granularity\":\"daily\",\"timestamp\":\"2022013000\",\"access\":\"all-access\",\"agent\":\"all-agents\",\"views\":255},{\"project\":\"de.wikipedia\",\"article\":\"Mann\",\"granularity\":\"daily\",\"timestamp\":\"2022013100\",\"access\":\"all-access\",\"agent\":\"all-agents\",\"views\":175},{\"project\":\"de.wikipedia\",\"article\":\"Mann\",\"granularity\":\"daily\",\"timestamp\":\"2022020100\",\"access\":\"all-access\",\"agent\":\"all-agents\",\"views\":176},{\"project\":\"de.wikipedia\",\"article\":\"Mann\",\"granularity\":\"daily\",\"timestamp\":\"2022020200\",\"access\":\"all-access\",\"agent\":\"all-agents\",\"views\":196},{\"project\":\"de.wikipedia\",\"article\":\"Mann\",\"granularity\":\"daily\",\"timestamp\":\"2022020300\",\"access\":\"all-access\",\"agent\":\"all-agents\",\"views\":246},{\"project\":\"de.wikipedia\",\"article\":\"Mann\",\"granularity\":\"daily\",\"timestamp\":\"2022020400\",\"access\":\"all-access\",\"agent\":\"all-agents\",\"views\":221},{\"project\":\"de.wikipedia\",\"article\":\"Mann\",\"granularity\":\"daily\",\"timestamp\":\"2022020500\",\"access\":\"all-access\",\"agent\":\"all-agents\",\"views\":168},{\"project\":\"de.wikipedia\",\"article\":\"Mann\",\"granularity\":\"daily\",\"timestamp\":\"2022020600\",\"access\":\"all-access\",\"agent\":\"all-agents\",\"views\":363},{\"project\":\"de.wikipedia\",\"article\":\"Mann\",\"granularity\":\"daily\",\"timestamp\":\"2022020700\",\"access\":\"all-access\",\"agent\":\"all-agents\",\"views\":181},{\"project\":\"de.wikipedia\",\"article\":\"Mann\",\"granularity\":\"daily\",\"timestamp\":\"2022020800\",\"access\":\"all-access\",\"agent\":\"all-agents\",\"views\":182},{\"project\":\"de.wikipedia\",\"article\":\"Mann\",\"granularity\":\"daily\",\"timestamp\":\"2022020900\",\"access\":\"all-access\",\"agent\":\"all-agents\",\"views\":193},{\"project\":\"de.wikipedia\",\"article\":\"Mann\",\"granularity\":\"daily\",\"timestamp\":\"2022021000\",\"access\":\"all-access\",\"agent\":\"all-agents\",\"views\":172},{\"project\":\"de.wikipedia\",\"article\":\"Mann\",\"granularity\":\"daily\",\"timestamp\":\"2022021100\",\"access\":\"all-access\",\"agent\":\"all-agents\",\"views\":195},{\"project\":\"de.wikipedia\",\"article\":\"Mann\",\"granularity\":\"daily\",\"timestamp\":\"2022021200\",\"access\":\"all-access\",\"agent\":\"all-agents\",\"views\":161},{\"project\":\"de.wikipedia\",\"article\":\"Mann\",\"granularity\":\"daily\",\"timestamp\":\"2022021300\",\"access\":\"all-access\",\"agent\":\"all-agents\",\"views\":197},{\"project\":\"de.wikipedia\",\"article\":\"Mann\",\"granularity\":\"daily\",\"timestamp\":\"2022021400\",\"access\":\"all-access\",\"agent\":\"all-agents\",\"views\":181},{\"project\":\"de.wikipedia\",\"article\":\"Mann\",\"granularity\":\"daily\",\"timestamp\":\"2022021500\",\"access\":\"all-access\",\"agent\":\"all-agents\",\"views\":183},{\"project\":\"de.wikipedia\",\"article\":\"Mann\",\"granularity\":\"daily\",\"timestamp\":\"2022021600\",\"access\":\"all-access\",\"agent\":\"all-agents\",\"views\":180},{\"project\":\"de.wikipedia\",\"article\":\"Mann\",\"granularity\":\"daily\",\"timestamp\":\"2022021700\",\"access\":\"all-access\",\"agent\":\"all-agents\",\"views\":173}]}', '{\"items\":[{\"project\":\"de.wikipedia\",\"article\":\"Polizei\",\"granularity\":\"daily\",\"timestamp\":\"2021110700\",\"access\":\"all-access\",\"agent\":\"all-agents\",\"views\":385},{\"project\":\"de.wikipedia\",\"article\":\"Polizei\",\"granularity\":\"daily\",\"timestamp\":\"2021110800\",\"access\":\"all-access\",\"agent\":\"all-agents\",\"views\":376},{\"project\":\"de.wikipedia\",\"article\":\"Polizei\",\"granularity\":\"daily\",\"timestamp\":\"2021110900\",\"access\":\"all-access\",\"agent\":\"all-agents\",\"views\":360},{\"project\":\"de.wikipedia\",\"article\":\"Polizei\",\"granularity\":\"daily\",\"timestamp\":\"2021111000\",\"access\":\"all-access\",\"agent\":\"all-agents\",\"views\":326},{\"project\":\"de.wikipedia\",\"article\":\"Polizei\",\"granularity\":\"daily\",\"timestamp\":\"2021111100\",\"access\":\"all-access\",\"agent\":\"all-agents\",\"views\":339},{\"project\":\"de.wikipedia\",\"article\":\"Polizei\",\"granularity\":\"daily\",\"timestamp\":\"2021111200\",\"access\":\"all-access\",\"agent\":\"all-agents\",\"views\":282},{\"project\":\"de.wikipedia\",\"article\":\"Polizei\",\"granularity\":\"daily\",\"timestamp\":\"2021111300\",\"access\":\"all-access\",\"agent\":\"all-agents\",\"views\":313},{\"project\":\"de.wikipedia\",\"article\":\"Polizei\",\"granularity\":\"daily\",\"timestamp\":\"2021111400\",\"access\":\"all-access\",\"agent\":\"all-agents\",\"views\":320},{\"project\":\"de.wikipedia\",\"article\":\"Polizei\",\"granularity\":\"daily\",\"timestamp\":\"2021111500\",\"access\":\"all-access\",\"agent\":\"all-agents\",\"views\":386},{\"project\":\"de.wikipedia\",\"article\":\"Polizei\",\"granularity\":\"daily\",\"timestamp\":\"2021111600\",\"access\":\"all-access\",\"agent\":\"all-agents\",\"views\":423},{\"project\":\"de.wikipedia\",\"article\":\"Polizei\",\"granularity\":\"daily\",\"timestamp\":\"2021111700\",\"access\":\"all-access\",\"agent\":\"all-agents\",\"views\":355},{\"project\":\"de.wikipedia\",\"article\":\"Polizei\",\"granularity\":\"daily\",\"timestamp\":\"2021111800\",\"access\":\"all-access\",\"agent\":\"all-agents\",\"views\":350},{\"project\":\"de.wikipedia\",\"article\":\"Polizei\",\"granularity\":\"daily\",\"timestamp\":\"2021111900\",\"access\":\"all-access\",\"agent\":\"all-agents\",\"views\":346},{\"project\":\"de.wikipedia\",\"article\":\"Polizei\",\"granularity\":\"daily\",\"timestamp\":\"2021112000\",\"access\":\"all-access\",\"agent\":\"all-agents\",\"views\":347},{\"project\":\"de.wikipedia\",\"article\":\"Polizei\",\"granularity\":\"daily\",\"timestamp\":\"2021112100\",\"access\":\"all-access\",\"agent\":\"all-agents\",\"views\":345},{\"project\":\"de.wikipedia\",\"article\":\"Polizei\",\"granularity\":\"daily\",\"timestamp\":\"2021112200\",\"access\":\"all-access\",\"agent\":\"all-agents\",\"views\":380},{\"project\":\"de.wikipedia\",\"article\":\"Polizei\",\"granularity\":\"daily\",\"timestamp\":\"2021112300\",\"access\":\"all-access\",\"agent\":\"all-agents\",\"views\":330},{\"project\":\"de.wikipedia\",\"article\":\"Polizei\",\"granularity\":\"daily\",\"timestamp\":\"2021112400\",\"access\":\"all-access\",\"agent\":\"all-agents\",\"views\":343},{\"project\":\"de.wikipedia\",\"article\":\"Polizei\",\"granularity\":\"daily\",\"timestamp\":\"2021112500\",\"access\":\"all-access\",\"agent\":\"all-agents\",\"views\":334},{\"project\":\"de.wikipedia\",\"article\":\"Polizei\",\"granularity\":\"daily\",\"timestamp\":\"2021112600\",\"access\":\"all-access\",\"agent\":\"all-agents\",\"views\":1932},{\"project\":\"de.wikipedia\",\"article\":\"Polizei\",\"granularity\":\"daily\",\"timestamp\":\"2021112700\",\"access\":\"all-access\",\"agent\":\"all-agents\",\"views\":1067},{\"project\":\"de.wikipedia\",\"article\":\"Polizei\",\"granularity\":\"daily\",\"timestamp\":\"2021112800\",\"access\":\"all-access\",\"agent\":\"all-agents\",\"views\":745},{\"project\":\"de.wikipedia\",\"article\":\"Polizei\",\"granularity\":\"daily\",\"timestamp\":\"2021112900\",\"access\":\"all-access\",\"agent\":\"all-agents\",\"views\":655},{\"project\":\"de.wikipedia\",\"article\":\"Polizei\",\"granularity\":\"daily\",\"timestamp\":\"2021113000\",\"access\":\"all-access\",\"agent\":\"all-agents\",\"views\":637},{\"project\":\"de.wikipedia\",\"article\":\"Polizei\",\"granularity\":\"daily\",\"timestamp\":\"2021120100\",\"access\":\"all-access\",\"agent\":\"all-agents\",\"views\":482},{\"project\":\"de.wikipedia\",\"article\":\"Polizei\",\"granularity\":\"daily\",\"timestamp\":\"2021120200\",\"access\":\"all-access\",\"agent\":\"all-agents\",\"views\":526},{\"project\":\"de.wikipedia\",\"article\":\"Polizei\",\"granularity\":\"daily\",\"timestamp\":\"2021120300\",\"access\":\"all-access\",\"agent\":\"all-agents\",\"views\":626},{\"project\":\"de.wikipedia\",\"article\":\"Polizei\",\"granularity\":\"daily\",\"timestamp\":\"2021120400\",\"access\":\"all-access\",\"agent\":\"all-agents\",\"views\":421},{\"project\":\"de.wikipedia\",\"article\":\"Polizei\",\"granularity\":\"daily\",\"timestamp\":\"2021120500\",\"access\":\"all-access\",\"agent\":\"all-agents\",\"views\":391},{\"project\":\"de.wikipedia\",\"article\":\"Polizei\",\"granularity\":\"daily\",\"timestamp\":\"2021120600\",\"access\":\"all-access\",\"agent\":\"all-agents\",\"views\":424},{\"project\":\"de.wikipedia\",\"article\":\"Polizei\",\"granularity\":\"daily\",\"timestamp\":\"2021120700\",\"access\":\"all-access\",\"agent\":\"all-agents\",\"views\":477},{\"project\":\"de.wikipedia\",\"article\":\"Polizei\",\"granularity\":\"daily\",\"timestamp\":\"2021120800\",\"access\":\"all-access\",\"agent\":\"all-agents\",\"views\":437},{\"project\":\"de.wikipedia\",\"article\":\"Polizei\",\"granularity\":\"daily\",\"timestamp\":\"2021120900\",\"access\":\"all-access\",\"agent\":\"all-agents\",\"views\":354},{\"project\":\"de.wikipedia\",\"article\":\"Polizei\",\"granularity\":\"daily\",\"timestamp\":\"2021121000\",\"access\":\"all-access\",\"agent\":\"all-agents\",\"views\":397},{\"project\":\"de.wikipedia\",\"article\":\"Polizei\",\"granularity\":\"daily\",\"timestamp\":\"2021121100\",\"access\":\"all-access\",\"agent\":\"all-agents\",\"views\":329},{\"project\":\"de.wikipedia\",\"article\":\"Polizei\",\"granularity\":\"daily\",\"timestamp\":\"2021121200\",\"access\":\"all-access\",\"agent\":\"all-agents\",\"views\":384},{\"project\":\"de.wikipedia\",\"article\":\"Polizei\",\"granularity\":\"daily\",\"timestamp\":\"2021121300\",\"access\":\"all-access\",\"agent\":\"all-agents\",\"views\":487},{\"project\":\"de.wikipedia\",\"article\":\"Polizei\",\"granularity\":\"daily\",\"timestamp\":\"2021121400\",\"access\":\"all-access\",\"agent\":\"all-agents\",\"views\":452},{\"project\":\"de.wikipedia\",\"article\":\"Polizei\",\"granularity\":\"daily\",\"timestamp\":\"2021121500\",\"access\":\"all-access\",\"agent\":\"all-agents\",\"views\":408},{\"project\":\"de.wikipedia\",\"article\":\"Polizei\",\"granularity\":\"daily\",\"timestamp\":\"2021121600\",\"access\":\"all-access\",\"agent\":\"all-agents\",\"views\":416},{\"project\":\"de.wikipedia\",\"article\":\"Polizei\",\"granularity\":\"daily\",\"timestamp\":\"2021121700\",\"access\":\"all-access\",\"agent\":\"all-agents\",\"views\":339},{\"project\":\"de.wikipedia\",\"article\":\"Polizei\",\"granularity\":\"daily\",\"timestamp\":\"2021121800\",\"access\":\"all-access\",\"agent\":\"all-agents\",\"views\":285},{\"project\":\"de.wikipedia\",\"article\":\"Polizei\",\"granularity\":\"daily\",\"timestamp\":\"2021121900\",\"access\":\"all-access\",\"agent\":\"all-agents\",\"views\":357},{\"project\":\"de.wikipedia\",\"article\":\"Polizei\",\"granularity\":\"daily\",\"timestamp\":\"2021122000\",\"access\":\"all-access\",\"agent\":\"all-agents\",\"views\":322},{\"project\":\"de.wikipedia\",\"article\":\"Polizei\",\"granularity\":\"daily\",\"timestamp\":\"2021122100\",\"access\":\"all-access\",\"agent\":\"all-agents\",\"views\":316},{\"project\":\"de.wikipedia\",\"article\":\"Polizei\",\"granularity\":\"daily\",\"timestamp\":\"2021122200\",\"access\":\"all-access\",\"agent\":\"all-agents\",\"views\":284},{\"project\":\"de.wikipedia\",\"article\":\"Polizei\",\"granularity\":\"daily\",\"timestamp\":\"2021122300\",\"access\":\"all-access\",\"agent\":\"all-agents\",\"views\":281},{\"project\":\"de.wikipedia\",\"article\":\"Polizei\",\"granularity\":\"daily\",\"timestamp\":\"2021122400\",\"access\":\"all-access\",\"agent\":\"all-agents\",\"views\":243},{\"project\":\"de.wikipedia\",\"article\":\"Polizei\",\"granularity\":\"daily\",\"timestamp\":\"2021122500\",\"access\":\"all-access\",\"agent\":\"all-agents\",\"views\":270},{\"project\":\"de.wikipedia\",\"article\":\"Polizei\",\"granularity\":\"daily\",\"timestamp\":\"2021122600\",\"access\":\"all-access\",\"agent\":\"all-agents\",\"views\":275},{\"project\":\"de.wikipedia\",\"article\":\"Polizei\",\"granularity\":\"daily\",\"timestamp\":\"2021122700\",\"access\":\"all-access\",\"agent\":\"all-agents\",\"views\":350},{\"project\":\"de.wikipedia\",\"article\":\"Polizei\",\"granularity\":\"daily\",\"timestamp\":\"2021122800\",\"access\":\"all-access\",\"agent\":\"all-agents\",\"views\":498},{\"project\":\"de.wikipedia\",\"article\":\"Polizei\",\"granularity\":\"daily\",\"timestamp\":\"2021122900\",\"access\":\"all-access\",\"agent\":\"all-agents\",\"views\":493},{\"project\":\"de.wikipedia\",\"article\":\"Polizei\",\"granularity\":\"daily\",\"timestamp\":\"2021123000\",\"access\":\"all-access\",\"agent\":\"all-agents\",\"views\":385},{\"project\":\"de.wikipedia\",\"article\":\"Polizei\",\"granularity\":\"daily\",\"timestamp\":\"2021123100\",\"access\":\"all-access\",\"agent\":\"all-agents\",\"views\":253},{\"project\":\"de.wikipedia\",\"article\":\"Polizei\",\"granularity\":\"daily\",\"timestamp\":\"2022010100\",\"access\":\"all-access\",\"agent\":\"all-agents\",\"views\":329},{\"project\":\"de.wikipedia\",\"article\":\"Polizei\",\"granularity\":\"daily\",\"timestamp\":\"2022010200\",\"access\":\"all-access\",\"agent\":\"all-agents\",\"views\":331},{\"project\":\"de.wikipedia\",\"article\":\"Polizei\",\"granularity\":\"daily\",\"timestamp\":\"2022010300\",\"access\":\"all-access\",\"agent\":\"all-agents\",\"views\":320},{\"project\":\"de.wikipedia\",\"article\":\"Polizei\",\"granularity\":\"daily\",\"timestamp\":\"2022010400\",\"access\":\"all-access\",\"agent\":\"all-agents\",\"views\":431},{\"project\":\"de.wikipedia\",\"article\":\"Polizei\",\"granularity\":\"daily\",\"timestamp\":\"2022010500\",\"access\":\"all-access\",\"agent\":\"all-agents\",\"views\":384},{\"project\":\"de.wikipedia\",\"article\":\"Polizei\",\"granularity\":\"daily\",\"timestamp\":\"2022010600\",\"access\":\"all-access\",\"agent\":\"all-agents\",\"views\":433},{\"project\":\"de.wikipedia\",\"article\":\"Polizei\",\"granularity\":\"daily\",\"timestamp\":\"2022010700\",\"access\":\"all-access\",\"agent\":\"all-agents\",\"views\":357},{\"project\":\"de.wikipedia\",\"article\":\"Polizei\",\"granularity\":\"daily\",\"timestamp\":\"2022010800\",\"access\":\"all-access\",\"agent\":\"all-agents\",\"views\":336},{\"project\":\"de.wikipedia\",\"article\":\"Polizei\",\"granularity\":\"daily\",\"timestamp\":\"2022010900\",\"access\":\"all-access\",\"agent\":\"all-agents\",\"views\":384},{\"project\":\"de.wikipedia\",\"article\":\"Polizei\",\"granularity\":\"daily\",\"timestamp\":\"2022011000\",\"access\":\"all-access\",\"agent\":\"all-agents\",\"views\":404},{\"project\":\"de.wikipedia\",\"article\":\"Polizei\",\"granularity\":\"daily\",\"timestamp\":\"2022011100\",\"access\":\"all-access\",\"agent\":\"all-agents\",\"views\":465},{\"project\":\"de.wikipedia\",\"article\":\"Polizei\",\"granularity\":\"daily\",\"timestamp\":\"2022011200\",\"access\":\"all-access\",\"agent\":\"all-agents\",\"views\":455},{\"project\":\"de.wikipedia\",\"article\":\"Polizei\",\"granularity\":\"daily\",\"timestamp\":\"2022011300\",\"access\":\"all-access\",\"agent\":\"all-agents\",\"views\":433},{\"project\":\"de.wikipedia\",\"article\":\"Polizei\",\"granularity\":\"daily\",\"timestamp\":\"2022011400\",\"access\":\"all-access\",\"agent\":\"all-agents\",\"views\":361},{\"project\":\"de.wikipedia\",\"article\":\"Polizei\",\"granularity\":\"daily\",\"timestamp\":\"2022011500\",\"access\":\"all-access\",\"agent\":\"all-agents\",\"views\":301},{\"project\":\"de.wikipedia\",\"article\":\"Polizei\",\"granularity\":\"daily\",\"timestamp\":\"2022011600\",\"access\":\"all-access\",\"agent\":\"all-agents\",\"views\":483},{\"project\":\"de.wikipedia\",\"article\":\"Polizei\",\"granularity\":\"daily\",\"timestamp\":\"2022011700\",\"access\":\"all-access\",\"agent\":\"all-agents\",\"views\":452},{\"project\":\"de.wikipedia\",\"article\":\"Polizei\",\"granularity\":\"daily\",\"timestamp\":\"2022011800\",\"access\":\"all-access\",\"agent\":\"all-agents\",\"views\":449},{\"project\":\"de.wikipedia\",\"article\":\"Polizei\",\"granularity\":\"daily\",\"timestamp\":\"2022011900\",\"access\":\"all-access\",\"agent\":\"all-agents\",\"views\":404},{\"project\":\"de.wikipedia\",\"article\":\"Polizei\",\"granularity\":\"daily\",\"timestamp\":\"2022012000\",\"access\":\"all-access\",\"agent\":\"all-agents\",\"views\":400},{\"project\":\"de.wikipedia\",\"article\":\"Polizei\",\"granularity\":\"daily\",\"timestamp\":\"2022012100\",\"access\":\"all-access\",\"agent\":\"all-agents\",\"views\":355},{\"project\":\"de.wikipedia\",\"article\":\"Polizei\",\"granularity\":\"daily\",\"timestamp\":\"2022012200\",\"access\":\"all-access\",\"agent\":\"all-agents\",\"views\":331},{\"project\":\"de.wikipedia\",\"article\":\"Polizei\",\"granularity\":\"daily\",\"timestamp\":\"2022012300\",\"access\":\"all-access\",\"agent\":\"all-agents\",\"views\":394},{\"project\":\"de.wikipedia\",\"article\":\"Polizei\",\"granularity\":\"daily\",\"timestamp\":\"2022012400\",\"access\":\"all-access\",\"agent\":\"all-agents\",\"views\":463},{\"project\":\"de.wikipedia\",\"article\":\"Polizei\",\"granularity\":\"daily\",\"timestamp\":\"2022012500\",\"access\":\"all-access\",\"agent\":\"all-agents\",\"views\":407},{\"project\":\"de.wikipedia\",\"article\":\"Polizei\",\"granularity\":\"daily\",\"timestamp\":\"2022012600\",\"access\":\"all-access\",\"agent\":\"all-agents\",\"views\":424},{\"project\":\"de.wikipedia\",\"article\":\"Polizei\",\"granularity\":\"daily\",\"timestamp\":\"2022012700\",\"access\":\"all-access\",\"agent\":\"all-agents\",\"views\":449},{\"project\":\"de.wikipedia\",\"article\":\"Polizei\",\"granularity\":\"daily\",\"timestamp\":\"2022012800\",\"access\":\"all-access\",\"agent\":\"all-agents\",\"views\":327},{\"project\":\"de.wikipedia\",\"article\":\"Polizei\",\"granularity\":\"daily\",\"timestamp\":\"2022012900\",\"access\":\"all-access\",\"agent\":\"all-agents\",\"views\":337},{\"project\":\"de.wikipedia\",\"article\":\"Polizei\",\"granularity\":\"daily\",\"timestamp\":\"2022013000\",\"access\":\"all-access\",\"agent\":\"all-agents\",\"views\":387},{\"project\":\"de.wikipedia\",\"article\":\"Polizei\",\"granularity\":\"daily\",\"timestamp\":\"2022013100\",\"access\":\"all-access\",\"agent\":\"all-agents\",\"views\":521},{\"project\":\"de.wikipedia\",\"article\":\"Polizei\",\"granularity\":\"daily\",\"timestamp\":\"2022020100\",\"access\":\"all-access\",\"agent\":\"all-agents\",\"views\":555},{\"project\":\"de.wikipedia\",\"article\":\"Polizei\",\"granularity\":\"daily\",\"timestamp\":\"2022020200\",\"access\":\"all-access\",\"agent\":\"all-agents\",\"views\":352},{\"project\":\"de.wikipedia\",\"article\":\"Polizei\",\"granularity\":\"daily\",\"timestamp\":\"2022020300\",\"access\":\"all-access\",\"agent\":\"all-agents\",\"views\":398},{\"project\":\"de.wikipedia\",\"article\":\"Polizei\",\"granularity\":\"daily\",\"timestamp\":\"2022020400\",\"access\":\"all-access\",\"agent\":\"all-agents\",\"views\":448},{\"project\":\"de.wikipedia\",\"article\":\"Polizei\",\"granularity\":\"daily\",\"timestamp\":\"2022020500\",\"access\":\"all-access\",\"agent\":\"all-agents\",\"views\":363},{\"project\":\"de.wikipedia\",\"article\":\"Polizei\",\"granularity\":\"daily\",\"timestamp\":\"2022020600\",\"access\":\"all-access\",\"agent\":\"all-agents\",\"views\":356},{\"project\":\"de.wikipedia\",\"article\":\"Polizei\",\"granularity\":\"daily\",\"timestamp\":\"2022020700\",\"access\":\"all-access\",\"agent\":\"all-agents\",\"views\":366},{\"project\":\"de.wikipedia\",\"article\":\"Polizei\",\"granularity\":\"daily\",\"timestamp\":\"2022020800\",\"access\":\"all-access\",\"agent\":\"all-agents\",\"views\":367},{\"project\":\"de.wikipedia\",\"article\":\"Polizei\",\"granularity\":\"daily\",\"timestamp\":\"2022020900\",\"access\":\"all-access\",\"agent\":\"all-agents\",\"views\":371},{\"project\":\"de.wikipedia\",\"article\":\"Polizei\",\"granularity\":\"daily\",\"timestamp\":\"2022021000\",\"access\":\"all-access\",\"agent\":\"all-agents\",\"views\":334},{\"project\":\"de.wikipedia\",\"article\":\"Polizei\",\"granularity\":\"daily\",\"timestamp\":\"2022021100\",\"access\":\"all-access\",\"agent\":\"all-agents\",\"views\":357},{\"project\":\"de.wikipedia\",\"article\":\"Polizei\",\"granularity\":\"daily\",\"timestamp\":\"2022021200\",\"access\":\"all-access\",\"agent\":\"all-agents\",\"views\":387},{\"project\":\"de.wikipedia\",\"article\":\"Polizei\",\"granularity\":\"daily\",\"timestamp\":\"2022021300\",\"access\":\"all-access\",\"agent\":\"all-agents\",\"views\":327},{\"project\":\"de.wikipedia\",\"article\":\"Polizei\",\"granularity\":\"daily\",\"timestamp\":\"2022021400\",\"access\":\"all-access\",\"agent\":\"all-agents\",\"views\":312},{\"project\":\"de.wikipedia\",\"article\":\"Polizei\",\"granularity\":\"daily\",\"timestamp\":\"2022021500\",\"access\":\"all-access\",\"agent\":\"all-agents\",\"views\":404},{\"project\":\"de.wikipedia\",\"article\":\"Polizei\",\"granularity\":\"daily\",\"timestamp\":\"2022021600\",\"access\":\"all-access\",\"agent\":\"all-agents\",\"views\":337},{\"project\":\"de.wikipedia\",\"article\":\"Polizei\",\"granularity\":\"daily\",\"timestamp\":\"2022021700\",\"access\":\"all-access\",\"agent\":\"all-agents\",\"views\":341}]}']\n"
     ]
    }
   ],
   "source": [
    "wikipedia_data = get_wikipedia_interest_over_time([\"Corona\", \"Mann\", \"Polizei\"])"
   ]
  },
  {
   "cell_type": "code",
   "execution_count": 76,
   "id": "ebbdf0c5",
   "metadata": {},
   "outputs": [],
   "source": [
    "def get_wikipedia_interst_over_time1(keyword_list):\n",
    "    dateTime=datetime.datetime.now()\n",
    "    currentDate = dateTime.strftime(\"%Y%m%d\")\n",
    "    return_list=[]\n",
    "    # chunk keywords due to wikimedia policy\n",
    "    for chunk in make_chunks(keyword_list, 200):        \n",
    "        for keyword in chunk:\n",
    "            headers = {'user-agent': 'Influence_of_daily_political_news_on_the_use_of_wikipedia/1.0 (jan.schuckatt-online.de)'}\n",
    "            url = f\"https://wikimedia.org/api/rest_v1/metrics/pageviews/per-article/de.wikipedia.org/all-access/all-agents/{keyword}/daily/20211107/{currentDate}\"\n",
    "            r = requests.get(url, headers=headers)\n",
    "            return_list.append(r.text)\n",
    "        time.sleep(5)\n",
    "    # deserialize json   \n",
    "    json_dict=[]\n",
    "    for wiki_dict in raw_wikiData_jsons:\n",
    "        data = json.loads(wiki_dict)\n",
    "        json_dict.append(data)\n",
    "        \n",
    "    #json to dataframe\n",
    "    lst_of_df=[]\n",
    "    for counter in range(len(json_dict)):\n",
    "        try:\n",
    "            lst_of_df.append(pd.DataFrame.from_records(json_dict[counter][\"items\"]))\n",
    "        except:\n",
    "            print(json_dict[counter])\n",
    "    return pd.concat(good_dfs)\n",
    "\n"
   ]
  },
  {
   "cell_type": "code",
   "execution_count": 77,
   "id": "4f925e98",
   "metadata": {},
   "outputs": [
    {
     "ename": "NameError",
     "evalue": "name 'raw_wikiData_jsons' is not defined",
     "output_type": "error",
     "traceback": [
      "\u001b[0;31m---------------------------------------------------------------------------\u001b[0m",
      "\u001b[0;31mNameError\u001b[0m                                 Traceback (most recent call last)",
      "\u001b[0;32m<ipython-input-77-ec391e4063d0>\u001b[0m in \u001b[0;36m<module>\u001b[0;34m\u001b[0m\n\u001b[0;32m----> 1\u001b[0;31m \u001b[0mtestDF\u001b[0m \u001b[0;34m=\u001b[0m \u001b[0mget_wikipedia_interst_over_time1\u001b[0m\u001b[0;34m(\u001b[0m\u001b[0;34m[\u001b[0m\u001b[0;34m\"Corona\"\u001b[0m\u001b[0;34m,\u001b[0m \u001b[0;34m\"Polizei\"\u001b[0m\u001b[0;34m]\u001b[0m\u001b[0;34m)\u001b[0m\u001b[0;34m\u001b[0m\u001b[0;34m\u001b[0m\u001b[0m\n\u001b[0m",
      "\u001b[0;32m<ipython-input-76-b8b337c848b1>\u001b[0m in \u001b[0;36mget_wikipedia_interst_over_time1\u001b[0;34m(keyword_list)\u001b[0m\n\u001b[1;32m     13\u001b[0m     \u001b[0;31m# deserialize json\u001b[0m\u001b[0;34m\u001b[0m\u001b[0;34m\u001b[0m\u001b[0;34m\u001b[0m\u001b[0m\n\u001b[1;32m     14\u001b[0m     \u001b[0mjson_dict\u001b[0m\u001b[0;34m=\u001b[0m\u001b[0;34m[\u001b[0m\u001b[0;34m]\u001b[0m\u001b[0;34m\u001b[0m\u001b[0;34m\u001b[0m\u001b[0m\n\u001b[0;32m---> 15\u001b[0;31m     \u001b[0;32mfor\u001b[0m \u001b[0mwiki_dict\u001b[0m \u001b[0;32min\u001b[0m \u001b[0mraw_wikiData_jsons\u001b[0m\u001b[0;34m:\u001b[0m\u001b[0;34m\u001b[0m\u001b[0;34m\u001b[0m\u001b[0m\n\u001b[0m\u001b[1;32m     16\u001b[0m         \u001b[0mdata\u001b[0m \u001b[0;34m=\u001b[0m \u001b[0mjson\u001b[0m\u001b[0;34m.\u001b[0m\u001b[0mloads\u001b[0m\u001b[0;34m(\u001b[0m\u001b[0mwiki_dict\u001b[0m\u001b[0;34m)\u001b[0m\u001b[0;34m\u001b[0m\u001b[0;34m\u001b[0m\u001b[0m\n\u001b[1;32m     17\u001b[0m         \u001b[0mjson_dict\u001b[0m\u001b[0;34m.\u001b[0m\u001b[0mappend\u001b[0m\u001b[0;34m(\u001b[0m\u001b[0mdata\u001b[0m\u001b[0;34m)\u001b[0m\u001b[0;34m\u001b[0m\u001b[0;34m\u001b[0m\u001b[0m\n",
      "\u001b[0;31mNameError\u001b[0m: name 'raw_wikiData_jsons' is not defined"
     ]
    }
   ],
   "source": [
    "testDF = get_wikipedia_interst_over_time1([\"Corona\", \"Polizei\"])"
   ]
  },
  {
   "cell_type": "code",
   "execution_count": null,
   "id": "9cb5c584",
   "metadata": {},
   "outputs": [],
   "source": []
  },
  {
   "cell_type": "code",
   "execution_count": null,
   "id": "ff9733a0",
   "metadata": {},
   "outputs": [],
   "source": [
    "# NEWSPAGE\n",
    "# get all titles that occure above N\n",
    "article_over_occurence = get_titles_with_minimum_occurence_N(All_articles[[\"Date_Info\", \"tokenized_titles\"]], 50)\n",
    "\n",
    "# prep keyword list \"Titles\"\n",
    "keyword_list = list(article_over_occurence[\"tokenized_titles\"].drop_duplicates())\n",
    "\n",
    "#rename columns\n",
    "article_over_occurence = article_over_occurence.rename(columns={\"Date_Info\" : \"date\", \"tokenized_titles\" : \"Occurence_in_news\"})\n",
    "#convert to datetime\n",
    "article_over_occurence['date'] = pd.to_datetime(article_over_occurence.date) \n",
    "#convert datetime format to googles datetime format\n",
    "article_over_occurence['date'] = article_over_occurence['date'].dt.strftime('%Y-%m-%d')\n",
    "#reshape our data frame to look like google data frame\n",
    "occurence_df=article_over_occurence.pivot_table(index='date', columns='Occurence_in_news', aggfunc='size') \\\n",
    "            .rename_axis(None, axis=1)\n",
    "#fill all NaN with 0\n",
    "occurence_df = occurence_df.fillna(0)\n",
    "occurence_df = occurence_df.astype(int)\n",
    "\n",
    "# GOOGLE \n",
    "# google trends laden\n",
    "data = google_interest_over_time(keyword_list)\n",
    "# concat all google trends results\n",
    "dfs = pd.concat(data, axis=1)\n",
    "# remove deprecated column\n",
    "dfs=dfs.loc[:,~dfs.columns.str.startswith('isPartial')]\n",
    "\n",
    "\n",
    "# get current datetime for later filenames\n",
    "date_time = datetime.datetime.today().strftime(\"%d_%m_%Y\")\n",
    "# list where all plots land\n",
    "all_plots=[]\n",
    "# list where \n",
    "#iterate over keyword list\n",
    "for keyword in keyword_list:\n",
    "    # get series for news\n",
    "    news_data = occurence_df[keyword]\n",
    "    # get series for google\n",
    "    google_data = dfs[keyword]\n",
    "    \n",
    "    # rename the Series\n",
    "    news_data= news_data.rename(\"News_Data\")\n",
    "    google_data = google_data.rename(\"Google_Data\")\n",
    "    \n",
    "    # cast to dataframe \n",
    "    news_data = news_data.to_frame()\n",
    "    google_data = google_data.to_frame()\n",
    "    # reset index\n",
    "    news_data = news_data.reset_index()\n",
    "    \n",
    "    news_data['date'] = pd.to_datetime(news_data.date) \n",
    "    merged_data = pd.merge(news_data,google_data, how=\"outer\", on=\"date\")\n",
    "    merged_data.to_csv(\"/Users/jan/Documents/Python_Projects/Bachelorthesis/Analysis/News_vs_Google/news_vs_google\"+date_time+\"_\"+keyword +\".csv\",index=False)\n",
    "    all_plots.append(createFigure(merged_data,keyword))\n",
    "\n",
    "\n",
    "# save all figures in one pdf\n",
    "with PdfPages(\"/Users/jan/Documents/Python_Projects/Bachelorthesis/Analysis/News_vs_Google/news_vs_google\"+date_time +\".pdf\") as pdf:\n",
    "    for plot in all_plots:\n",
    "        pdf.savefig(plot)\n"
   ]
  },
  {
   "cell_type": "code",
   "execution_count": null,
   "id": "4c6cb285",
   "metadata": {},
   "outputs": [],
   "source": [
    "def createFigure(data_frame, fileName):\n",
    "    plot = data_frame.plot.line(x=\"date\",y=[1,2],figsize=(20,10), title=\"Occurence of \"+fileName)\n",
    "    Correlation = data_frame[\"News_Data\"].corr(data_frame[\"Google_Data\"])\n",
    "    plot.annotate(\"Correlation: \" + str(Correlation) , xy=(0.05, 0.95), xycoords='axes fraction')    \n",
    "    return plot.get_figure()\n",
    "\n"
   ]
  },
  {
   "cell_type": "markdown",
   "id": "9dfd6958",
   "metadata": {},
   "source": [
    "## Plots"
   ]
  },
  {
   "cell_type": "markdown",
   "id": "bb0e7fe5",
   "metadata": {},
   "source": [
    "### Plot occurence of top 50 titles"
   ]
  },
  {
   "cell_type": "code",
   "execution_count": null,
   "id": "d6aae462",
   "metadata": {},
   "outputs": [],
   "source": [
    "# get all titles\n",
    "all_titles = get_occurence_of_all_titles(All_articles,\"tokenized_titles\")\n",
    "\n",
    "# get top 50\n",
    "top50_titles = all_titles[:50]\n",
    "\n",
    "plt.figure(figsize=(20,3))\n",
    "top50_titles.plot(kind=\"bar\")"
   ]
  },
  {
   "cell_type": "markdown",
   "id": "2653fd5e",
   "metadata": {},
   "source": [
    "### Plot occurence of top 50 titles starting with capital letter"
   ]
  },
  {
   "cell_type": "code",
   "execution_count": 58,
   "id": "e93a488b",
   "metadata": {},
   "outputs": [
    {
     "data": {
      "text/plain": [
       "<AxesSubplot:xlabel='Title'>"
      ]
     },
     "execution_count": 58,
     "metadata": {},
     "output_type": "execute_result"
    },
    {
     "data": {
      "image/png": "[encoded data removed]",
      "text/plain": [
       "<Figure size 1440x216 with 1 Axes>"
      ]
     },
     "metadata": {
      "needs_background": "light"
     },
     "output_type": "display_data"
    }
   ],
   "source": [
    "# get all titles\n",
    "all_titles = get_occurence_of_all_capital_titles(All_articles,\"tokenized_titles\")\n",
    "\n",
    "#get top 50\n",
    "top50_titles = all_titles[:50]\n",
    "\n",
    "#plot\n",
    "top50_titles.plot.bar(x=\"Title\",y=\"Occurence\",figsize=(20, 3))\n"
   ]
  },
  {
   "cell_type": "code",
   "execution_count": 54,
   "id": "0615807e",
   "metadata": {},
   "outputs": [],
   "source": [
    "def saveCSV(dataframe):\n",
    "    dataframe.to_csv(\"/Users/jan/Documents/Python_Projects/Bachelorthesis/Analysis/\"+\"dataframe\" +\".csv\",index=False)\n"
   ]
  },
  {
   "cell_type": "code",
   "execution_count": 55,
   "id": "eab963cb",
   "metadata": {},
   "outputs": [],
   "source": [
    "saveCSV(df)"
   ]
  }
 ],
 "metadata": {
  "kernelspec": {
   "display_name": "Python 3",
   "language": "python",
   "name": "python3"
  },
  "language_info": {
   "codemirror_mode": {
    "name": "ipython",
    "version": 3
   },
   "file_extension": ".py",
   "mimetype": "text/x-python",
   "name": "python",
   "nbconvert_exporter": "python",
   "pygments_lexer": "ipython3",
   "version": "3.8.8"
  }
 },
 "nbformat": 4,
 "nbformat_minor": 5
}
