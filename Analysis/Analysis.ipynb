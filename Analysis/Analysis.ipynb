{
 "cells": [
  {
   "cell_type": "markdown",
   "id": "96e8f94c",
   "metadata": {},
   "source": [
    "# Analysing german news articles"
   ]
  },
  {
   "cell_type": "markdown",
   "id": "6421da48",
   "metadata": {},
   "source": [
    "## Imports"
   ]
  },
  {
   "cell_type": "code",
   "execution_count": 139,
   "id": "e64d7829",
   "metadata": {},
   "outputs": [],
   "source": [
    "import pandas as pd\n",
    "import os\n",
    "from datetime import datetime \n",
    "\n",
    "from nltk.tokenize import word_tokenize\n",
    "from nltk.corpus import stopwords\n",
    "\n",
    "import matplotlib.pyplot as plt"
   ]
  },
  {
   "cell_type": "markdown",
   "id": "1cb5cfce",
   "metadata": {},
   "source": [
    "## Load data into DataFrames"
   ]
  },
  {
   "cell_type": "code",
   "execution_count": 140,
   "id": "795278b9",
   "metadata": {},
   "outputs": [
    {
     "name": "stdout",
     "output_type": "stream",
     "text": [
      "<class 'pandas.core.frame.DataFrame'>\n",
      "Int64Index: 16645 entries, 0 to 41555\n",
      "Data columns (total 10 columns):\n",
      " #   Column                 Non-Null Count  Dtype  \n",
      "---  ------                 --------------  -----  \n",
      " 0   Titel                  16645 non-null  object \n",
      " 1   Date_Info              16645 non-null  object \n",
      " 2   URL                    16645 non-null  object \n",
      " 3   Overline               10049 non-null  object \n",
      " 4   Breadcrumb             7682 non-null   object \n",
      " 5   author                 1672 non-null   object \n",
      " 6   detailed_informations  2366 non-null   object \n",
      " 7   Zugriff_Datum          10345 non-null  float64\n",
      " 8   News_page              16645 non-null  object \n",
      " 9   Unnamed: 0             0 non-null      object \n",
      "dtypes: float64(1), object(9)\n",
      "memory usage: 1.4+ MB\n"
     ]
    }
   ],
   "source": [
    "# Folderpath to CSV's\n",
    "CSV_folderPath=\"/Users/jan/Documents/Python_Projects/Bachelorthesis/CSV_Backlog\"\n",
    "\n",
    "# Initialize list<csv> for Spiegel, Sueddeutsche, Bild and combined \n",
    "Spiegel_csvs = []\n",
    "Sueddeutsche_csvs = []\n",
    "Bild_csvs = []\n",
    "Combi_csvs = []\n",
    "\n",
    "\n",
    "# Change directory to CSV_folderPath\n",
    "os.chdir(CSV_folderPath)\n",
    "\n",
    "# iterate over all files\n",
    "for file in os.listdir():\n",
    "    # read csv to dataframe\n",
    "    df =pd.read_csv(file, index_col=None, header=0)\n",
    "    # all df append to combi...\n",
    "    Combi_csvs.append(df)\n",
    "    # sort dataframe to its list\n",
    "    #Spiegel\n",
    "    if file.startswith(\"Spiegel\"):\n",
    "        Spiegel_csvs.append(df)\n",
    "    # Sueddeutsche\n",
    "    elif file.startswith(\"Sueddeutsche\"):\n",
    "        Sueddeutsche_csvs.append(df)\n",
    "    # Bild\n",
    "    elif file.startswith(\"Bild\"):\n",
    "        Bild_csvs.append(df)\n",
    "    \n",
    "All_articles = pd.concat(Combi_csvs, axis=0, ignore_index=True)\n",
    "Spiegel_articles = pd.concat(Spiegel_csvs, axis=0, ignore_index=True)\n",
    "Sueddeutsche_articles = pd.concat(Sueddeutsche_csvs, axis=0, ignore_index=True)\n",
    "if(len(Bild_csvs)) != 0:\n",
    "    Bild_articles = pd.concat(Bild_csvs, axis=0, ignore_index=True)\n",
    "else:\n",
    "    Bild_articles=[]\n",
    "\n",
    "    \n",
    "# Drop duplicates\n",
    "\n",
    "# All articles\n",
    "All_articles= All_articles.drop_duplicates(subset=\"Titel\")\n",
    "\n",
    "# Spiegel articles\n",
    "Spiegel_articles = Spiegel_articles.drop_duplicates(subset=\"Titel\")\n",
    "\n",
    "# Sueddeutsch articles\n",
    "Sueddeutsche_articles = Sueddeutsche_articles.drop_duplicates(subset=\"Titel\")\n",
    "\n",
    "# Bild articles\n",
    "#Bild_articles = Bild_articles.drop_duplicates(subset=\"title\")\n",
    "All_articles.info()"
   ]
  },
  {
   "cell_type": "markdown",
   "id": "569da6fc",
   "metadata": {},
   "source": [
    "## Data Cleaning"
   ]
  },
  {
   "cell_type": "markdown",
   "id": "2d120dc4",
   "metadata": {},
   "source": [
    "### Cast Date_Info to datetime"
   ]
  },
  {
   "cell_type": "code",
   "execution_count": 141,
   "id": "cb51a883",
   "metadata": {},
   "outputs": [],
   "source": [
    "\n",
    "\n",
    "\n",
    "# All articles\n",
    "All_articles[\"Date_Info\"] = All_articles[\"Date_Info\"].str.strip()\n",
    "All_articles[\"Date_Info\"] = pd.to_datetime(All_articles[\"Date_Info\"], format='%d%m%Y_%H:%M')\n",
    "# Spiegel articles\n",
    "Spiegel_articles[\"Date_Info\"] = Spiegel_articles[\"Date_Info\"].str.strip()\n",
    "Spiegel_articles[\"Date_Info\"] = pd.to_datetime(Spiegel_articles[\"Date_Info\"], format='%d%m%Y_%H:%M')\n",
    "# Sueddeutsche articles\n",
    "Sueddeutsche_articles[\"Date_Info\"] = Sueddeutsche_articles[\"Date_Info\"].str.strip()\n",
    "Sueddeutsche_articles[\"Date_Info\"] = pd.to_datetime(Sueddeutsche_articles[\"Date_Info\"], format='%d%m%Y_%H:%M')\n",
    "# Bild articles\n",
    "#Bild_carticles[\"Date_Info\"] = pd.to_datetime(Bild_carticles[\"Date_Info\"], format='%d%m%Y_%H:%M')\n",
    "\n",
    "   \n"
   ]
  },
  {
   "cell_type": "markdown",
   "id": "541800a0",
   "metadata": {},
   "source": [
    "## Initial data analysis"
   ]
  },
  {
   "cell_type": "markdown",
   "id": "ab40fca1",
   "metadata": {},
   "source": [
    "### Ammount of articles"
   ]
  },
  {
   "cell_type": "code",
   "execution_count": 142,
   "id": "29b1b15a",
   "metadata": {},
   "outputs": [
    {
     "name": "stdout",
     "output_type": "stream",
     "text": [
      "Spiegel articles: 6300\n",
      "Sueddeutsche articles: 10346\n",
      "Bild articles: 0\n",
      "Overall: 16645\n"
     ]
    }
   ],
   "source": [
    "# Spiegel articles\n",
    "ammount_of_Spiegel_articles = len(Spiegel_articles)\n",
    "print(f\"Spiegel articles: {ammount_of_Spiegel_articles}\")\n",
    "\n",
    "# Sueddeutsche articles\n",
    "ammount_of_Sueddeutsche_articles = len(Sueddeutsche_articles)\n",
    "print(f\"Sueddeutsche articles: {ammount_of_Sueddeutsche_articles}\")\n",
    "\n",
    "# Bild articles\n",
    "ammount_of_Bild_articles = len(Bild_articles)\n",
    "print(f\"Bild articles: {ammount_of_Bild_articles}\")\n",
    "\n",
    "# All articles\n",
    "ammount_of_Combined_articles = len(All_articles)\n",
    "print(f\"Overall: {ammount_of_Combined_articles}\")"
   ]
  },
  {
   "cell_type": "markdown",
   "id": "b898ba5e",
   "metadata": {},
   "source": [
    "## Analysis"
   ]
  },
  {
   "cell_type": "markdown",
   "id": "8d93e1ad",
   "metadata": {},
   "source": [
    "### Exploding titles"
   ]
  },
  {
   "cell_type": "code",
   "execution_count": 143,
   "id": "edb44963",
   "metadata": {},
   "outputs": [],
   "source": [
    "def explode_titles(title_column):\n",
    "    title_column =title_column.to_frame()\n",
    "    tokenized_titles=[]\n",
    "    title_column[\"tokenized_title\"] = \"\"\n",
    "    for index, row in title_column.iterrows():\n",
    "        # tokenize\n",
    "        tokenized_title = word_tokenize(row.Titel)\n",
    "        \n",
    "        # remove stopwords & numbers/punction\n",
    "        tokenized_title = [word for word in tokenized_title if word not in stopwords.words(\"german\")]\n",
    "        \n",
    "        # add to row\n",
    "        row.tokenized_title = tokenized_title\n",
    "        \n",
    "    return title_column\n",
    "            \n",
    "            "
   ]
  },
  {
   "cell_type": "markdown",
   "id": "0c05edbd",
   "metadata": {},
   "source": [
    "### Tokenize All_articles Title"
   ]
  },
  {
   "cell_type": "code",
   "execution_count": 144,
   "id": "3f9306c6",
   "metadata": {},
   "outputs": [],
   "source": [
    "All_articles[\"tokenized_titles\"] = explode_titles(All_articles[\"Titel\"]).tokenized_title"
   ]
  },
  {
   "cell_type": "markdown",
   "id": "3f2925c0",
   "metadata": {},
   "source": [
    "### Explode the titles"
   ]
  },
  {
   "cell_type": "code",
   "execution_count": 145,
   "id": "c763d934",
   "metadata": {},
   "outputs": [],
   "source": [
    "All_articles = All_articles.explode(\"tokenized_titles\")"
   ]
  },
  {
   "cell_type": "markdown",
   "id": "f8e2e8cf",
   "metadata": {},
   "source": [
    "### Drop uninteresting titles"
   ]
  },
  {
   "cell_type": "code",
   "execution_count": 155,
   "id": "cc11d63d",
   "metadata": {},
   "outputs": [],
   "source": [
    "uninteresting_titles= [\"Der\", \"Die\", \"Das\",\"Was\",\"Warum\",\"Er\",\"Sie\", \"Es\", \"Ich\", \"Du\", \"Mit\",\"Wie\",\"Ein\",\"So\",\"Wir\",\n",
    "                       \":\",\"»\",\"«\", \",\" ,\"\\'\\'\",\"``\", \"_\",\"-\" \".\",\"?\",\"–\", \"-\",\".\",\"!\"]\n",
    "\n",
    "All_articles=All_articles[~All_articles.tokenized_titles.isin(uninteresting_titles)]\n"
   ]
  },
  {
   "cell_type": "markdown",
   "id": "aa4b7693",
   "metadata": {},
   "source": [
    "## Plots"
   ]
  },
  {
   "cell_type": "markdown",
   "id": "96cd86b3",
   "metadata": {},
   "source": [
    "### Plot occurence of top 50 titles"
   ]
  },
  {
   "cell_type": "code",
   "execution_count": 172,
   "id": "d88dc6b1",
   "metadata": {},
   "outputs": [
    {
     "name": "stdout",
     "output_type": "stream",
     "text": [
      "There are: 28863 different titles\n"
     ]
    },
    {
     "data": {
      "text/plain": [
       "<AxesSubplot:xlabel='tokenized_titles'>"
      ]
     },
     "execution_count": 172,
     "metadata": {},
     "output_type": "execute_result"
    },
    {
     "data": {
      "image/png": "[encoded data removed]",
      "text/plain": [
       "<Figure size 1440x216 with 1 Axes>"
      ]
     },
     "metadata": {
      "needs_background": "light"
     },
     "output_type": "display_data"
    }
   ],
   "source": [
    "# Group titles\n",
    "all_titles = All_articles.groupby(\"tokenized_titles\").size()\n",
    "print(\"There are: \" + str(len(all_titles)) + \" different titles\")\n",
    "# sort titles\n",
    "all_titles = all_titles.sort_values(ascending=False)\n",
    "# get top 50\n",
    "top50_titles = all_titles[:50]\n",
    "\n",
    "plt.figure(figsize=(20,3))\n",
    "top50_titles.plot(kind=\"bar\")"
   ]
  },
  {
   "cell_type": "code",
   "execution_count": 169,
   "id": "2ff86a79",
   "metadata": {},
   "outputs": [
    {
     "data": {
      "text/plain": [
       "28863"
      ]
     },
     "execution_count": 169,
     "metadata": {},
     "output_type": "execute_result"
    }
   ],
   "source": [
    "len(all_titles)"
   ]
  }
 ],
 "metadata": {
  "kernelspec": {
   "display_name": "Python 3",
   "language": "python",
   "name": "python3"
  },
  "language_info": {
   "codemirror_mode": {
    "name": "ipython",
    "version": 3
   },
   "file_extension": ".py",
   "mimetype": "text/x-python",
   "name": "python",
   "nbconvert_exporter": "python",
   "pygments_lexer": "ipython3",
   "version": "3.8.8"
  }
 },
 "nbformat": 4,
 "nbformat_minor": 5
}
