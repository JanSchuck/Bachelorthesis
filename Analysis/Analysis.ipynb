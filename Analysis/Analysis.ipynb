{
 "cells": [
  {
   "cell_type": "markdown",
   "id": "f876a36a",
   "metadata": {},
   "source": [
    "# Analysing german news articles"
   ]
  },
  {
   "cell_type": "markdown",
   "id": "f63dce24",
   "metadata": {},
   "source": [
    "## Imports"
   ]
  },
  {
   "cell_type": "code",
   "execution_count": 214,
   "id": "b7f7e586",
   "metadata": {},
   "outputs": [],
   "source": [
    "import pandas as pd\n",
    "import os\n",
    "from datetime import datetime \n",
    "\n",
    "from nltk.tokenize import word_tokenize\n",
    "from nltk.corpus import stopwords\n",
    "\n",
    "import matplotlib.pyplot as plt\n",
    "\n",
    "from pytrends.request import TrendReq\n"
   ]
  },
  {
   "cell_type": "markdown",
   "id": "016ad643",
   "metadata": {},
   "source": [
    "## Load data into DataFrames"
   ]
  },
  {
   "cell_type": "code",
   "execution_count": 140,
   "id": "96732507",
   "metadata": {},
   "outputs": [
    {
     "name": "stdout",
     "output_type": "stream",
     "text": [
      "<class 'pandas.core.frame.DataFrame'>\n",
      "Int64Index: 16645 entries, 0 to 41555\n",
      "Data columns (total 10 columns):\n",
      " #   Column                 Non-Null Count  Dtype  \n",
      "---  ------                 --------------  -----  \n",
      " 0   Titel                  16645 non-null  object \n",
      " 1   Date_Info              16645 non-null  object \n",
      " 2   URL                    16645 non-null  object \n",
      " 3   Overline               10049 non-null  object \n",
      " 4   Breadcrumb             7682 non-null   object \n",
      " 5   author                 1672 non-null   object \n",
      " 6   detailed_informations  2366 non-null   object \n",
      " 7   Zugriff_Datum          10345 non-null  float64\n",
      " 8   News_page              16645 non-null  object \n",
      " 9   Unnamed: 0             0 non-null      object \n",
      "dtypes: float64(1), object(9)\n",
      "memory usage: 1.4+ MB\n"
     ]
    }
   ],
   "source": [
    "# Folderpath to CSV's\n",
    "CSV_folderPath=\"/Users/jan/Documents/Python_Projects/Bachelorthesis/CSV_Backlog\"\n",
    "\n",
    "# Initialize list<csv> for Spiegel, Sueddeutsche, Bild and combined \n",
    "Spiegel_csvs = []\n",
    "Sueddeutsche_csvs = []\n",
    "Bild_csvs = []\n",
    "Combi_csvs = []\n",
    "\n",
    "\n",
    "# Change directory to CSV_folderPath\n",
    "os.chdir(CSV_folderPath)\n",
    "\n",
    "# iterate over all files\n",
    "for file in os.listdir():\n",
    "    # read csv to dataframe\n",
    "    df =pd.read_csv(file, index_col=None, header=0)\n",
    "    # all df append to combi...\n",
    "    Combi_csvs.append(df)\n",
    "    # sort dataframe to its list\n",
    "    #Spiegel\n",
    "    if file.startswith(\"Spiegel\"):\n",
    "        Spiegel_csvs.append(df)\n",
    "    # Sueddeutsche\n",
    "    elif file.startswith(\"Sueddeutsche\"):\n",
    "        Sueddeutsche_csvs.append(df)\n",
    "    # Bild\n",
    "    elif file.startswith(\"Bild\"):\n",
    "        Bild_csvs.append(df)\n",
    "    \n",
    "All_articles = pd.concat(Combi_csvs, axis=0, ignore_index=True)\n",
    "Spiegel_articles = pd.concat(Spiegel_csvs, axis=0, ignore_index=True)\n",
    "Sueddeutsche_articles = pd.concat(Sueddeutsche_csvs, axis=0, ignore_index=True)\n",
    "if(len(Bild_csvs)) != 0:\n",
    "    Bild_articles = pd.concat(Bild_csvs, axis=0, ignore_index=True)\n",
    "else:\n",
    "    Bild_articles=[]\n",
    "\n",
    "    \n",
    "# Drop duplicates\n",
    "\n",
    "# All articles\n",
    "All_articles= All_articles.drop_duplicates(subset=\"Titel\")\n",
    "\n",
    "# Spiegel articles\n",
    "Spiegel_articles = Spiegel_articles.drop_duplicates(subset=\"Titel\")\n",
    "\n",
    "# Sueddeutsch articles\n",
    "Sueddeutsche_articles = Sueddeutsche_articles.drop_duplicates(subset=\"Titel\")\n",
    "\n",
    "# Bild articles\n",
    "#Bild_articles = Bild_articles.drop_duplicates(subset=\"title\")\n",
    "All_articles.info()"
   ]
  },
  {
   "cell_type": "markdown",
   "id": "25346d5f",
   "metadata": {},
   "source": [
    "## Data Cleaning"
   ]
  },
  {
   "cell_type": "markdown",
   "id": "51f779a6",
   "metadata": {},
   "source": [
    "### Cast Date_Info to datetime"
   ]
  },
  {
   "cell_type": "code",
   "execution_count": 141,
   "id": "7e9ba0bf",
   "metadata": {},
   "outputs": [],
   "source": [
    "\n",
    "\n",
    "\n",
    "# All articles\n",
    "All_articles[\"Date_Info\"] = All_articles[\"Date_Info\"].str.strip()\n",
    "All_articles[\"Date_Info\"] = pd.to_datetime(All_articles[\"Date_Info\"], format='%d%m%Y_%H:%M')\n",
    "# Spiegel articles\n",
    "Spiegel_articles[\"Date_Info\"] = Spiegel_articles[\"Date_Info\"].str.strip()\n",
    "Spiegel_articles[\"Date_Info\"] = pd.to_datetime(Spiegel_articles[\"Date_Info\"], format='%d%m%Y_%H:%M')\n",
    "# Sueddeutsche articles\n",
    "Sueddeutsche_articles[\"Date_Info\"] = Sueddeutsche_articles[\"Date_Info\"].str.strip()\n",
    "Sueddeutsche_articles[\"Date_Info\"] = pd.to_datetime(Sueddeutsche_articles[\"Date_Info\"], format='%d%m%Y_%H:%M')\n",
    "# Bild articles\n",
    "#Bild_carticles[\"Date_Info\"] = pd.to_datetime(Bild_carticles[\"Date_Info\"], format='%d%m%Y_%H:%M')\n",
    "\n",
    "   \n"
   ]
  },
  {
   "cell_type": "markdown",
   "id": "69e67145",
   "metadata": {},
   "source": [
    "## Initial data analysis"
   ]
  },
  {
   "cell_type": "markdown",
   "id": "c2f88bdb",
   "metadata": {},
   "source": [
    "### Ammount of articles"
   ]
  },
  {
   "cell_type": "code",
   "execution_count": 142,
   "id": "c922488d",
   "metadata": {},
   "outputs": [
    {
     "name": "stdout",
     "output_type": "stream",
     "text": [
      "Spiegel articles: 6300\n",
      "Sueddeutsche articles: 10346\n",
      "Bild articles: 0\n",
      "Overall: 16645\n"
     ]
    }
   ],
   "source": [
    "# Spiegel articles\n",
    "ammount_of_Spiegel_articles = len(Spiegel_articles)\n",
    "print(f\"Spiegel articles: {ammount_of_Spiegel_articles}\")\n",
    "\n",
    "# Sueddeutsche articles\n",
    "ammount_of_Sueddeutsche_articles = len(Sueddeutsche_articles)\n",
    "print(f\"Sueddeutsche articles: {ammount_of_Sueddeutsche_articles}\")\n",
    "\n",
    "# Bild articles\n",
    "ammount_of_Bild_articles = len(Bild_articles)\n",
    "print(f\"Bild articles: {ammount_of_Bild_articles}\")\n",
    "\n",
    "# All articles\n",
    "ammount_of_Combined_articles = len(All_articles)\n",
    "print(f\"Overall: {ammount_of_Combined_articles}\")"
   ]
  },
  {
   "cell_type": "markdown",
   "id": "867ccde2",
   "metadata": {},
   "source": [
    "## Analysis"
   ]
  },
  {
   "cell_type": "markdown",
   "id": "97104905",
   "metadata": {},
   "source": [
    "### Exploding titles"
   ]
  },
  {
   "cell_type": "code",
   "execution_count": 143,
   "id": "59fa285f",
   "metadata": {},
   "outputs": [],
   "source": [
    "def explode_titles(title_column):\n",
    "    title_column =title_column.to_frame()\n",
    "    tokenized_titles=[]\n",
    "    title_column[\"tokenized_title\"] = \"\"\n",
    "    for index, row in title_column.iterrows():\n",
    "        # tokenize\n",
    "        tokenized_title = word_tokenize(row.Titel)\n",
    "        \n",
    "        # remove stopwords & numbers/punction\n",
    "        tokenized_title = [word for word in tokenized_title if word not in stopwords.words(\"german\")]\n",
    "        \n",
    "        # add to row\n",
    "        row.tokenized_title = tokenized_title\n",
    "        \n",
    "    return title_column\n",
    "            \n",
    "            "
   ]
  },
  {
   "cell_type": "markdown",
   "id": "e2e843e0",
   "metadata": {},
   "source": [
    "### Top titles"
   ]
  },
  {
   "cell_type": "markdown",
   "id": "c24c6567",
   "metadata": {},
   "source": [
    "#### All titles"
   ]
  },
  {
   "cell_type": "code",
   "execution_count": 173,
   "id": "64ba0270",
   "metadata": {},
   "outputs": [],
   "source": [
    "def get_occurence_of_all_titles(data_frame, columnName):\n",
    "    # Group titles by columnName\n",
    "    all_titles = data_frame.groupby(columnName).size()\n",
    "    \n",
    "    #sort titles\n",
    "    all_titles = all_titles.sort_values(ascending = False)\n",
    "    \n",
    "    return all_titles"
   ]
  },
  {
   "cell_type": "markdown",
   "id": "abb573a9",
   "metadata": {},
   "source": [
    "#### All capital titles"
   ]
  },
  {
   "cell_type": "code",
   "execution_count": 206,
   "id": "872adbec",
   "metadata": {},
   "outputs": [],
   "source": [
    "def get_occurence_of_all_capital_titles(data_frame, columnName):\n",
    "    all_titles=data_frame.groupby(columnName).size()\n",
    "\n",
    "    capital_titles=[]\n",
    "    counter=0\n",
    "    for title in all_titles.items():\n",
    "        title_s=str(title)\n",
    "        title_s=title_s.strip()\n",
    "        if title_s.istitle():\n",
    "            capital_titles.append(title)        \n",
    "    Titles = pd.DataFrame.from_records(\n",
    "    capital_titles, columns=['Title','Occurence'])\n",
    "    sorted_Titles=Titles.sort_values(by=['Occurence'],ascending=False)\n",
    "\n",
    "    return sorted_Titles\n",
    "        \n",
    "    "
   ]
  },
  {
   "cell_type": "markdown",
   "id": "e82d80d1",
   "metadata": {},
   "source": [
    "### Bar chart of title occurence"
   ]
  },
  {
   "cell_type": "code",
   "execution_count": 212,
   "id": "b63adc79",
   "metadata": {},
   "outputs": [],
   "source": [
    "def occurence_of_titles(data_frame, columnName):\n",
    "    # Group titles by columnName\n",
    "    all_titles = data_frame.groupby(columnName).size()\n",
    "    \n",
    "    # sort titles\n",
    "    all_titles = all_titles.sort_values(ascending = False)\n",
    "    \n",
    "    # return\n",
    "    return all_titles\n",
    "\n",
    "def get_N_of_titles(titles, N):\n",
    "    x=0\n",
    "\n",
    "def occurence_of_titles(data_frame, columnName, rangeToDisplay,capital, title):\n",
    "    all_titles = occurence_of_titles(data_frame, column_Name)\n",
    "    \n",
    "    \n",
    "    \n",
    "    \n",
    "def occurence_of_titles(data_frame, columnName, minOccurence_N,capital ,title):\n",
    "    x=0\n",
    "    \n",
    "def occurence_of_titles(data_frame, columnName, rangeToDisplay ,minOccurence_N, capital, title):\n",
    "    x=0"
   ]
  },
  {
   "cell_type": "markdown",
   "id": "c4429338",
   "metadata": {},
   "source": [
    "#### All  titles that occure more than N"
   ]
  },
  {
   "cell_type": "code",
   "execution_count": 208,
   "id": "0273d629",
   "metadata": {},
   "outputs": [],
   "source": [
    "def get_all_titles_occurence_N(data_frame, columnName, N):\n",
    "    titles = get_occurence_titles(data_frame,columnName)\n",
    "    \n",
    "    "
   ]
  },
  {
   "cell_type": "markdown",
   "id": "5720db91",
   "metadata": {},
   "source": [
    "### Tokenize All_articles Title"
   ]
  },
  {
   "cell_type": "code",
   "execution_count": 144,
   "id": "6dee90be",
   "metadata": {},
   "outputs": [],
   "source": [
    "All_articles[\"tokenized_titles\"] = explode_titles(All_articles[\"Titel\"]).tokenized_title"
   ]
  },
  {
   "cell_type": "markdown",
   "id": "b29478bd",
   "metadata": {},
   "source": [
    "### Explode the titles"
   ]
  },
  {
   "cell_type": "code",
   "execution_count": 199,
   "id": "ecf8cff3",
   "metadata": {},
   "outputs": [],
   "source": [
    "All_articles = All_articles.explode(\"tokenized_titles\")"
   ]
  },
  {
   "cell_type": "markdown",
   "id": "96f639b6",
   "metadata": {},
   "source": [
    "### Drop uninteresting titles"
   ]
  },
  {
   "cell_type": "code",
   "execution_count": 155,
   "id": "bf88fad6",
   "metadata": {},
   "outputs": [],
   "source": [
    "uninteresting_titles= [\"Der\", \"Die\", \"Das\",\"Was\",\"Warum\",\"Er\",\"Sie\", \"Es\", \"Ich\", \"Du\", \"Mit\",\"Wie\",\"Ein\",\"So\",\"Wir\",\n",
    "                       \":\",\"»\",\"«\", \",\" ,\"\\'\\'\",\"``\", \"_\",\"-\" \".\",\"?\",\"–\", \"-\",\".\",\"!\"]\n",
    "\n",
    "All_articles=All_articles[~All_articles.tokenized_titles.isin(uninteresting_titles)]\n"
   ]
  },
  {
   "cell_type": "markdown",
   "id": "b4c2801a",
   "metadata": {},
   "source": [
    "## Connect to Google Trends"
   ]
  },
  {
   "cell_type": "code",
   "execution_count": 222,
   "id": "bac938b9",
   "metadata": {},
   "outputs": [],
   "source": [
    "def google_interest_over_time(keyword_list, timeframe):\n",
    "    # connect to google\n",
    "    pytrends = TrendReq(hl='de-DE', tz=60) \n",
    "\n",
    "    # keywords\n",
    "    keywords = keyword_list\n",
    "\n",
    "    # build payload\n",
    "    startDate = \"2021-11-14\"\n",
    "    pytrends.build_payload(keywords, cat=0, timeframe= timeframe ) \n",
    "\n",
    "    # get data with interest over time\n",
    "    data = pytrends.interest_over_time() \n"
   ]
  },
  {
   "cell_type": "markdown",
   "id": "1bf3fe93",
   "metadata": {},
   "source": [
    "## Plots"
   ]
  },
  {
   "cell_type": "markdown",
   "id": "f8f8b0af",
   "metadata": {},
   "source": [
    "### Plot occurence of top 50 titles"
   ]
  },
  {
   "cell_type": "code",
   "execution_count": 174,
   "id": "b074c081",
   "metadata": {},
   "outputs": [
    {
     "data": {
      "text/plain": [
       "<AxesSubplot:xlabel='tokenized_titles'>"
      ]
     },
     "execution_count": 174,
     "metadata": {},
     "output_type": "execute_result"
    },
    {
     "data": {
      "image/png": "[encoded data removed]",
      "text/plain": [
       "<Figure size 1440x216 with 1 Axes>"
      ]
     },
     "metadata": {
      "needs_background": "light"
     },
     "output_type": "display_data"
    }
   ],
   "source": [
    "# get all titles\n",
    "all_titles = get_occurence_of_all_titles(All_articles,\"tokenized_titles\")\n",
    "\n",
    "# get top 50\n",
    "top50_titles = all_titles[:50]\n",
    "\n",
    "plt.figure(figsize=(20,3))\n",
    "top50_titles.plot(kind=\"bar\")"
   ]
  },
  {
   "cell_type": "markdown",
   "id": "aa040ff1",
   "metadata": {},
   "source": [
    "### Plot occurence of top 50 titles starting with capital letter"
   ]
  },
  {
   "cell_type": "code",
   "execution_count": 207,
   "id": "7f1fe0a6",
   "metadata": {},
   "outputs": [
    {
     "data": {
      "text/plain": [
       "<AxesSubplot:xlabel='Title'>"
      ]
     },
     "execution_count": 207,
     "metadata": {},
     "output_type": "execute_result"
    },
    {
     "data": {
      "image/png": "[encoded data removed]",
      "text/plain": [
       "<Figure size 1440x216 with 1 Axes>"
      ]
     },
     "metadata": {
      "needs_background": "light"
     },
     "output_type": "display_data"
    }
   ],
   "source": [
    "# get all titles\n",
    "all_titles = get_occurence_of_all_capital_titles(All_articles,\"tokenized_titles\")\n",
    "\n",
    "#get top 50\n",
    "top50_titles = all_titles[:50]\n",
    "\n",
    "#plot\n",
    "top50.plot.bar(x=\"Title\",y=\"Occurence\",figsize=(20, 3))\n"
   ]
  }
 ],
 "metadata": {
  "kernelspec": {
   "display_name": "Python 3",
   "language": "python",
   "name": "python3"
  },
  "language_info": {
   "codemirror_mode": {
    "name": "ipython",
    "version": 3
   },
   "file_extension": ".py",
   "mimetype": "text/x-python",
   "name": "python",
   "nbconvert_exporter": "python",
   "pygments_lexer": "ipython3",
   "version": "3.8.8"
  }
 },
 "nbformat": 4,
 "nbformat_minor": 5
}
