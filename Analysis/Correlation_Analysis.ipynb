{
 "cells": [
  {
   "cell_type": "markdown",
   "source": [
    "## Imports"
   ],
   "metadata": {
    "collapsed": false,
    "pycharm": {
     "name": "#%% md\n"
    }
   }
  },
  {
   "cell_type": "code",
   "execution_count": 1,
   "outputs": [],
   "source": [
    "# Pandas is an open source data analysis and manipulation tool\n",
    "import pandas as pd\n",
    "from pandas.api.types import CategoricalDtype\n",
    "# library to create visualizations\n",
    "import seaborn as sns\n",
    "\n",
    "# library to create visualizations\n",
    "import matplotlib.pyplot as plt\n",
    "import matplotlib.dates as md\n",
    "\n",
    "#from statsmodels.tsa.stattools import adfuller\n",
    "\n",
    "import itertools\n",
    "\n",
    "import nltk\n",
    "from nltk.corpus import stopwords\n",
    "import time"
   ],
   "metadata": {
    "collapsed": false,
    "pycharm": {
     "name": "#%%\n"
    }
   }
  },
  {
   "cell_type": "markdown",
   "source": [
    "## Load DataFrame"
   ],
   "metadata": {
    "collapsed": false,
    "pycharm": {
     "name": "#%% md\n"
    }
   }
  },
  {
   "cell_type": "code",
   "execution_count": 7,
   "outputs": [],
   "source": [
    "path = \"C:/Users/Jan/Documents/Python_Projects/Bachelorthesis/Bachelorthesis/Analysis/DataFrames/\"\n",
    "\n",
    "Occurence_DataFrame_filename = \"Occurence_DataFrame.csv\"\n",
    "Occurence_DataFrame = pd.read_csv(path+Occurence_DataFrame_filename, index_col=None,header=0)\n",
    "Occurence_DataFrame[\"date\"] = pd.to_datetime(Occurence_DataFrame[\"date\"], format='%Y-%m-%d')"
   ],
   "metadata": {
    "collapsed": false,
    "pycharm": {
     "name": "#%%\n"
    }
   }
  },
  {
   "cell_type": "markdown",
   "source": [
    "## Calculate correlation DataFrame"
   ],
   "metadata": {
    "collapsed": false,
    "pycharm": {
     "name": "#%% md\n"
    }
   }
  },
  {
   "cell_type": "code",
   "execution_count": 18,
   "outputs": [
    {
     "name": "stderr",
     "output_type": "stream",
     "text": [
      "C:\\Users\\Jan\\anaconda3\\lib\\site-packages\\numpy\\lib\\function_base.py:2683: RuntimeWarning: Degrees of freedom <= 0 for slice\n",
      "  c = cov(x, y, rowvar, dtype=dtype)\n",
      "C:\\Users\\Jan\\anaconda3\\lib\\site-packages\\numpy\\lib\\function_base.py:2542: RuntimeWarning: divide by zero encountered in true_divide\n",
      "  c *= np.true_divide(1, fact)\n"
     ]
    }
   ],
   "source": [
    "Occurence_DataFrame = Occurence_DataFrame.groupby(\"KeyWord\").apply(calculate_correlation)\n",
    "\n",
    "def calculate_correlation(dataframe):\n",
    "    # decimals to round the correlation to\n",
    "    decimals = 2\n",
    "    # get normalized occurence of news\n",
    "    News = dataframe[\"normalized_Occurence_in_News\"]\n",
    "    # get normalized occurence of google\n",
    "    Google = dataframe[\"normalized_Occurence_in_Google\"]\n",
    "    # get normalized occurence of wikipedia\n",
    "    Wikipedia = dataframe[\"normalized_Occurence_in_Wikipedia\"]\n",
    "    # calculate correlation manually\n",
    "    dataframe[\"correlation_news_google\"] = round(News.corr(Google,method=\"pearson\") , decimals)\n",
    "    dataframe[\"correlation_news_wikipedia\"] = round(News.corr(Wikipedia,method=\"pearson\"), decimals)\n",
    "    dataframe[\"correlation_google_wikipedia\"] = round(Google.corr(Wikipedia,method=\"pearson\"), decimals)\n",
    "    return dataframe"
   ],
   "metadata": {
    "collapsed": false,
    "pycharm": {
     "name": "#%%\n"
    }
   }
  },
  {
   "cell_type": "code",
   "execution_count": null,
   "outputs": [],
   "source": [],
   "metadata": {
    "collapsed": false,
    "pycharm": {
     "name": "#%%\n"
    }
   }
  }
 ],
 "metadata": {
  "kernelspec": {
   "display_name": "Python 3",
   "language": "python",
   "name": "python3"
  },
  "language_info": {
   "codemirror_mode": {
    "name": "ipython",
    "version": 2
   },
   "file_extension": ".py",
   "mimetype": "text/x-python",
   "name": "python",
   "nbconvert_exporter": "python",
   "pygments_lexer": "ipython2",
   "version": "2.7.6"
  }
 },
 "nbformat": 4,
 "nbformat_minor": 0
}