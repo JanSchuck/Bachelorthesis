{
 "cells": [
  {
   "cell_type": "markdown",
   "id": "d353caa6",
   "metadata": {},
   "source": [
    "# Imports"
   ]
  },
  {
   "cell_type": "code",
   "execution_count": 24,
   "id": "db2180ee",
   "metadata": {},
   "outputs": [],
   "source": [
    "# Pandas is an open source data analysis and manipulation tool\n",
    "import pandas as pd\n",
    "\n",
    "# library to create visualizations\n",
    "import seaborn as sns\n",
    "\n",
    "# library to create visualizations\n",
    "import matplotlib.pyplot as plt\n",
    "import matplotlib.dates as md\n",
    "\n",
    "#from statsmodels.tsa.stattools import adfuller\n",
    "\n",
    "import itertools\n",
    "\n"
   ]
  },
  {
   "cell_type": "markdown",
   "id": "b1a17cea",
   "metadata": {},
   "source": [
    "# Load Dataframe"
   ]
  },
  {
   "cell_type": "code",
   "execution_count": 92,
   "id": "43ea760c",
   "metadata": {},
   "outputs": [],
   "source": [
    "Occurence_df = pd.read_csv(\"/Users/jan/Documents/Python_Projects/Bachelorthesis/Analysis/DataFrames/Combined_Dataframe_02032022.csv\") \n",
    "\n",
    "Occurence_df = set_correct_datatypes(Occurence_df)\n"
   ]
  },
  {
   "cell_type": "markdown",
   "id": "f6c03d42",
   "metadata": {},
   "source": [
    "# Set correct datatypes"
   ]
  },
  {
   "cell_type": "code",
   "execution_count": 93,
   "id": "e4291808",
   "metadata": {},
   "outputs": [],
   "source": [
    "def set_correct_datatypes(dataframe):\n",
    "    dataframe.KeyWord.astype(str)\n",
    "    dataframe[\"date\"] = pd.to_datetime(dataframe[\"date\"], format='%Y-%m-%d')\n",
    "    return dataframe\n"
   ]
  },
  {
   "cell_type": "markdown",
   "id": "92f2015e",
   "metadata": {},
   "source": [
    "# Helper"
   ]
  },
  {
   "cell_type": "code",
   "execution_count": 75,
   "id": "7cfd1614",
   "metadata": {},
   "outputs": [],
   "source": [
    "def saveCSV(dataframe, filename):\n",
    "    dataframe.to_csv(\"/Users/jan/Documents/Python_Projects/Bachelorthesis/Analysis/DataFrames/\"+ filename +\".csv\",index=False)\n"
   ]
  },
  {
   "cell_type": "markdown",
   "id": "26b741cd",
   "metadata": {},
   "source": [
    "# Visuals"
   ]
  },
  {
   "cell_type": "code",
   "execution_count": 7,
   "id": "c799563e",
   "metadata": {},
   "outputs": [],
   "source": [
    "def plot_Occurence_over_time_linegraph(i_dataframe_o, KeyWord, Occurence_Columns, figsize):\n",
    "    # copy inputs\n",
    "    dataframe = i_dataframe_o.copy()\n",
    "    Occurence_Columns_copy = Occurence_Columns.copy()\n",
    "    # get all rows by keyword\n",
    "    dataframe = dataframe.loc[(dataframe[\"KeyWord\"] == KeyWord)]\n",
    "    Occurence_Columns.extend([\"date\",\"KeyWord\"])\n",
    "    dataframe = dataframe[Occurence_Columns]\n",
    "    dataframe = dataframe.set_index(\"date\")\n",
    "    \n",
    "    \n",
    "    \n",
    "    fig, ax = plt.subplots(figsize = (15, 7))\n",
    "\n",
    "    sns.lineplot(ax = ax, data=dataframe).set_title('Occurence over time: ' + KeyWord)\n",
    "\n",
    "    plt.xlabel('Date')\n",
    "    plt.ylabel('Occurence')\n",
    "    \n",
    "    \n",
    "    column_1 = dataframe[\"normalized_Occurence_in_News\"]\n",
    "    for Occurence_Column in Occurence_Columns_copy:\n",
    "        column_2 = dataframe[Occurence_Column]\n",
    "        correlation = column_1.corr(column_2)\n",
    "        print(\"Correlation between news and \"+ Occurence_Column +\" is: \"+ str(correlation))\n",
    "                \n",
    "    return dataframe\n",
    "\n",
    "def plot_Occurece_over_time_heatmap(i_dataframe_o,KeyWord,Occurence_Columns):\n",
    "    # copy inputs\n",
    "    dataframe = i_dataframe_o.copy()\n",
    "    Occurence_Columns_copy = Occurence_Columns.copy()\n",
    "    # get all rows by keyword\n",
    "    dataframe = dataframe.loc[(dataframe[\"KeyWord\"] == KeyWord)]\n",
    "    Occurence_Columns.extend([\"date\",\"KeyWord\"])\n",
    "    dataframe = dataframe[Occurence_Columns]\n",
    "    #dataframe = dataframe.set_index(\"date\")\n",
    "    \n",
    "    return dataframe\n",
    "    #sns.heatmap(dataframe, robust=True, cmap='YlGnBu', yticklabels=False, xticklabels=5, cbar=False)\n",
    "\n",
    "\n",
    "\n",
    "\n",
    "def check_granger_causality(i_dataframe_o, KeyWord, Columns):\n",
    "    dataframe = i_dataframe_o.loc[(i_dataframe_o[\"KeyWord\"] == KeyWord)]\n",
    "\n",
    "    # check for stationary\n",
    "    for Column in Columns:        \n",
    "        result = adfuller(dataframe[Column])\n",
    "        print(f'Column: ' + Column)\n",
    "        print(f'Test Statistics: {result[0]}')\n",
    "        print(f'p-value: {result[1]}')\n",
    "        print(f'critical_values: {result[4]}')\n",
    "        \n",
    "        if result[1] > 0.05:\n",
    "            print(\"Series is not stationary\")\n",
    "            df_transformed = dataframe.diff()\n",
    "            \n",
    "        else:\n",
    "            print(\"Series is stationary\")\n",
    "        print()"
   ]
  },
  {
   "cell_type": "code",
   "execution_count": 19,
   "id": "0b5a369a",
   "metadata": {},
   "outputs": [
    {
     "name": "stdout",
     "output_type": "stream",
     "text": [
      "Correlation between news and normalized_Occurence_in_News is: 1.0\n",
      "Correlation between news and Occurence_in_Google_normalized is: 0.9017895815130134\n",
      "Correlation between news and normalized_Occurence_in_Wikipedia is: 0.9457086624397183\n"
     ]
    },
    {
     "data": {
      "text/html": [
       "<div>\n",
       "<style scoped>\n",
       "    .dataframe tbody tr th:only-of-type {\n",
       "        vertical-align: middle;\n",
       "    }\n",
       "\n",
       "    .dataframe tbody tr th {\n",
       "        vertical-align: top;\n",
       "    }\n",
       "\n",
       "    .dataframe thead th {\n",
       "        text-align: right;\n",
       "    }\n",
       "</style>\n",
       "<table border=\"1\" class=\"dataframe\">\n",
       "  <thead>\n",
       "    <tr style=\"text-align: right;\">\n",
       "      <th></th>\n",
       "      <th>normalized_Occurence_in_News</th>\n",
       "      <th>Occurence_in_Google_normalized</th>\n",
       "      <th>normalized_Occurence_in_Wikipedia</th>\n",
       "    </tr>\n",
       "  </thead>\n",
       "  <tbody>\n",
       "    <tr>\n",
       "      <th>count</th>\n",
       "      <td>114.000000</td>\n",
       "      <td>114.000000</td>\n",
       "      <td>114.000000</td>\n",
       "    </tr>\n",
       "    <tr>\n",
       "      <th>mean</th>\n",
       "      <td>0.041508</td>\n",
       "      <td>0.038947</td>\n",
       "      <td>0.046235</td>\n",
       "    </tr>\n",
       "    <tr>\n",
       "      <th>std</th>\n",
       "      <td>0.120580</td>\n",
       "      <td>0.140469</td>\n",
       "      <td>0.131566</td>\n",
       "    </tr>\n",
       "    <tr>\n",
       "      <th>min</th>\n",
       "      <td>0.000000</td>\n",
       "      <td>0.000000</td>\n",
       "      <td>0.003216</td>\n",
       "    </tr>\n",
       "    <tr>\n",
       "      <th>25%</th>\n",
       "      <td>0.000000</td>\n",
       "      <td>0.000000</td>\n",
       "      <td>0.005429</td>\n",
       "    </tr>\n",
       "    <tr>\n",
       "      <th>50%</th>\n",
       "      <td>0.007246</td>\n",
       "      <td>0.000000</td>\n",
       "      <td>0.008165</td>\n",
       "    </tr>\n",
       "    <tr>\n",
       "      <th>75%</th>\n",
       "      <td>0.028986</td>\n",
       "      <td>0.020000</td>\n",
       "      <td>0.020928</td>\n",
       "    </tr>\n",
       "    <tr>\n",
       "      <th>max</th>\n",
       "      <td>1.000000</td>\n",
       "      <td>1.000000</td>\n",
       "      <td>1.000000</td>\n",
       "    </tr>\n",
       "  </tbody>\n",
       "</table>\n",
       "</div>"
      ],
      "text/plain": [
       "       normalized_Occurence_in_News  Occurence_in_Google_normalized  \\\n",
       "count                    114.000000                      114.000000   \n",
       "mean                       0.041508                        0.038947   \n",
       "std                        0.120580                        0.140469   \n",
       "min                        0.000000                        0.000000   \n",
       "25%                        0.000000                        0.000000   \n",
       "50%                        0.007246                        0.000000   \n",
       "75%                        0.028986                        0.020000   \n",
       "max                        1.000000                        1.000000   \n",
       "\n",
       "       normalized_Occurence_in_Wikipedia  \n",
       "count                         114.000000  \n",
       "mean                            0.046235  \n",
       "std                             0.131566  \n",
       "min                             0.003216  \n",
       "25%                             0.005429  \n",
       "50%                             0.008165  \n",
       "75%                             0.020928  \n",
       "max                             1.000000  "
      ]
     },
     "execution_count": 19,
     "metadata": {},
     "output_type": "execute_result"
    },
    {
     "data": {
      "image/png": "[encoded data removed]",
      "text/plain": [
       "<Figure size 1080x504 with 1 Axes>"
      ]
     },
     "metadata": {
      "needs_background": "light"
     },
     "output_type": "display_data"
    }
   ],
   "source": [
    "normalized_data = [\"normalized_Occurence_in_News\",\"Occurence_in_Google_normalized\",\"normalized_Occurence_in_Wikipedia\"]\n",
    "x = plot_Occurence_over_time_linegraph(Occurence_df,\"Ukraine\", normalized_data,(20,8))\n",
    "x.describe()"
   ]
  },
  {
   "cell_type": "markdown",
   "id": "31e8fd37",
   "metadata": {},
   "source": [
    "# Create correlation dataframe"
   ]
  },
  {
   "cell_type": "code",
   "execution_count": 99,
   "id": "2912771a",
   "metadata": {},
   "outputs": [],
   "source": [
    "normalized_data = [\"normalized_Occurence_in_News\",\"Occurence_in_Google_normalized\",\"normalized_Occurence_in_Wikipedia\"]\n",
    "\n",
    "def calculate_correlation(dataframe):  \n",
    "    decimals = 2\n",
    "    \n",
    "    News = dataframe[\"normalized_Occurence_in_News\"]\n",
    "    Google = dataframe[\"Occurence_in_Google_normalized\"]\n",
    "    Wikipedia = dataframe[\"normalized_Occurence_in_Wikipedia\"]\n",
    "    dataframe[\"correlation_news_google\"] = round(News.corr(Google) , decimals)\n",
    "    dataframe[\"correlation_news_wikipedia\"] = round(News.corr(Wikipedia), decimals)\n",
    "    dataframe[\"correlation_google_wikipedia\"] = round(Google.corr(Wikipedia), decimals)\n",
    "    \n",
    "    \n",
    "    return dataframe\n",
    "\n",
    "Correlation_DataFrame = Occurence_df.groupby(\"KeyWord\").apply(calculate_correlation)\n",
    "Correlation_DataFrame = Correlation_DataFrame.sort_values(\"correlation_news_google\", ascending=False)\n",
    "Correlation_DataFrame= Correlation_DataFrame.drop_duplicates(subset=\"KeyWord\")\n",
    "Correlation_DataFrame = Correlation_DataFrame[[\"KeyWord\",\"correlation_news_google\", \"correlation_news_wikipedia\", \"correlation_google_wikipedia\"]]\n",
    "saveCSV(Correlation_DataFrame, \"Correlation_DataFrame_short\")\n",
    "\n",
    "    "
   ]
  }
 ],
 "metadata": {
  "kernelspec": {
   "display_name": "Python 3",
   "language": "python",
   "name": "python3"
  },
  "language_info": {
   "codemirror_mode": {
    "name": "ipython",
    "version": 3
   },
   "file_extension": ".py",
   "mimetype": "text/x-python",
   "name": "python",
   "nbconvert_exporter": "python",
   "pygments_lexer": "ipython3",
   "version": "3.8.8"
  }
 },
 "nbformat": 4,
 "nbformat_minor": 5
}
