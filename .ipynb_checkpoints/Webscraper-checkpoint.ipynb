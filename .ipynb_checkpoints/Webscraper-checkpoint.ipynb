{
 "cells": [
  {
   "cell_type": "markdown",
   "id": "acf16803",
   "metadata": {},
   "source": [
    "# German news pages Webscraper"
   ]
  },
  {
   "cell_type": "markdown",
   "id": "412dde10",
   "metadata": {},
   "source": [
    "## Imports"
   ]
  },
  {
   "cell_type": "code",
   "execution_count": 5,
   "id": "f98f9fb5",
   "metadata": {},
   "outputs": [],
   "source": [
    "import os\n",
    "import csv\n",
    "import datetime\n",
    "\n",
    "from selenium import webdriver\n",
    "from selenium.webdriver.common.keys import Keys\n",
    "from selenium.webdriver.chrome.service import Service\n",
    "from selenium.webdriver.chrome.options import Options\n",
    "import logging"
   ]
  },
  {
   "cell_type": "markdown",
   "id": "7f144091",
   "metadata": {},
   "source": []
  },
  {
   "cell_type": "code",
   "execution_count": 7,
   "id": "82c49e0d",
   "metadata": {},
   "outputs": [],
   "source": [
    "def create_logfile():\n",
    "    date_time = datetime.datetime.today().strftime('%d-%b-%y_%H:%M:%S')\n",
    "    logfile = f\"/Users/jan/Documents/Python_Projects/Bachelorthesis/log/{date_time}.log\"\n",
    "    logging.basicConfig(filename=logfile, filemode='w', level=logging.INFO, format='%(asctime)s - %(levelname)s - %(message)s', datefmt='%d-%b-%y %H:%M:%S', force=True)\n",
    "    logging.info(f'Log file {logfile} created')\n",
    "    return logging\n",
    "\n",
    "def create_html_file(html, newsPage_name, logging):\n",
    "    # delete file if it already exists\n",
    "    logging.info(\"Check if html already created\")\n",
    "    if os.path.exists(filename):\n",
    "        os.remove(file)\n",
    "        logging.info(f\"{filename} deleted\")\n",
    "    else:\n",
    "        logging.info(f\"{filename} doesnt exist yet\")\n",
    "    \n",
    "    # create file\n",
    "    filepath=\"/Users/jan/Documents/Python_Projects/Bachelorthesis/HTML_Backlog/\"\n",
    "    logging.info(f\"Creating html file @ {filepath}\")\n",
    "    dateTime=datetime.datetime.now()\n",
    "    \n",
    "    filename=filename+\"_\"+now.strftime(\"%d%m%Y_%H_%M_%S\") + \".html\"\n",
    "    logging.info(f\"Creating html file @ {filepath}/{filename}\")\n",
    "    with open(filepath+filename,\"w+\") as file:\n",
    "        file.write(str(html))\n",
    "        file.close()\n",
    "        \n",
    "        \n",
    "def startChromedriver(URL,logging):\n",
    "    logging.info(f\"Starting Chromedriver with @ {URL}\")\n",
    "    ser = Service(\"/Applications/chromedriver\")\n",
    "\n",
    "    # start chrome driver\n",
    "    driver = webdriver.Chrome(service=ser)\n",
    "    driver.get(Indeed_Url)\n",
    "\n",
    "    # wait for cookies window\n",
    "    time.sleep(loadWindow_Time)\n",
    "\n",
    "    return driver\n",
    "    \n",
    "    \n",
    "def get_Spiegel_HTML(logging):\n",
    "    logging.info(\"Start scraping\")\n",
    "    \n",
    "    "
   ]
  },
  {
   "cell_type": "code",
   "execution_count": null,
   "id": "fa606133",
   "metadata": {},
   "outputs": [],
   "source": []
  },
  {
   "cell_type": "code",
   "execution_count": null,
   "id": "b46f3743",
   "metadata": {},
   "outputs": [],
   "source": []
  }
 ],
 "metadata": {
  "kernelspec": {
   "display_name": "Python 3",
   "language": "python",
   "name": "python3"
  },
  "language_info": {
   "codemirror_mode": {
    "name": "ipython",
    "version": 3
   },
   "file_extension": ".py",
   "mimetype": "text/x-python",
   "name": "python",
   "nbconvert_exporter": "python",
   "pygments_lexer": "ipython3",
   "version": "3.8.8"
  }
 },
 "nbformat": 4,
 "nbformat_minor": 5
}
